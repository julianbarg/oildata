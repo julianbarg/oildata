{
 "cells": [
  {
   "cell_type": "markdown",
   "metadata": {
    "slideshow": {
     "slide_type": "slide"
    }
   },
   "source": [
    "# Interpret Topics"
   ]
  },
  {
   "cell_type": "code",
   "execution_count": 1,
   "metadata": {
    "execution": {
     "iopub.execute_input": "2020-11-10T19:12:30.562278Z",
     "iopub.status.busy": "2020-11-10T19:12:30.560103Z",
     "iopub.status.idle": "2020-11-10T19:12:32.943390Z",
     "shell.execute_reply": "2020-11-10T19:12:32.942584Z"
    },
    "slideshow": {
     "slide_type": "skip"
    }
   },
   "outputs": [],
   "source": [
    "# library(\"oildata\")\n",
    "library(\"incidentmodels\")\n",
    "suppressMessages(library(\"tidyverse\"))\n",
    "library(\"tidytext\")\n",
    "suppressMessages(library(\"magrittr\"))\n",
    "suppressMessages(library(\"glue\"))\n",
    "suppressMessages(library(\"here\"))\n",
    "\n",
    "data_folder <- purrr::partial(here, \"data-raw\", \".temp\", \"data\")"
   ]
  },
  {
   "cell_type": "code",
   "execution_count": 2,
   "metadata": {
    "execution": {
     "iopub.execute_input": "2020-11-10T19:12:32.970562Z",
     "iopub.status.busy": "2020-11-10T19:12:32.946207Z",
     "iopub.status.idle": "2020-11-10T19:12:33.221017Z",
     "shell.execute_reply": "2020-11-10T19:12:33.219739Z"
    },
    "slideshow": {
     "slide_type": "subslide"
    }
   },
   "outputs": [
    {
     "data": {
      "text/html": [
       "<table>\n",
       "<caption>A tibble: 6 × 9</caption>\n",
       "<thead>\n",
       "\t<tr><th scope=col>incident_ID</th><th scope=col>ID</th><th scope=col>year</th><th scope=col>commodity</th><th scope=col>on_offshore</th><th scope=col>topic</th><th scope=col>gamma</th><th scope=col>label</th><th scope=col>cause_topic</th></tr>\n",
       "\t<tr><th scope=col>&lt;chr&gt;</th><th scope=col>&lt;chr&gt;</th><th scope=col>&lt;dbl&gt;</th><th scope=col>&lt;chr&gt;</th><th scope=col>&lt;chr&gt;</th><th scope=col>&lt;int&gt;</th><th scope=col>&lt;dbl&gt;</th><th scope=col>&lt;chr&gt;</th><th scope=col>&lt;lgl&gt;</th></tr>\n",
       "</thead>\n",
       "<tbody>\n",
       "\t<tr><td>20040015</td><td>19237</td><td>2004</td><td>rpp</td><td>onshore</td><td>1</td><td>0.03150599</td><td>NA</td><td>NA</td></tr>\n",
       "\t<tr><td>20040015</td><td>19237</td><td>2004</td><td>rpp</td><td>onshore</td><td>2</td><td>0.03150599</td><td>NA</td><td>NA</td></tr>\n",
       "\t<tr><td>20040015</td><td>19237</td><td>2004</td><td>rpp</td><td>onshore</td><td>3</td><td>0.04599874</td><td>NA</td><td>NA</td></tr>\n",
       "\t<tr><td>20040015</td><td>19237</td><td>2004</td><td>rpp</td><td>onshore</td><td>4</td><td>0.17643352</td><td>NA</td><td>NA</td></tr>\n",
       "\t<tr><td>20040015</td><td>19237</td><td>2004</td><td>rpp</td><td>onshore</td><td>5</td><td>0.03150599</td><td>NA</td><td>NA</td></tr>\n",
       "\t<tr><td>20040015</td><td>19237</td><td>2004</td><td>rpp</td><td>onshore</td><td>6</td><td>0.03150599</td><td>NA</td><td>NA</td></tr>\n",
       "</tbody>\n",
       "</table>\n"
      ],
      "text/latex": [
       "A tibble: 6 × 9\n",
       "\\begin{tabular}{lllllllll}\n",
       " incident\\_ID & ID & year & commodity & on\\_offshore & topic & gamma & label & cause\\_topic\\\\\n",
       " <chr> & <chr> & <dbl> & <chr> & <chr> & <int> & <dbl> & <chr> & <lgl>\\\\\n",
       "\\hline\n",
       "\t 20040015 & 19237 & 2004 & rpp & onshore & 1 & 0.03150599 & NA & NA\\\\\n",
       "\t 20040015 & 19237 & 2004 & rpp & onshore & 2 & 0.03150599 & NA & NA\\\\\n",
       "\t 20040015 & 19237 & 2004 & rpp & onshore & 3 & 0.04599874 & NA & NA\\\\\n",
       "\t 20040015 & 19237 & 2004 & rpp & onshore & 4 & 0.17643352 & NA & NA\\\\\n",
       "\t 20040015 & 19237 & 2004 & rpp & onshore & 5 & 0.03150599 & NA & NA\\\\\n",
       "\t 20040015 & 19237 & 2004 & rpp & onshore & 6 & 0.03150599 & NA & NA\\\\\n",
       "\\end{tabular}\n"
      ],
      "text/markdown": [
       "\n",
       "A tibble: 6 × 9\n",
       "\n",
       "| incident_ID &lt;chr&gt; | ID &lt;chr&gt; | year &lt;dbl&gt; | commodity &lt;chr&gt; | on_offshore &lt;chr&gt; | topic &lt;int&gt; | gamma &lt;dbl&gt; | label &lt;chr&gt; | cause_topic &lt;lgl&gt; |\n",
       "|---|---|---|---|---|---|---|---|---|\n",
       "| 20040015 | 19237 | 2004 | rpp | onshore | 1 | 0.03150599 | NA | NA |\n",
       "| 20040015 | 19237 | 2004 | rpp | onshore | 2 | 0.03150599 | NA | NA |\n",
       "| 20040015 | 19237 | 2004 | rpp | onshore | 3 | 0.04599874 | NA | NA |\n",
       "| 20040015 | 19237 | 2004 | rpp | onshore | 4 | 0.17643352 | NA | NA |\n",
       "| 20040015 | 19237 | 2004 | rpp | onshore | 5 | 0.03150599 | NA | NA |\n",
       "| 20040015 | 19237 | 2004 | rpp | onshore | 6 | 0.03150599 | NA | NA |\n",
       "\n"
      ],
      "text/plain": [
       "  incident_ID ID    year commodity on_offshore topic gamma      label\n",
       "1 20040015    19237 2004 rpp       onshore     1     0.03150599 NA   \n",
       "2 20040015    19237 2004 rpp       onshore     2     0.03150599 NA   \n",
       "3 20040015    19237 2004 rpp       onshore     3     0.04599874 NA   \n",
       "4 20040015    19237 2004 rpp       onshore     4     0.17643352 NA   \n",
       "5 20040015    19237 2004 rpp       onshore     5     0.03150599 NA   \n",
       "6 20040015    19237 2004 rpp       onshore     6     0.03150599 NA   \n",
       "  cause_topic\n",
       "1 NA         \n",
       "2 NA         \n",
       "3 NA         \n",
       "4 NA         \n",
       "5 NA         \n",
       "6 NA         "
      ]
     },
     "metadata": {},
     "output_type": "display_data"
    }
   ],
   "source": [
    "gammas <- readRDS(data_folder(\"gammas.rds\"))\n",
    "gammas$label <- as.character(NA)\n",
    "gammas$cause_topic <- NA\n",
    "head(gammas)"
   ]
  },
  {
   "cell_type": "code",
   "execution_count": 3,
   "metadata": {
    "execution": {
     "iopub.execute_input": "2020-11-10T19:12:33.226151Z",
     "iopub.status.busy": "2020-11-10T19:12:33.224688Z",
     "iopub.status.idle": "2020-11-10T19:12:33.291300Z",
     "shell.execute_reply": "2020-11-10T19:12:33.289621Z"
    },
    "slideshow": {
     "slide_type": "subslide"
    }
   },
   "outputs": [
    {
     "data": {
      "text/html": [
       "<table>\n",
       "<caption>A tibble: 6 × 3</caption>\n",
       "<thead>\n",
       "\t<tr><th scope=col>topic</th><th scope=col>term</th><th scope=col>beta</th></tr>\n",
       "\t<tr><th scope=col>&lt;int&gt;</th><th scope=col>&lt;chr&gt;</th><th scope=col>&lt;dbl&gt;</th></tr>\n",
       "</thead>\n",
       "<tbody>\n",
       "\t<tr><td>1</td><td>line</td><td>7.913214e-05</td></tr>\n",
       "\t<tr><td>2</td><td>line</td><td>7.982247e-06</td></tr>\n",
       "\t<tr><td>3</td><td>line</td><td>4.370248e-03</td></tr>\n",
       "\t<tr><td>4</td><td>line</td><td>8.421904e-06</td></tr>\n",
       "\t<tr><td>5</td><td>line</td><td>6.856923e-06</td></tr>\n",
       "\t<tr><td>6</td><td>line</td><td>3.538048e-01</td></tr>\n",
       "</tbody>\n",
       "</table>\n"
      ],
      "text/latex": [
       "A tibble: 6 × 3\n",
       "\\begin{tabular}{lll}\n",
       " topic & term & beta\\\\\n",
       " <int> & <chr> & <dbl>\\\\\n",
       "\\hline\n",
       "\t 1 & line & 7.913214e-05\\\\\n",
       "\t 2 & line & 7.982247e-06\\\\\n",
       "\t 3 & line & 4.370248e-03\\\\\n",
       "\t 4 & line & 8.421904e-06\\\\\n",
       "\t 5 & line & 6.856923e-06\\\\\n",
       "\t 6 & line & 3.538048e-01\\\\\n",
       "\\end{tabular}\n"
      ],
      "text/markdown": [
       "\n",
       "A tibble: 6 × 3\n",
       "\n",
       "| topic &lt;int&gt; | term &lt;chr&gt; | beta &lt;dbl&gt; |\n",
       "|---|---|---|\n",
       "| 1 | line | 7.913214e-05 |\n",
       "| 2 | line | 7.982247e-06 |\n",
       "| 3 | line | 4.370248e-03 |\n",
       "| 4 | line | 8.421904e-06 |\n",
       "| 5 | line | 6.856923e-06 |\n",
       "| 6 | line | 3.538048e-01 |\n",
       "\n"
      ],
      "text/plain": [
       "  topic term beta        \n",
       "1 1     line 7.913214e-05\n",
       "2 2     line 7.982247e-06\n",
       "3 3     line 4.370248e-03\n",
       "4 4     line 8.421904e-06\n",
       "5 5     line 6.856923e-06\n",
       "6 6     line 3.538048e-01"
      ]
     },
     "metadata": {},
     "output_type": "display_data"
    }
   ],
   "source": [
    "head(betas)"
   ]
  },
  {
   "cell_type": "markdown",
   "metadata": {
    "slideshow": {
     "slide_type": "slide"
    }
   },
   "source": [
    "## Functions"
   ]
  },
  {
   "cell_type": "code",
   "execution_count": 4,
   "metadata": {
    "execution": {
     "iopub.execute_input": "2020-11-10T19:12:33.296550Z",
     "iopub.status.busy": "2020-11-10T19:12:33.295312Z",
     "iopub.status.idle": "2020-11-10T19:12:33.399256Z",
     "shell.execute_reply": "2020-11-10T19:12:33.398196Z"
    }
   },
   "outputs": [
    {
     "data": {
      "text/html": [
       "<table>\n",
       "<caption>A tibble: 6 × 3</caption>\n",
       "<thead>\n",
       "\t<tr><th scope=col>topic</th><th scope=col>term</th><th scope=col>beta</th></tr>\n",
       "\t<tr><th scope=col>&lt;int&gt;</th><th scope=col>&lt;chr&gt;</th><th scope=col>&lt;dbl&gt;</th></tr>\n",
       "</thead>\n",
       "<tbody>\n",
       "\t<tr><td>1</td><td>nrc     </td><td>0.06489555</td></tr>\n",
       "\t<tr><td>1</td><td>determin</td><td>0.05266603</td></tr>\n",
       "\t<tr><td>1</td><td>report  </td><td>0.05065176</td></tr>\n",
       "\t<tr><td>1</td><td>cost    </td><td>0.04022071</td></tr>\n",
       "\t<tr><td>1</td><td>estim   </td><td>0.04014877</td></tr>\n",
       "\t<tr><td>1</td><td>releas  </td><td>0.03669573</td></tr>\n",
       "</tbody>\n",
       "</table>\n"
      ],
      "text/latex": [
       "A tibble: 6 × 3\n",
       "\\begin{tabular}{lll}\n",
       " topic & term & beta\\\\\n",
       " <int> & <chr> & <dbl>\\\\\n",
       "\\hline\n",
       "\t 1 & nrc      & 0.06489555\\\\\n",
       "\t 1 & determin & 0.05266603\\\\\n",
       "\t 1 & report   & 0.05065176\\\\\n",
       "\t 1 & cost     & 0.04022071\\\\\n",
       "\t 1 & estim    & 0.04014877\\\\\n",
       "\t 1 & releas   & 0.03669573\\\\\n",
       "\\end{tabular}\n"
      ],
      "text/markdown": [
       "\n",
       "A tibble: 6 × 3\n",
       "\n",
       "| topic &lt;int&gt; | term &lt;chr&gt; | beta &lt;dbl&gt; |\n",
       "|---|---|---|\n",
       "| 1 | nrc      | 0.06489555 |\n",
       "| 1 | determin | 0.05266603 |\n",
       "| 1 | report   | 0.05065176 |\n",
       "| 1 | cost     | 0.04022071 |\n",
       "| 1 | estim    | 0.04014877 |\n",
       "| 1 | releas   | 0.03669573 |\n",
       "\n"
      ],
      "text/plain": [
       "  topic term     beta      \n",
       "1 1     nrc      0.06489555\n",
       "2 1     determin 0.05266603\n",
       "3 1     report   0.05065176\n",
       "4 1     cost     0.04022071\n",
       "5 1     estim    0.04014877\n",
       "6 1     releas   0.03669573"
      ]
     },
     "metadata": {},
     "output_type": "display_data"
    }
   ],
   "source": [
    "top_terms <- betas %>%\n",
    "    arrange(desc(beta)) %>%\n",
    "    group_by(topic) %>%\n",
    "    slice_head(n = 8) %>%\n",
    "    ungroup() %>%\n",
    "    arrange(topic, -beta)\n",
    "\n",
    "head(top_terms)"
   ]
  },
  {
   "cell_type": "code",
   "execution_count": 5,
   "metadata": {
    "execution": {
     "iopub.execute_input": "2020-11-10T19:12:33.404393Z",
     "iopub.status.busy": "2020-11-10T19:12:33.402731Z",
     "iopub.status.idle": "2020-11-10T19:12:33.531147Z",
     "shell.execute_reply": "2020-11-10T19:12:33.530238Z"
    }
   },
   "outputs": [],
   "source": [
    "get_terms <- function(topic) {\n",
    "    filter(top_terms, topic == {{ topic }})\n",
    "}\n",
    "narratives <- select(incidents, incident_ID, narrative) %>%\n",
    "    mutate(incident_ID = as.character(incident_ID))\n",
    "get_narrative <- function(topic) {\n",
    "    gammas %>%\n",
    "        filter(topic == {{ topic }}) %>%\n",
    "        filter(gamma == max(gamma)) %>%\n",
    "        left_join(narratives, by = \"incident_ID\") %$%\n",
    "        glue(\"Incident ID: {incident_ID}\n",
    "              Operator ID: {ID}\n",
    "\n",
    "              {narrative}\")\n",
    "}"
   ]
  },
  {
   "cell_type": "markdown",
   "metadata": {
    "slideshow": {
     "slide_type": "slide"
    }
   },
   "source": [
    "## Topics 1-5"
   ]
  },
  {
   "cell_type": "markdown",
   "metadata": {
    "slideshow": {
     "slide_type": "subslide"
    }
   },
   "source": [
    "### Topic 1"
   ]
  },
  {
   "cell_type": "code",
   "execution_count": 6,
   "metadata": {
    "execution": {
     "iopub.execute_input": "2020-11-10T19:12:33.536341Z",
     "iopub.status.busy": "2020-11-10T19:12:33.534984Z",
     "iopub.status.idle": "2020-11-10T19:12:33.558773Z",
     "shell.execute_reply": "2020-11-10T19:12:33.557524Z"
    }
   },
   "outputs": [
    {
     "data": {
      "text/html": [
       "<table>\n",
       "<caption>A tibble: 8 × 3</caption>\n",
       "<thead>\n",
       "\t<tr><th scope=col>topic</th><th scope=col>term</th><th scope=col>beta</th></tr>\n",
       "\t<tr><th scope=col>&lt;int&gt;</th><th scope=col>&lt;chr&gt;</th><th scope=col>&lt;dbl&gt;</th></tr>\n",
       "</thead>\n",
       "<tbody>\n",
       "\t<tr><td>1</td><td>nrc     </td><td>0.06489555</td></tr>\n",
       "\t<tr><td>1</td><td>determin</td><td>0.05266603</td></tr>\n",
       "\t<tr><td>1</td><td>report  </td><td>0.05065176</td></tr>\n",
       "\t<tr><td>1</td><td>cost    </td><td>0.04022071</td></tr>\n",
       "\t<tr><td>1</td><td>estim   </td><td>0.04014877</td></tr>\n",
       "\t<tr><td>1</td><td>releas  </td><td>0.03669573</td></tr>\n",
       "\t<tr><td>1</td><td>notif   </td><td>0.03086873</td></tr>\n",
       "\t<tr><td>1</td><td>time    </td><td>0.02712794</td></tr>\n",
       "</tbody>\n",
       "</table>\n"
      ],
      "text/latex": [
       "A tibble: 8 × 3\n",
       "\\begin{tabular}{lll}\n",
       " topic & term & beta\\\\\n",
       " <int> & <chr> & <dbl>\\\\\n",
       "\\hline\n",
       "\t 1 & nrc      & 0.06489555\\\\\n",
       "\t 1 & determin & 0.05266603\\\\\n",
       "\t 1 & report   & 0.05065176\\\\\n",
       "\t 1 & cost     & 0.04022071\\\\\n",
       "\t 1 & estim    & 0.04014877\\\\\n",
       "\t 1 & releas   & 0.03669573\\\\\n",
       "\t 1 & notif    & 0.03086873\\\\\n",
       "\t 1 & time     & 0.02712794\\\\\n",
       "\\end{tabular}\n"
      ],
      "text/markdown": [
       "\n",
       "A tibble: 8 × 3\n",
       "\n",
       "| topic &lt;int&gt; | term &lt;chr&gt; | beta &lt;dbl&gt; |\n",
       "|---|---|---|\n",
       "| 1 | nrc      | 0.06489555 |\n",
       "| 1 | determin | 0.05266603 |\n",
       "| 1 | report   | 0.05065176 |\n",
       "| 1 | cost     | 0.04022071 |\n",
       "| 1 | estim    | 0.04014877 |\n",
       "| 1 | releas   | 0.03669573 |\n",
       "| 1 | notif    | 0.03086873 |\n",
       "| 1 | time     | 0.02712794 |\n",
       "\n"
      ],
      "text/plain": [
       "  topic term     beta      \n",
       "1 1     nrc      0.06489555\n",
       "2 1     determin 0.05266603\n",
       "3 1     report   0.05065176\n",
       "4 1     cost     0.04022071\n",
       "5 1     estim    0.04014877\n",
       "6 1     releas   0.03669573\n",
       "7 1     notif    0.03086873\n",
       "8 1     time     0.02712794"
      ]
     },
     "metadata": {},
     "output_type": "display_data"
    }
   ],
   "source": [
    "get_terms(topic = 1)"
   ]
  },
  {
   "cell_type": "code",
   "execution_count": 7,
   "metadata": {
    "execution": {
     "iopub.execute_input": "2020-11-10T19:12:33.562500Z",
     "iopub.status.busy": "2020-11-10T19:12:33.561524Z",
     "iopub.status.idle": "2020-11-10T19:12:33.595095Z",
     "shell.execute_reply": "2020-11-10T19:12:33.593534Z"
    },
    "slideshow": {
     "slide_type": "subslide"
    }
   },
   "outputs": [
    {
     "name": "stdout",
     "output_type": "stream",
     "text": [
      "Incident ID: 20190167\n",
      "Operator ID: 32551\n",
      "\n",
      "During the night of wednesday may 8, 2019, the cushing area was inundated by a torrential rainfall event.  This event produced over 5 inches of rainfall in a matter of hours.  The roof drain system was unable to relieve the volume of water due to buildup of blast media in the check valve, preventing full actuation.  This caused the roof to draft to oil level in tank, resulting in a manway failure, which released oil onto the roof exiting via the drain.  At the time the release was discovered, the winds were steady at over 30 mph with gusts exceeding 45 mph.  The high winds pushed the oil into one corner of the containment and gave the appearance of a smaller release.  When the wind direction shifted, the oil circumvented the containment booms and covered the surface of the rainwater throughout the containment area.  On thursday, once the amount of oil in the containment area became clear, bkep estimated the cost of the response to be below $50,000.  On friday, may 10, remediation was nearly complete and the total estimated cost was $39,500.  In the early hours of saturday, may 11, another large storm system hit the cushing area, causing an additional 4-5 inches of rainfall.  That rain filled the containment berm and caused a sheen of oil on the rainwater within the containment.       The second major storm lengthened the response beyond the scope of the initial estimate and caused the total cost of the response to exceed $50,000.  That exceedance was not apparent until final invoices were received from the contractors the following week.  Bkep did not call the nrc at the time of the second storm as it was several days after the initial release.  Also, the part 195 criteria for immediate notification is based on estimates and not exact cost.  Bkep¿s interpretation of the language of adb-02-04 supported the view that an nrc call was not required for a final cost which is a small amount over the estimated value of less than $50k.  Adb-02-04 discusses when an additional call is required to the nrc to provide an update to initial estimates (which would be provided if those estimates are over 50k). It states that a damage cost estimate should be updated via an additional call if the cost is 10 times the estimated amount; for example, if the estimate had been $100,000, no update to the initial nrc call would be required unless the end cost exceeded $1 million.  Bkep interpreted the same logic to apply if an initial cost estimate was less than $50k and therefore did not trigger a notification requirement and the cost at the end of the cleanup totaled slightly over $50k.  Bkep's conclusion was that, based on the adb language, no nrc notification was required unless the end cost was significantly more than the initial estimates.  For this report, bkep has marked question a6 as \"required but not made\" at the direction of regulatory personnel.\n"
     ]
    }
   ],
   "source": [
    "print(get_narrative(1))"
   ]
  },
  {
   "cell_type": "markdown",
   "metadata": {
    "slideshow": {
     "slide_type": "subslide"
    }
   },
   "source": [
    "**This topic seems to be related to the management of incident reports**"
   ]
  },
  {
   "cell_type": "code",
   "execution_count": 8,
   "metadata": {
    "execution": {
     "iopub.execute_input": "2020-11-10T19:12:33.602413Z",
     "iopub.status.busy": "2020-11-10T19:12:33.600511Z",
     "iopub.status.idle": "2020-11-10T19:12:33.771532Z",
     "shell.execute_reply": "2020-11-10T19:12:33.769893Z"
    }
   },
   "outputs": [],
   "source": [
    "gammas[gammas$topic == 1, ]$label <- \"report_mngt\"\n",
    "gammas[gammas$topic == 1, ]$cause_topic <- F"
   ]
  },
  {
   "cell_type": "markdown",
   "metadata": {
    "slideshow": {
     "slide_type": "subslide"
    }
   },
   "source": [
    "### Topic 2"
   ]
  },
  {
   "cell_type": "code",
   "execution_count": 9,
   "metadata": {
    "execution": {
     "iopub.execute_input": "2020-11-10T19:12:33.777204Z",
     "iopub.status.busy": "2020-11-10T19:12:33.775423Z",
     "iopub.status.idle": "2020-11-10T19:12:33.805672Z",
     "shell.execute_reply": "2020-11-10T19:12:33.804193Z"
    }
   },
   "outputs": [
    {
     "data": {
      "text/html": [
       "<table>\n",
       "<caption>A tibble: 8 × 3</caption>\n",
       "<thead>\n",
       "\t<tr><th scope=col>topic</th><th scope=col>term</th><th scope=col>beta</th></tr>\n",
       "\t<tr><th scope=col>&lt;int&gt;</th><th scope=col>&lt;chr&gt;</th><th scope=col>&lt;dbl&gt;</th></tr>\n",
       "</thead>\n",
       "<tbody>\n",
       "\t<tr><td>2</td><td>oper     </td><td>0.23787896</td></tr>\n",
       "\t<tr><td>2</td><td>personnel</td><td>0.09036702</td></tr>\n",
       "\t<tr><td>2</td><td>local    </td><td>0.06929389</td></tr>\n",
       "\t<tr><td>2</td><td>facil    </td><td>0.05237153</td></tr>\n",
       "\t<tr><td>2</td><td>investig </td><td>0.04031833</td></tr>\n",
       "\t<tr><td>2</td><td>immedi   </td><td>0.03169750</td></tr>\n",
       "\t<tr><td>2</td><td>discov   </td><td>0.02714762</td></tr>\n",
       "\t<tr><td>2</td><td>isol     </td><td>0.02076183</td></tr>\n",
       "</tbody>\n",
       "</table>\n"
      ],
      "text/latex": [
       "A tibble: 8 × 3\n",
       "\\begin{tabular}{lll}\n",
       " topic & term & beta\\\\\n",
       " <int> & <chr> & <dbl>\\\\\n",
       "\\hline\n",
       "\t 2 & oper      & 0.23787896\\\\\n",
       "\t 2 & personnel & 0.09036702\\\\\n",
       "\t 2 & local     & 0.06929389\\\\\n",
       "\t 2 & facil     & 0.05237153\\\\\n",
       "\t 2 & investig  & 0.04031833\\\\\n",
       "\t 2 & immedi    & 0.03169750\\\\\n",
       "\t 2 & discov    & 0.02714762\\\\\n",
       "\t 2 & isol      & 0.02076183\\\\\n",
       "\\end{tabular}\n"
      ],
      "text/markdown": [
       "\n",
       "A tibble: 8 × 3\n",
       "\n",
       "| topic &lt;int&gt; | term &lt;chr&gt; | beta &lt;dbl&gt; |\n",
       "|---|---|---|\n",
       "| 2 | oper      | 0.23787896 |\n",
       "| 2 | personnel | 0.09036702 |\n",
       "| 2 | local     | 0.06929389 |\n",
       "| 2 | facil     | 0.05237153 |\n",
       "| 2 | investig  | 0.04031833 |\n",
       "| 2 | immedi    | 0.03169750 |\n",
       "| 2 | discov    | 0.02714762 |\n",
       "| 2 | isol      | 0.02076183 |\n",
       "\n"
      ],
      "text/plain": [
       "  topic term      beta      \n",
       "1 2     oper      0.23787896\n",
       "2 2     personnel 0.09036702\n",
       "3 2     local     0.06929389\n",
       "4 2     facil     0.05237153\n",
       "5 2     investig  0.04031833\n",
       "6 2     immedi    0.03169750\n",
       "7 2     discov    0.02714762\n",
       "8 2     isol      0.02076183"
      ]
     },
     "metadata": {},
     "output_type": "display_data"
    }
   ],
   "source": [
    "get_terms(topic = 2)"
   ]
  },
  {
   "cell_type": "code",
   "execution_count": 10,
   "metadata": {
    "execution": {
     "iopub.execute_input": "2020-11-10T19:12:33.812033Z",
     "iopub.status.busy": "2020-11-10T19:12:33.810644Z",
     "iopub.status.idle": "2020-11-10T19:12:33.851657Z",
     "shell.execute_reply": "2020-11-10T19:12:33.850117Z"
    },
    "slideshow": {
     "slide_type": "subslide"
    }
   },
   "outputs": [
    {
     "name": "stdout",
     "output_type": "stream",
     "text": [
      "Incident ID: 20120331\n",
      "Operator ID: 32602\n",
      "\n",
      "Operator making routine rounds on facility discovered crude oil coming up from the ground in the right of way for the dot pipeline. Upon discovery of the leak, operator notified facility operations supervisor (fos) of leak.  Fos contacted assistant facility operations supervisor who then proceeded to site 3 to isolate shipping pump and block valve for line (shipping pump was not shipping oil at time of leak).  Operator who discovered leak then proceeded to site 11 to close next block valve on pipeline to isolate leak.  Operators contained leak and called for clean up contractors.\n"
     ]
    }
   ],
   "source": [
    "print(get_narrative(2))"
   ]
  },
  {
   "cell_type": "markdown",
   "metadata": {
    "slideshow": {
     "slide_type": "subslide"
    }
   },
   "source": [
    "**This topic is related to the management of spills**"
   ]
  },
  {
   "cell_type": "code",
   "execution_count": 11,
   "metadata": {
    "execution": {
     "iopub.execute_input": "2020-11-10T19:12:33.857590Z",
     "iopub.status.busy": "2020-11-10T19:12:33.855860Z",
     "iopub.status.idle": "2020-11-10T19:12:33.883255Z",
     "shell.execute_reply": "2020-11-10T19:12:33.882169Z"
    }
   },
   "outputs": [],
   "source": [
    "gammas[gammas$topic == 2, ]$label <- \"spill_mngt\"\n",
    "gammas[gammas$topic == 2, ]$cause_topic <- F"
   ]
  },
  {
   "cell_type": "markdown",
   "metadata": {
    "slideshow": {
     "slide_type": "subslide"
    }
   },
   "source": [
    "### Topic 3"
   ]
  },
  {
   "cell_type": "code",
   "execution_count": 12,
   "metadata": {
    "execution": {
     "iopub.execute_input": "2020-11-10T19:12:33.889043Z",
     "iopub.status.busy": "2020-11-10T19:12:33.887227Z",
     "iopub.status.idle": "2020-11-10T19:12:33.923393Z",
     "shell.execute_reply": "2020-11-10T19:12:33.921993Z"
    }
   },
   "outputs": [
    {
     "data": {
      "text/html": [
       "<table>\n",
       "<caption>A tibble: 8 × 3</caption>\n",
       "<thead>\n",
       "\t<tr><th scope=col>topic</th><th scope=col>term</th><th scope=col>beta</th></tr>\n",
       "\t<tr><th scope=col>&lt;int&gt;</th><th scope=col>&lt;chr&gt;</th><th scope=col>&lt;dbl&gt;</th></tr>\n",
       "</thead>\n",
       "<tbody>\n",
       "\t<tr><td>3</td><td>pipelin   </td><td>0.11802786</td></tr>\n",
       "\t<tr><td>3</td><td>contractor</td><td>0.04947495</td></tr>\n",
       "\t<tr><td>3</td><td>excav     </td><td>0.04464508</td></tr>\n",
       "\t<tr><td>3</td><td>call      </td><td>0.03973732</td></tr>\n",
       "\t<tr><td>3</td><td>locat     </td><td>0.03054500</td></tr>\n",
       "\t<tr><td>3</td><td>parti     </td><td>0.02883117</td></tr>\n",
       "\t<tr><td>3</td><td>damag     </td><td>0.02197588</td></tr>\n",
       "\t<tr><td>3</td><td>feet      </td><td>0.01566590</td></tr>\n",
       "</tbody>\n",
       "</table>\n"
      ],
      "text/latex": [
       "A tibble: 8 × 3\n",
       "\\begin{tabular}{lll}\n",
       " topic & term & beta\\\\\n",
       " <int> & <chr> & <dbl>\\\\\n",
       "\\hline\n",
       "\t 3 & pipelin    & 0.11802786\\\\\n",
       "\t 3 & contractor & 0.04947495\\\\\n",
       "\t 3 & excav      & 0.04464508\\\\\n",
       "\t 3 & call       & 0.03973732\\\\\n",
       "\t 3 & locat      & 0.03054500\\\\\n",
       "\t 3 & parti      & 0.02883117\\\\\n",
       "\t 3 & damag      & 0.02197588\\\\\n",
       "\t 3 & feet       & 0.01566590\\\\\n",
       "\\end{tabular}\n"
      ],
      "text/markdown": [
       "\n",
       "A tibble: 8 × 3\n",
       "\n",
       "| topic &lt;int&gt; | term &lt;chr&gt; | beta &lt;dbl&gt; |\n",
       "|---|---|---|\n",
       "| 3 | pipelin    | 0.11802786 |\n",
       "| 3 | contractor | 0.04947495 |\n",
       "| 3 | excav      | 0.04464508 |\n",
       "| 3 | call       | 0.03973732 |\n",
       "| 3 | locat      | 0.03054500 |\n",
       "| 3 | parti      | 0.02883117 |\n",
       "| 3 | damag      | 0.02197588 |\n",
       "| 3 | feet       | 0.01566590 |\n",
       "\n"
      ],
      "text/plain": [
       "  topic term       beta      \n",
       "1 3     pipelin    0.11802786\n",
       "2 3     contractor 0.04947495\n",
       "3 3     excav      0.04464508\n",
       "4 3     call       0.03973732\n",
       "5 3     locat      0.03054500\n",
       "6 3     parti      0.02883117\n",
       "7 3     damag      0.02197588\n",
       "8 3     feet       0.01566590"
      ]
     },
     "metadata": {},
     "output_type": "display_data"
    }
   ],
   "source": [
    "get_terms(topic = 3)"
   ]
  },
  {
   "cell_type": "code",
   "execution_count": 13,
   "metadata": {
    "execution": {
     "iopub.execute_input": "2020-11-10T19:12:33.928366Z",
     "iopub.status.busy": "2020-11-10T19:12:33.927025Z",
     "iopub.status.idle": "2020-11-10T19:12:33.953101Z",
     "shell.execute_reply": "2020-11-10T19:12:33.951772Z"
    },
    "slideshow": {
     "slide_type": "subslide"
    }
   },
   "outputs": [
    {
     "name": "stdout",
     "output_type": "stream",
     "text": [
      "Incident ID: 20130246\n",
      "Operator ID: 32011\n",
      "\n",
      "¿Tech con trenching struck the pipeline while trenching on june 12, 2013.  Tech con had failed to (1) send proper one-call notification; (2) accurately identify or white line the area of excavation; or (3) notify holly energy prior to excavating and/or exposing (pot-holing) the pipeline so that holly energy could re-mark the pipeline and witness this excavation process as requested in accordance with texas utility code subchapter d sec. 251.151(c).      Tech con trenching never notified holly energy of its intent to excavate across holly energy's pipeline. Holly energy received a one-call notice from jd king on the evening of june 6. Holly energy does not fully understand the connection between tech con trenching and jd king, but both entities appeared to have been working on the same project for which tech con trenching was conducting trenching on june 13.  On the morning of june 7, john osborne of holly energy called ricky knelsen of jd king at the number identified on the one-call notification ticket but received no response. On the morning of june 10 (june 8 and 9 were weekend days), osborne reached knelsen by telephone to request a description of where jd king planned to excavate. The one-call ticket did not provide a clear identification of the area, and neither jd king (nor tech con trenching) had marked the proposed excavation area with white lines.     After osborne explained the location of holly energy's pipeline, knelsen told osborne that jd king would not start excavating in the vicinity of the pipeline until the week of june 17. Osborne and knelsen agreed that the two would meet at the site at this time so that knelsen could identify where the excavation would cross the pipeline and osborne would mark the pipeline in advance of trenching activities. Knelsen said that he would call osborne when the excavation was closer to the pipeline to arrange the meeting specifics. Osborne also told knelsen that holly energy wished to be present during excavation so that osborne could visually observe pot-holes cored adjacent to the pipeline and to ensure that excavation below holly energy's pipeline was performed safely.     As indicated above, knelsen told osborne that jd king would not arrive to the pipeline area until the week of june 17. But, the excavators moved into the area much sooner than osborne had been told, and neither knelsen nor anyone else with jd king called osborne to inform him of this fact. On june 12, excavation equipment hit holly energy's pipeline, causing significant damage and the release of product to the environment.     It is noteworthy that, as a result of a prior one-call notification, holly energy's pipeline was already marked in the area where the trenching equipment hit the pipeline with yellow pin flags. Holly energy's yellow pin flags. Holly energy's yellow pin flags were still present and visible when holly energy representatives arrived to the site after its line was struck.\n"
     ]
    }
   ],
   "source": [
    "print(get_narrative(3))"
   ]
  },
  {
   "cell_type": "markdown",
   "metadata": {
    "slideshow": {
     "slide_type": "subslide"
    }
   },
   "source": [
    "**This topic is related to contractors and excavation**"
   ]
  },
  {
   "cell_type": "code",
   "execution_count": 14,
   "metadata": {
    "execution": {
     "iopub.execute_input": "2020-11-10T19:12:33.957896Z",
     "iopub.status.busy": "2020-11-10T19:12:33.956627Z",
     "iopub.status.idle": "2020-11-10T19:12:33.977583Z",
     "shell.execute_reply": "2020-11-10T19:12:33.976529Z"
    }
   },
   "outputs": [],
   "source": [
    "gammas[gammas$topic == 3, ]$label <- \"excavation\"\n",
    "gammas[gammas$topic == 3, ]$cause_topic <- T"
   ]
  },
  {
   "cell_type": "markdown",
   "metadata": {
    "slideshow": {
     "slide_type": "subslide"
    }
   },
   "source": [
    "### Topic 4"
   ]
  },
  {
   "cell_type": "code",
   "execution_count": 15,
   "metadata": {
    "execution": {
     "iopub.execute_input": "2020-11-10T19:12:33.982367Z",
     "iopub.status.busy": "2020-11-10T19:12:33.981053Z",
     "iopub.status.idle": "2020-11-10T19:12:34.004681Z",
     "shell.execute_reply": "2020-11-10T19:12:34.003460Z"
    }
   },
   "outputs": [
    {
     "data": {
      "text/html": [
       "<table>\n",
       "<caption>A tibble: 8 × 3</caption>\n",
       "<thead>\n",
       "\t<tr><th scope=col>topic</th><th scope=col>term</th><th scope=col>beta</th></tr>\n",
       "\t<tr><th scope=col>&lt;int&gt;</th><th scope=col>&lt;chr&gt;</th><th scope=col>&lt;dbl&gt;</th></tr>\n",
       "</thead>\n",
       "<tbody>\n",
       "\t<tr><td>4</td><td>drain  </td><td>0.11858883</td></tr>\n",
       "\t<tr><td>4</td><td>water  </td><td>0.06620458</td></tr>\n",
       "\t<tr><td>4</td><td>roof   </td><td>0.04590780</td></tr>\n",
       "\t<tr><td>4</td><td>product</td><td>0.03605417</td></tr>\n",
       "\t<tr><td>4</td><td>caus   </td><td>0.03024306</td></tr>\n",
       "\t<tr><td>4</td><td>system </td><td>0.02502148</td></tr>\n",
       "\t<tr><td>4</td><td>contain</td><td>0.02316866</td></tr>\n",
       "\t<tr><td>4</td><td>allow  </td><td>0.02038943</td></tr>\n",
       "</tbody>\n",
       "</table>\n"
      ],
      "text/latex": [
       "A tibble: 8 × 3\n",
       "\\begin{tabular}{lll}\n",
       " topic & term & beta\\\\\n",
       " <int> & <chr> & <dbl>\\\\\n",
       "\\hline\n",
       "\t 4 & drain   & 0.11858883\\\\\n",
       "\t 4 & water   & 0.06620458\\\\\n",
       "\t 4 & roof    & 0.04590780\\\\\n",
       "\t 4 & product & 0.03605417\\\\\n",
       "\t 4 & caus    & 0.03024306\\\\\n",
       "\t 4 & system  & 0.02502148\\\\\n",
       "\t 4 & contain & 0.02316866\\\\\n",
       "\t 4 & allow   & 0.02038943\\\\\n",
       "\\end{tabular}\n"
      ],
      "text/markdown": [
       "\n",
       "A tibble: 8 × 3\n",
       "\n",
       "| topic &lt;int&gt; | term &lt;chr&gt; | beta &lt;dbl&gt; |\n",
       "|---|---|---|\n",
       "| 4 | drain   | 0.11858883 |\n",
       "| 4 | water   | 0.06620458 |\n",
       "| 4 | roof    | 0.04590780 |\n",
       "| 4 | product | 0.03605417 |\n",
       "| 4 | caus    | 0.03024306 |\n",
       "| 4 | system  | 0.02502148 |\n",
       "| 4 | contain | 0.02316866 |\n",
       "| 4 | allow   | 0.02038943 |\n",
       "\n"
      ],
      "text/plain": [
       "  topic term    beta      \n",
       "1 4     drain   0.11858883\n",
       "2 4     water   0.06620458\n",
       "3 4     roof    0.04590780\n",
       "4 4     product 0.03605417\n",
       "5 4     caus    0.03024306\n",
       "6 4     system  0.02502148\n",
       "7 4     contain 0.02316866\n",
       "8 4     allow   0.02038943"
      ]
     },
     "metadata": {},
     "output_type": "display_data"
    }
   ],
   "source": [
    "get_terms(topic = 4)"
   ]
  },
  {
   "cell_type": "code",
   "execution_count": 16,
   "metadata": {
    "execution": {
     "iopub.execute_input": "2020-11-10T19:12:34.009517Z",
     "iopub.status.busy": "2020-11-10T19:12:34.008261Z",
     "iopub.status.idle": "2020-11-10T19:12:34.040589Z",
     "shell.execute_reply": "2020-11-10T19:12:34.039445Z"
    },
    "slideshow": {
     "slide_type": "subslide"
    }
   },
   "outputs": [
    {
     "name": "stdout",
     "output_type": "stream",
     "text": [
      "Incident ID: 20150231\n",
      "Operator ID: 22610\n",
      "\n",
      "From the evening of may 25 through the morning of may 26, 2015 an excessive rainfall event occurred resulting in at least 6 inches of rain in a very short period of time.  This rainfall subsequently resulted in houston being declared a national disaster area.  Even though the roof drain was open during the rain event, enough rainfall collected on the external floating roof of tank 1222 resulting in more weight being on the roof than the roof had the buoyancy to support.   As the rainwater accumulated on the roof, the added weight of the water caused the roof to tilt to one side forcing product up through the mechanical vacuum breaker(s) and the leg sleeves onto the external floating roof.  Over the subsequent days, product was transferred out of tank 1222 and an attempt to land the roof on the floor was made.  During the landing of the roof, a roof leg gouged a 3\" by 6\" hole in the floor that caused the remaining product bottoms to escape the tank.  Repairs were made to the floor and roof, and impacted soil was mitigated.\n"
     ]
    }
   ],
   "source": [
    "print(get_narrative(4))"
   ]
  },
  {
   "cell_type": "markdown",
   "metadata": {
    "slideshow": {
     "slide_type": "subslide"
    }
   },
   "source": [
    "**This topic is related to storms, water and related damages**"
   ]
  },
  {
   "cell_type": "code",
   "execution_count": 17,
   "metadata": {
    "execution": {
     "iopub.execute_input": "2020-11-10T19:12:34.045339Z",
     "iopub.status.busy": "2020-11-10T19:12:34.044068Z",
     "iopub.status.idle": "2020-11-10T19:12:34.197214Z",
     "shell.execute_reply": "2020-11-10T19:12:34.196168Z"
    }
   },
   "outputs": [],
   "source": [
    "gammas[gammas$topic == 4, ]$label <- \"water\"\n",
    "gammas[gammas$topic == 4, ]$cause_topic <- T"
   ]
  },
  {
   "cell_type": "markdown",
   "metadata": {
    "slideshow": {
     "slide_type": "subslide"
    }
   },
   "source": [
    "### Topic 5"
   ]
  },
  {
   "cell_type": "code",
   "execution_count": 18,
   "metadata": {
    "execution": {
     "iopub.execute_input": "2020-11-10T19:12:34.201958Z",
     "iopub.status.busy": "2020-11-10T19:12:34.200712Z",
     "iopub.status.idle": "2020-11-10T19:12:34.223654Z",
     "shell.execute_reply": "2020-11-10T19:12:34.222471Z"
    }
   },
   "outputs": [
    {
     "data": {
      "text/html": [
       "<table>\n",
       "<caption>A tibble: 8 × 3</caption>\n",
       "<thead>\n",
       "\t<tr><th scope=col>topic</th><th scope=col>term</th><th scope=col>beta</th></tr>\n",
       "\t<tr><th scope=col>&lt;int&gt;</th><th scope=col>&lt;chr&gt;</th><th scope=col>&lt;dbl&gt;</th></tr>\n",
       "</thead>\n",
       "<tbody>\n",
       "\t<tr><td>5</td><td>control   </td><td>0.12494000</td></tr>\n",
       "\t<tr><td>5</td><td>station   </td><td>0.10759199</td></tr>\n",
       "\t<tr><td>5</td><td>center    </td><td>0.07426734</td></tr>\n",
       "\t<tr><td>5</td><td>shut      </td><td>0.04409687</td></tr>\n",
       "\t<tr><td>5</td><td>receiv    </td><td>0.03922846</td></tr>\n",
       "\t<tr><td>5</td><td>arriv     </td><td>0.03634855</td></tr>\n",
       "\t<tr><td>5</td><td>notifi    </td><td>0.03244010</td></tr>\n",
       "\t<tr><td>5</td><td>technician</td><td>0.03079444</td></tr>\n",
       "</tbody>\n",
       "</table>\n"
      ],
      "text/latex": [
       "A tibble: 8 × 3\n",
       "\\begin{tabular}{lll}\n",
       " topic & term & beta\\\\\n",
       " <int> & <chr> & <dbl>\\\\\n",
       "\\hline\n",
       "\t 5 & control    & 0.12494000\\\\\n",
       "\t 5 & station    & 0.10759199\\\\\n",
       "\t 5 & center     & 0.07426734\\\\\n",
       "\t 5 & shut       & 0.04409687\\\\\n",
       "\t 5 & receiv     & 0.03922846\\\\\n",
       "\t 5 & arriv      & 0.03634855\\\\\n",
       "\t 5 & notifi     & 0.03244010\\\\\n",
       "\t 5 & technician & 0.03079444\\\\\n",
       "\\end{tabular}\n"
      ],
      "text/markdown": [
       "\n",
       "A tibble: 8 × 3\n",
       "\n",
       "| topic &lt;int&gt; | term &lt;chr&gt; | beta &lt;dbl&gt; |\n",
       "|---|---|---|\n",
       "| 5 | control    | 0.12494000 |\n",
       "| 5 | station    | 0.10759199 |\n",
       "| 5 | center     | 0.07426734 |\n",
       "| 5 | shut       | 0.04409687 |\n",
       "| 5 | receiv     | 0.03922846 |\n",
       "| 5 | arriv      | 0.03634855 |\n",
       "| 5 | notifi     | 0.03244010 |\n",
       "| 5 | technician | 0.03079444 |\n",
       "\n"
      ],
      "text/plain": [
       "  topic term       beta      \n",
       "1 5     control    0.12494000\n",
       "2 5     station    0.10759199\n",
       "3 5     center     0.07426734\n",
       "4 5     shut       0.04409687\n",
       "5 5     receiv     0.03922846\n",
       "6 5     arriv      0.03634855\n",
       "7 5     notifi     0.03244010\n",
       "8 5     technician 0.03079444"
      ]
     },
     "metadata": {},
     "output_type": "display_data"
    }
   ],
   "source": [
    "get_terms(topic = 5)"
   ]
  },
  {
   "cell_type": "code",
   "execution_count": 19,
   "metadata": {
    "execution": {
     "iopub.execute_input": "2020-11-10T19:12:34.228355Z",
     "iopub.status.busy": "2020-11-10T19:12:34.227072Z",
     "iopub.status.idle": "2020-11-10T19:12:34.254852Z",
     "shell.execute_reply": "2020-11-10T19:12:34.253567Z"
    },
    "slideshow": {
     "slide_type": "subslide"
    }
   },
   "outputs": [
    {
     "name": "stdout",
     "output_type": "stream",
     "text": [
      "Incident ID: 20140244\n",
      "Operator ID: 2731\n",
      "\n",
      "On may 24th 2014 cpl control center sent a shutdown command to p2 at belridge. Control    center confirms that p2 has shut down and both suction/discharge valves are closed and the motor is off.    Control center receives a pump seal alarm on p2 and calls local i&e specialist to respond to belridge station.     Control center receives a call from a third party stating that a pump is on fire in the belridge station. Control center    immediately begins shutting down all flow to and from the station and notifies local supervisor. At 1654 kern county  fire department arrived at belridge station and monitored the fire and did not attempt to extinguish. At 1745 local    i&e specialist arrived on site and observes a small fire on p2 and notices that the pump is still spinning. He immediately     throws the main breaker that feeds all power to the station which stops the pump from spinning and the fire went out.    After the station was safely isolated both electrically and from any pressure on the pipeline it was determined upon      inspection that the main contactors on the starter for p2 had arced shut causing the pump to continue running after    a shutdown command was given from the control center.\n"
     ]
    }
   ],
   "source": [
    "print(get_narrative(5))"
   ]
  },
  {
   "cell_type": "markdown",
   "metadata": {
    "slideshow": {
     "slide_type": "subslide"
    }
   },
   "source": [
    "**This topic is related to remote operation of pipelines**"
   ]
  },
  {
   "cell_type": "code",
   "execution_count": 20,
   "metadata": {
    "execution": {
     "iopub.execute_input": "2020-11-10T19:12:34.259604Z",
     "iopub.status.busy": "2020-11-10T19:12:34.258304Z",
     "iopub.status.idle": "2020-11-10T19:12:34.279149Z",
     "shell.execute_reply": "2020-11-10T19:12:34.278081Z"
    }
   },
   "outputs": [],
   "source": [
    "gammas[gammas$topic == 5, ]$label <- \"control_center\"\n",
    "gammas[gammas$topic == 5, ]$cause_topic <- F"
   ]
  },
  {
   "cell_type": "markdown",
   "metadata": {
    "slideshow": {
     "slide_type": "slide"
    }
   },
   "source": [
    "## Topics 6-10"
   ]
  },
  {
   "cell_type": "markdown",
   "metadata": {
    "slideshow": {
     "slide_type": "subslide"
    }
   },
   "source": [
    "### Topic 6"
   ]
  },
  {
   "cell_type": "code",
   "execution_count": 21,
   "metadata": {
    "execution": {
     "iopub.execute_input": "2020-11-10T19:12:34.284014Z",
     "iopub.status.busy": "2020-11-10T19:12:34.282724Z",
     "iopub.status.idle": "2020-11-10T19:12:34.305968Z",
     "shell.execute_reply": "2020-11-10T19:12:34.304790Z"
    }
   },
   "outputs": [
    {
     "data": {
      "text/html": [
       "<table>\n",
       "<caption>A tibble: 8 × 3</caption>\n",
       "<thead>\n",
       "\t<tr><th scope=col>topic</th><th scope=col>term</th><th scope=col>beta</th></tr>\n",
       "\t<tr><th scope=col>&lt;int&gt;</th><th scope=col>&lt;chr&gt;</th><th scope=col>&lt;dbl&gt;</th></tr>\n",
       "</thead>\n",
       "<tbody>\n",
       "\t<tr><td>6</td><td>line   </td><td>0.35380484</td></tr>\n",
       "\t<tr><td>6</td><td>repair </td><td>0.06750294</td></tr>\n",
       "\t<tr><td>6</td><td>leak   </td><td>0.04448779</td></tr>\n",
       "\t<tr><td>6</td><td>instal </td><td>0.04073355</td></tr>\n",
       "\t<tr><td>6</td><td>servic </td><td>0.04040709</td></tr>\n",
       "\t<tr><td>6</td><td>clamp  </td><td>0.02653271</td></tr>\n",
       "\t<tr><td>6</td><td>complet</td><td>0.02628787</td></tr>\n",
       "\t<tr><td>6</td><td>perman </td><td>0.01543321</td></tr>\n",
       "</tbody>\n",
       "</table>\n"
      ],
      "text/latex": [
       "A tibble: 8 × 3\n",
       "\\begin{tabular}{lll}\n",
       " topic & term & beta\\\\\n",
       " <int> & <chr> & <dbl>\\\\\n",
       "\\hline\n",
       "\t 6 & line    & 0.35380484\\\\\n",
       "\t 6 & repair  & 0.06750294\\\\\n",
       "\t 6 & leak    & 0.04448779\\\\\n",
       "\t 6 & instal  & 0.04073355\\\\\n",
       "\t 6 & servic  & 0.04040709\\\\\n",
       "\t 6 & clamp   & 0.02653271\\\\\n",
       "\t 6 & complet & 0.02628787\\\\\n",
       "\t 6 & perman  & 0.01543321\\\\\n",
       "\\end{tabular}\n"
      ],
      "text/markdown": [
       "\n",
       "A tibble: 8 × 3\n",
       "\n",
       "| topic &lt;int&gt; | term &lt;chr&gt; | beta &lt;dbl&gt; |\n",
       "|---|---|---|\n",
       "| 6 | line    | 0.35380484 |\n",
       "| 6 | repair  | 0.06750294 |\n",
       "| 6 | leak    | 0.04448779 |\n",
       "| 6 | instal  | 0.04073355 |\n",
       "| 6 | servic  | 0.04040709 |\n",
       "| 6 | clamp   | 0.02653271 |\n",
       "| 6 | complet | 0.02628787 |\n",
       "| 6 | perman  | 0.01543321 |\n",
       "\n"
      ],
      "text/plain": [
       "  topic term    beta      \n",
       "1 6     line    0.35380484\n",
       "2 6     repair  0.06750294\n",
       "3 6     leak    0.04448779\n",
       "4 6     instal  0.04073355\n",
       "5 6     servic  0.04040709\n",
       "6 6     clamp   0.02653271\n",
       "7 6     complet 0.02628787\n",
       "8 6     perman  0.01543321"
      ]
     },
     "metadata": {},
     "output_type": "display_data"
    }
   ],
   "source": [
    "get_terms(topic = 6)"
   ]
  },
  {
   "cell_type": "code",
   "execution_count": 22,
   "metadata": {
    "execution": {
     "iopub.execute_input": "2020-11-10T19:12:34.310711Z",
     "iopub.status.busy": "2020-11-10T19:12:34.309393Z",
     "iopub.status.idle": "2020-11-10T19:12:34.335427Z",
     "shell.execute_reply": "2020-11-10T19:12:34.334160Z"
    },
    "slideshow": {
     "slide_type": "subslide"
    }
   },
   "outputs": [
    {
     "name": "stdout",
     "output_type": "stream",
     "text": [
      "Incident ID: 20110381\n",
      "Operator ID: 31618\n",
      "\n",
      "On 09/12/2011 at 13:45 the beaumont terminal operations supervisor received a call from a beaumont area pipeline technician reporting a possible leak on one of the five pipelines that connect motiva par to the enterprise npa refined product terminal. The enterprise pipeline technician reported to the beaumont terminal operation supervisor that a valero pipeline technician had spotted an area of brown grass and could smell hydro carbon odor at the location. The beaumont terminal operations supervisor reported the possible leak to the beaumont area manager and an investigation got under way. Upon arriving at the reported site the beaumont area operations team discovered gasoline product just under the ground service in the p108, p109, p110, p, 111 and p112 pipelines right of way. Samples were taken to the enterprise npa lab and tested,  the product analysis  to concluded that the gravity and n point match that of the product being delivered from motiva par to enterprise npa terminal on the p109 (gasoline #2). The gasoline #2 pipeline was not delivering at the time of the report because the scheduled delivery was between batches.     Both of the gasoline pipelines from motiva par to enterprise npa were isolated. And a pressure test was performed by introducing a 60 psi nitrogen supply to each line then monitoring the pressure for 45 minutes. The pressure continued to decrease on the p109 pipeline while pressure held steady on the p108 line. Because of the pressure decrease and the fact that the gravity of the product in p109 match to the product recovered at the leak site beaumont operations concluded that the leak is on the p109 gasoline #2 pipeline. At this point the control center was notified that the gasoline #1 line could be returned to service but the gasoline #2 line will remain under lock out tag out until repairs are complete    an investigation dig at the site was done and the leak was located on 09/14/2011 at 1511 hrs.  On 09/15/2011 installation of a repair clamp was complete as a temporary repair and the pipeline was returned to service while operations made preparations to make repairs by cutting out a section of pipe and replacing it on 09/28/2011.\n"
     ]
    }
   ],
   "source": [
    "print(get_narrative(6))"
   ]
  },
  {
   "cell_type": "markdown",
   "metadata": {
    "slideshow": {
     "slide_type": "subslide"
    }
   },
   "source": [
    "**This topic is related to service and repair**"
   ]
  },
  {
   "cell_type": "code",
   "execution_count": 23,
   "metadata": {
    "execution": {
     "iopub.execute_input": "2020-11-10T19:12:34.340330Z",
     "iopub.status.busy": "2020-11-10T19:12:34.339000Z",
     "iopub.status.idle": "2020-11-10T19:12:34.368990Z",
     "shell.execute_reply": "2020-11-10T19:12:34.367268Z"
    }
   },
   "outputs": [],
   "source": [
    "gammas[gammas$topic == 6, ]$label <- \"service\"\n",
    "gammas[gammas$topic == 6, ]$cause_topic <- F"
   ]
  },
  {
   "cell_type": "markdown",
   "metadata": {
    "slideshow": {
     "slide_type": "subslide"
    }
   },
   "source": [
    "### Topic 7"
   ]
  },
  {
   "cell_type": "code",
   "execution_count": 24,
   "metadata": {
    "execution": {
     "iopub.execute_input": "2020-11-10T19:12:34.375099Z",
     "iopub.status.busy": "2020-11-10T19:12:34.373379Z",
     "iopub.status.idle": "2020-11-10T19:12:34.403292Z",
     "shell.execute_reply": "2020-11-10T19:12:34.401462Z"
    }
   },
   "outputs": [
    {
     "data": {
      "text/html": [
       "<table>\n",
       "<caption>A tibble: 8 × 3</caption>\n",
       "<thead>\n",
       "\t<tr><th scope=col>topic</th><th scope=col>term</th><th scope=col>beta</th></tr>\n",
       "\t<tr><th scope=col>&lt;int&gt;</th><th scope=col>&lt;chr&gt;</th><th scope=col>&lt;dbl&gt;</th></tr>\n",
       "</thead>\n",
       "<tbody>\n",
       "\t<tr><td>7</td><td>pump   </td><td>0.21992089</td></tr>\n",
       "\t<tr><td>7</td><td>seal   </td><td>0.10250132</td></tr>\n",
       "\t<tr><td>7</td><td>unit   </td><td>0.04184313</td></tr>\n",
       "\t<tr><td>7</td><td>failur </td><td>0.04125493</td></tr>\n",
       "\t<tr><td>7</td><td>station</td><td>0.03765220</td></tr>\n",
       "\t<tr><td>7</td><td>fail   </td><td>0.03706400</td></tr>\n",
       "\t<tr><td>7</td><td>mixer  </td><td>0.03199077</td></tr>\n",
       "\t<tr><td>7</td><td>replac </td><td>0.02860861</td></tr>\n",
       "</tbody>\n",
       "</table>\n"
      ],
      "text/latex": [
       "A tibble: 8 × 3\n",
       "\\begin{tabular}{lll}\n",
       " topic & term & beta\\\\\n",
       " <int> & <chr> & <dbl>\\\\\n",
       "\\hline\n",
       "\t 7 & pump    & 0.21992089\\\\\n",
       "\t 7 & seal    & 0.10250132\\\\\n",
       "\t 7 & unit    & 0.04184313\\\\\n",
       "\t 7 & failur  & 0.04125493\\\\\n",
       "\t 7 & station & 0.03765220\\\\\n",
       "\t 7 & fail    & 0.03706400\\\\\n",
       "\t 7 & mixer   & 0.03199077\\\\\n",
       "\t 7 & replac  & 0.02860861\\\\\n",
       "\\end{tabular}\n"
      ],
      "text/markdown": [
       "\n",
       "A tibble: 8 × 3\n",
       "\n",
       "| topic &lt;int&gt; | term &lt;chr&gt; | beta &lt;dbl&gt; |\n",
       "|---|---|---|\n",
       "| 7 | pump    | 0.21992089 |\n",
       "| 7 | seal    | 0.10250132 |\n",
       "| 7 | unit    | 0.04184313 |\n",
       "| 7 | failur  | 0.04125493 |\n",
       "| 7 | station | 0.03765220 |\n",
       "| 7 | fail    | 0.03706400 |\n",
       "| 7 | mixer   | 0.03199077 |\n",
       "| 7 | replac  | 0.02860861 |\n",
       "\n"
      ],
      "text/plain": [
       "  topic term    beta      \n",
       "1 7     pump    0.21992089\n",
       "2 7     seal    0.10250132\n",
       "3 7     unit    0.04184313\n",
       "4 7     failur  0.04125493\n",
       "5 7     station 0.03765220\n",
       "6 7     fail    0.03706400\n",
       "7 7     mixer   0.03199077\n",
       "8 7     replac  0.02860861"
      ]
     },
     "metadata": {},
     "output_type": "display_data"
    }
   ],
   "source": [
    "get_terms(topic = 7)"
   ]
  },
  {
   "cell_type": "code",
   "execution_count": 25,
   "metadata": {
    "execution": {
     "iopub.execute_input": "2020-11-10T19:12:34.408268Z",
     "iopub.status.busy": "2020-11-10T19:12:34.406749Z",
     "iopub.status.idle": "2020-11-10T19:12:34.432602Z",
     "shell.execute_reply": "2020-11-10T19:12:34.431287Z"
    },
    "slideshow": {
     "slide_type": "subslide"
    }
   },
   "outputs": [
    {
     "name": "stdout",
     "output_type": "stream",
     "text": [
      "Incident ID: 20140441\n",
      "Operator ID: 31684\n",
      "\n",
      "Spill caused by colex#1 evacuation pump seal failure. Approximately 0.5bbls leaked onto rock/gravel in pasadena's transfer header area while performing valve line-up for product delivery. The evacuation pump was not running at the time of seal failure. Operator discovered seal leak while verifying delivery piping's valve line-up.     Terminal personnel secured area by isolating and depressurizing colex#1's evacuation pump. The pump seal stopped leaking once the pump and piping were secured.     The pasadena colex #1 evacuation pump is not a mainline pump and is used exclusively for evacuating the colex #1 pump and associated piping for service or maintenance. Due to the infrequent use and potential for seal failures, the pump was not repaired and will not be placed back into service at this time.     Overall, phillips 66 tracks mechanical seal failures in our sap database and the manufacturer performs a seal failure report for every seal that comes in for repair to determine the cause of the failure before the mechanical seals are returned for installation. This pump seal was not analyzed for failure cause since the pump will not be repaired.     On our larger mechanical seals in mainline pipeline applications we have seal failure transmitters or switches which provide indication and shut the pump down in the event of a seal failure.  Additionally we also have vibration analysis to monitor the health of the pumps for conditions that affect the life of the mechanical seal.\n"
     ]
    }
   ],
   "source": [
    "print(get_narrative(7))"
   ]
  },
  {
   "cell_type": "markdown",
   "metadata": {
    "slideshow": {
     "slide_type": "subslide"
    }
   },
   "source": [
    "**This topic is related to pumps and their components**"
   ]
  },
  {
   "cell_type": "code",
   "execution_count": 26,
   "metadata": {
    "execution": {
     "iopub.execute_input": "2020-11-10T19:12:34.437781Z",
     "iopub.status.busy": "2020-11-10T19:12:34.436235Z",
     "iopub.status.idle": "2020-11-10T19:12:34.462249Z",
     "shell.execute_reply": "2020-11-10T19:12:34.461328Z"
    }
   },
   "outputs": [],
   "source": [
    "gammas[gammas$topic == 7, ]$label <- \"pumps\"\n",
    "gammas[gammas$topic == 7, ]$cause_topic <- T"
   ]
  },
  {
   "cell_type": "markdown",
   "metadata": {
    "slideshow": {
     "slide_type": "subslide"
    }
   },
   "source": [
    "### Topic 8"
   ]
  },
  {
   "cell_type": "code",
   "execution_count": 27,
   "metadata": {
    "execution": {
     "iopub.execute_input": "2020-11-10T19:12:34.466829Z",
     "iopub.status.busy": "2020-11-10T19:12:34.465510Z",
     "iopub.status.idle": "2020-11-10T19:12:34.489166Z",
     "shell.execute_reply": "2020-11-10T19:12:34.487995Z"
    }
   },
   "outputs": [
    {
     "data": {
      "text/html": [
       "<table>\n",
       "<caption>A tibble: 8 × 3</caption>\n",
       "<thead>\n",
       "\t<tr><th scope=col>topic</th><th scope=col>term</th><th scope=col>beta</th></tr>\n",
       "\t<tr><th scope=col>&lt;int&gt;</th><th scope=col>&lt;chr&gt;</th><th scope=col>&lt;dbl&gt;</th></tr>\n",
       "</thead>\n",
       "<tbody>\n",
       "\t<tr><td>8</td><td>incid   </td><td>0.04470011</td></tr>\n",
       "\t<tr><td>8</td><td>procedur</td><td>0.03270759</td></tr>\n",
       "\t<tr><td>8</td><td>employe </td><td>0.02551208</td></tr>\n",
       "\t<tr><td>8</td><td>action  </td><td>0.02415293</td></tr>\n",
       "\t<tr><td>8</td><td>result  </td><td>0.02351333</td></tr>\n",
       "\t<tr><td>8</td><td>activ   </td><td>0.02303363</td></tr>\n",
       "\t<tr><td>8</td><td>mainten </td><td>0.02247398</td></tr>\n",
       "\t<tr><td>8</td><td>review  </td><td>0.02231408</td></tr>\n",
       "</tbody>\n",
       "</table>\n"
      ],
      "text/latex": [
       "A tibble: 8 × 3\n",
       "\\begin{tabular}{lll}\n",
       " topic & term & beta\\\\\n",
       " <int> & <chr> & <dbl>\\\\\n",
       "\\hline\n",
       "\t 8 & incid    & 0.04470011\\\\\n",
       "\t 8 & procedur & 0.03270759\\\\\n",
       "\t 8 & employe  & 0.02551208\\\\\n",
       "\t 8 & action   & 0.02415293\\\\\n",
       "\t 8 & result   & 0.02351333\\\\\n",
       "\t 8 & activ    & 0.02303363\\\\\n",
       "\t 8 & mainten  & 0.02247398\\\\\n",
       "\t 8 & review   & 0.02231408\\\\\n",
       "\\end{tabular}\n"
      ],
      "text/markdown": [
       "\n",
       "A tibble: 8 × 3\n",
       "\n",
       "| topic &lt;int&gt; | term &lt;chr&gt; | beta &lt;dbl&gt; |\n",
       "|---|---|---|\n",
       "| 8 | incid    | 0.04470011 |\n",
       "| 8 | procedur | 0.03270759 |\n",
       "| 8 | employe  | 0.02551208 |\n",
       "| 8 | action   | 0.02415293 |\n",
       "| 8 | result   | 0.02351333 |\n",
       "| 8 | activ    | 0.02303363 |\n",
       "| 8 | mainten  | 0.02247398 |\n",
       "| 8 | review   | 0.02231408 |\n",
       "\n"
      ],
      "text/plain": [
       "  topic term     beta      \n",
       "1 8     incid    0.04470011\n",
       "2 8     procedur 0.03270759\n",
       "3 8     employe  0.02551208\n",
       "4 8     action   0.02415293\n",
       "5 8     result   0.02351333\n",
       "6 8     activ    0.02303363\n",
       "7 8     mainten  0.02247398\n",
       "8 8     review   0.02231408"
      ]
     },
     "metadata": {},
     "output_type": "display_data"
    }
   ],
   "source": [
    "get_terms(topic = 8)"
   ]
  },
  {
   "cell_type": "code",
   "execution_count": 28,
   "metadata": {
    "execution": {
     "iopub.execute_input": "2020-11-10T19:12:34.492925Z",
     "iopub.status.busy": "2020-11-10T19:12:34.491954Z",
     "iopub.status.idle": "2020-11-10T19:12:34.512871Z",
     "shell.execute_reply": "2020-11-10T19:12:34.511764Z"
    },
    "slideshow": {
     "slide_type": "subslide"
    }
   },
   "outputs": [
    {
     "name": "stdout",
     "output_type": "stream",
     "text": [
      "Incident ID: 20130036\n",
      "Operator ID: 22855\n",
      "\n",
      "Scheduled maintenance work was being performed to replace the pump 2 discharge flange gasket at the intermediate hugo pump station on minnesota pipe line (mpl). Mpl lines 1, 2 & 3 were isolated from the hugo pump station by closing manual suction & discharge 16\" station gate valves, allowing the station to be drained up.  The mechanical field technician (\"mft\") performed station lockout, then opened drain valve on the pump header to bleed pressure and crude oil to the sump.  There was a temporary obstruction located at the bottom of mpl 1, above the ground suction 16\" station gate valve, which stopped the valve from fully closing. The above ground header drain valve also had an obstruction, which released after being fully opened, sending a surge through the drain line.  This resulted in a backup of crude oil in connecting drain lines which sprayed out from under the 4 pump inboard and outboard seal box covers onto the pump base and ground.    The mft, responsible for the work activity, was first operator qualified for task 63.4, manually or remotely open or close valves or other equipment, through kpl's operator qualification (\"oq\") program in 2006. Oq requires passing three tests:  a written knowledge test, a performance test and a written abnormal operating conditions (aoc) test. The mft re-qualified on all 3 tests in 2009. He re-qualified on the aoc test and written knowledge test on june 14 and july 12, 2012, respectively.  The mft did not take the performance test by the 3 year re-qualification date of july 16, 2012. Therefore, the mft did not possess all required oq credentials for task 63.4 at the time of the release on january 2, 2013. This information about the oq status of the mft was discovered during the post-incident review of the accident.  The mft re-qualified his full oq credentials by taking and successfully passing the performance test for task 63.4, on january 28, 2013.  The total amount of soil remediated was 35.66 tons.    Once clean up from the release was completed, a plan was put in place and heat was applied to the mpl line 1 above the ground suction 16\" station gate valve to address the temporary obstruction. This manual valve was able to fully close without much effort and likely had ice in the valve. Replacement of the pump 2 discharge flange gasket was performed without issue.\n"
     ]
    }
   ],
   "source": [
    "print(get_narrative(8))"
   ]
  },
  {
   "cell_type": "markdown",
   "metadata": {
    "slideshow": {
     "slide_type": "subslide"
    }
   },
   "source": [
    "**This topic is related to procedures**"
   ]
  },
  {
   "cell_type": "code",
   "execution_count": 29,
   "metadata": {
    "execution": {
     "iopub.execute_input": "2020-11-10T19:12:34.517767Z",
     "iopub.status.busy": "2020-11-10T19:12:34.516242Z",
     "iopub.status.idle": "2020-11-10T19:12:34.537913Z",
     "shell.execute_reply": "2020-11-10T19:12:34.536771Z"
    }
   },
   "outputs": [],
   "source": [
    "gammas[gammas$topic == 8, ]$label <- \"procedures\"\n",
    "gammas[gammas$topic == 8, ]$cause_topic <- T"
   ]
  },
  {
   "cell_type": "markdown",
   "metadata": {
    "slideshow": {
     "slide_type": "subslide"
    }
   },
   "source": [
    "### Topic 9"
   ]
  },
  {
   "cell_type": "code",
   "execution_count": 30,
   "metadata": {
    "execution": {
     "iopub.execute_input": "2020-11-10T19:12:34.542026Z",
     "iopub.status.busy": "2020-11-10T19:12:34.540959Z",
     "iopub.status.idle": "2020-11-10T19:12:34.558846Z",
     "shell.execute_reply": "2020-11-10T19:12:34.557973Z"
    }
   },
   "outputs": [
    {
     "data": {
      "text/html": [
       "<table>\n",
       "<caption>A tibble: 8 × 3</caption>\n",
       "<thead>\n",
       "\t<tr><th scope=col>topic</th><th scope=col>term</th><th scope=col>beta</th></tr>\n",
       "\t<tr><th scope=col>&lt;int&gt;</th><th scope=col>&lt;chr&gt;</th><th scope=col>&lt;dbl&gt;</th></tr>\n",
       "</thead>\n",
       "<tbody>\n",
       "\t<tr><td>9</td><td>product </td><td>0.10367648</td></tr>\n",
       "\t<tr><td>9</td><td>gallon  </td><td>0.05547347</td></tr>\n",
       "\t<tr><td>9</td><td>recov   </td><td>0.03244930</td></tr>\n",
       "\t<tr><td>9</td><td>volum   </td><td>0.02389219</td></tr>\n",
       "\t<tr><td>9</td><td>estim   </td><td>0.02376907</td></tr>\n",
       "\t<tr><td>9</td><td>manag   </td><td>0.02124503</td></tr>\n",
       "\t<tr><td>9</td><td>excav   </td><td>0.02032160</td></tr>\n",
       "\t<tr><td>9</td><td>approxim</td><td>0.01989067</td></tr>\n",
       "</tbody>\n",
       "</table>\n"
      ],
      "text/latex": [
       "A tibble: 8 × 3\n",
       "\\begin{tabular}{lll}\n",
       " topic & term & beta\\\\\n",
       " <int> & <chr> & <dbl>\\\\\n",
       "\\hline\n",
       "\t 9 & product  & 0.10367648\\\\\n",
       "\t 9 & gallon   & 0.05547347\\\\\n",
       "\t 9 & recov    & 0.03244930\\\\\n",
       "\t 9 & volum    & 0.02389219\\\\\n",
       "\t 9 & estim    & 0.02376907\\\\\n",
       "\t 9 & manag    & 0.02124503\\\\\n",
       "\t 9 & excav    & 0.02032160\\\\\n",
       "\t 9 & approxim & 0.01989067\\\\\n",
       "\\end{tabular}\n"
      ],
      "text/markdown": [
       "\n",
       "A tibble: 8 × 3\n",
       "\n",
       "| topic &lt;int&gt; | term &lt;chr&gt; | beta &lt;dbl&gt; |\n",
       "|---|---|---|\n",
       "| 9 | product  | 0.10367648 |\n",
       "| 9 | gallon   | 0.05547347 |\n",
       "| 9 | recov    | 0.03244930 |\n",
       "| 9 | volum    | 0.02389219 |\n",
       "| 9 | estim    | 0.02376907 |\n",
       "| 9 | manag    | 0.02124503 |\n",
       "| 9 | excav    | 0.02032160 |\n",
       "| 9 | approxim | 0.01989067 |\n",
       "\n"
      ],
      "text/plain": [
       "  topic term     beta      \n",
       "1 9     product  0.10367648\n",
       "2 9     gallon   0.05547347\n",
       "3 9     recov    0.03244930\n",
       "4 9     volum    0.02389219\n",
       "5 9     estim    0.02376907\n",
       "6 9     manag    0.02124503\n",
       "7 9     excav    0.02032160\n",
       "8 9     approxim 0.01989067"
      ]
     },
     "metadata": {},
     "output_type": "display_data"
    }
   ],
   "source": [
    "get_terms(topic = 9)"
   ]
  },
  {
   "cell_type": "code",
   "execution_count": 31,
   "metadata": {
    "execution": {
     "iopub.execute_input": "2020-11-10T19:12:34.563129Z",
     "iopub.status.busy": "2020-11-10T19:12:34.561801Z",
     "iopub.status.idle": "2020-11-10T19:12:34.588129Z",
     "shell.execute_reply": "2020-11-10T19:12:34.587082Z"
    },
    "slideshow": {
     "slide_type": "subslide"
    }
   },
   "outputs": [
    {
     "name": "stdout",
     "output_type": "stream",
     "text": [
      "Incident ID: 20090288\n",
      "Operator ID: 2552\n",
      "\n",
      "The release was discovered by an operator at 0715 on 9/23/09. During a routine check of the stingwater system, the operator observed free product (gasoline) inside the concrete wall surrounding the stingwater oil water seperators and a small amount on the adjacent spillway. Incident was reported at 0730 to the operations manager. Cleanup began immediately and continued through september 28th.  A light sheen was found on a portion of pond 2.  No notifications to the state or nrc were made since the pond is not considered \"waters of the state\". Groundwater was not impacted as a result of the release and no product or sheen was observed at the outfall of pond 2.  Approximately 45 gallons were recovered using a pneumatic pump inside the concrete berm. Diapers in the area collected another 4 gallons.  A very light sheen was observed on an approximately 15' x 80' area of the pond. Hard boom was used to contain the sheen and consolidate it to the area of the spillway.  Additional boom was deployed at the end of the spillway where approximately 20 gallons were recovered using diapers.  Approximately 40 tons of soil were excavated on the inside and outside of the concrete wall surrounding the oil water seperators.  A minor amount of impacted soil below the footing of the concrete wall could not be removed and is believed to have been present prior to this incident.  The amount of product within the excavated soil was estimated at 5 gallons based upon laboratory analysis of the soil and volume of product in soil calculations.  The excavated soil will be applied to the landfarm.  Evaporation calculations considered the area of pooled product within the concrete berm surrounding the oil water seperators and the pooled product at the end of the spillway.  The total amount lost to evaporation is estimated at 14 gallons based upon evaporation calculations for the pooled areas of product. The total spill volume is estimated at 88 gallons or 2.1 bbls with 69 gallons of free product recovered using pumps and absorbents, 5 gallons recovered with the excavation of impacted soil, and 14 gallons lost to evaporation.  An estimated 74 gallons were recovered with pumps, absorbents and the excavation of impacted soil.\n"
     ]
    }
   ],
   "source": [
    "print(get_narrative(9))"
   ]
  },
  {
   "cell_type": "markdown",
   "metadata": {
    "slideshow": {
     "slide_type": "subslide"
    }
   },
   "source": [
    "**This topic is related to the commodity transported**"
   ]
  },
  {
   "cell_type": "code",
   "execution_count": 32,
   "metadata": {
    "execution": {
     "iopub.execute_input": "2020-11-10T19:12:34.593075Z",
     "iopub.status.busy": "2020-11-10T19:12:34.591411Z",
     "iopub.status.idle": "2020-11-10T19:12:34.623113Z",
     "shell.execute_reply": "2020-11-10T19:12:34.622042Z"
    }
   },
   "outputs": [],
   "source": [
    "gammas[gammas$topic == 9, ]$label <- \"commodity\"\n",
    "gammas[gammas$topic == 9, ]$cause_topic <- F"
   ]
  },
  {
   "cell_type": "markdown",
   "metadata": {
    "slideshow": {
     "slide_type": "subslide"
    }
   },
   "source": [
    "### Topic 10"
   ]
  },
  {
   "cell_type": "code",
   "execution_count": 33,
   "metadata": {
    "execution": {
     "iopub.execute_input": "2020-11-10T19:12:34.626988Z",
     "iopub.status.busy": "2020-11-10T19:12:34.626084Z",
     "iopub.status.idle": "2020-11-10T19:12:34.644010Z",
     "shell.execute_reply": "2020-11-10T19:12:34.643190Z"
    }
   },
   "outputs": [
    {
     "data": {
      "text/html": [
       "<table>\n",
       "<caption>A tibble: 8 × 3</caption>\n",
       "<thead>\n",
       "\t<tr><th scope=col>topic</th><th scope=col>term</th><th scope=col>beta</th></tr>\n",
       "\t<tr><th scope=col>&lt;int&gt;</th><th scope=col>&lt;chr&gt;</th><th scope=col>&lt;dbl&gt;</th></tr>\n",
       "</thead>\n",
       "<tbody>\n",
       "\t<tr><td>10</td><td>test    </td><td>0.04275311</td></tr>\n",
       "\t<tr><td>10</td><td>identifi</td><td>0.04038685</td></tr>\n",
       "\t<tr><td>10</td><td>pressur </td><td>0.02931882</td></tr>\n",
       "\t<tr><td>10</td><td>sourc   </td><td>0.02870817</td></tr>\n",
       "\t<tr><td>10</td><td>time    </td><td>0.02519693</td></tr>\n",
       "\t<tr><td>10</td><td>locat   </td><td>0.02191469</td></tr>\n",
       "\t<tr><td>10</td><td>repair  </td><td>0.02046440</td></tr>\n",
       "\t<tr><td>10</td><td>monitor </td><td>0.02031174</td></tr>\n",
       "</tbody>\n",
       "</table>\n"
      ],
      "text/latex": [
       "A tibble: 8 × 3\n",
       "\\begin{tabular}{lll}\n",
       " topic & term & beta\\\\\n",
       " <int> & <chr> & <dbl>\\\\\n",
       "\\hline\n",
       "\t 10 & test     & 0.04275311\\\\\n",
       "\t 10 & identifi & 0.04038685\\\\\n",
       "\t 10 & pressur  & 0.02931882\\\\\n",
       "\t 10 & sourc    & 0.02870817\\\\\n",
       "\t 10 & time     & 0.02519693\\\\\n",
       "\t 10 & locat    & 0.02191469\\\\\n",
       "\t 10 & repair   & 0.02046440\\\\\n",
       "\t 10 & monitor  & 0.02031174\\\\\n",
       "\\end{tabular}\n"
      ],
      "text/markdown": [
       "\n",
       "A tibble: 8 × 3\n",
       "\n",
       "| topic &lt;int&gt; | term &lt;chr&gt; | beta &lt;dbl&gt; |\n",
       "|---|---|---|\n",
       "| 10 | test     | 0.04275311 |\n",
       "| 10 | identifi | 0.04038685 |\n",
       "| 10 | pressur  | 0.02931882 |\n",
       "| 10 | sourc    | 0.02870817 |\n",
       "| 10 | time     | 0.02519693 |\n",
       "| 10 | locat    | 0.02191469 |\n",
       "| 10 | repair   | 0.02046440 |\n",
       "| 10 | monitor  | 0.02031174 |\n",
       "\n"
      ],
      "text/plain": [
       "  topic term     beta      \n",
       "1 10    test     0.04275311\n",
       "2 10    identifi 0.04038685\n",
       "3 10    pressur  0.02931882\n",
       "4 10    sourc    0.02870817\n",
       "5 10    time     0.02519693\n",
       "6 10    locat    0.02191469\n",
       "7 10    repair   0.02046440\n",
       "8 10    monitor  0.02031174"
      ]
     },
     "metadata": {},
     "output_type": "display_data"
    }
   ],
   "source": [
    "get_terms(topic = 10)"
   ]
  },
  {
   "cell_type": "code",
   "execution_count": 34,
   "metadata": {
    "execution": {
     "iopub.execute_input": "2020-11-10T19:12:34.648173Z",
     "iopub.status.busy": "2020-11-10T19:12:34.646909Z",
     "iopub.status.idle": "2020-11-10T19:12:34.666886Z",
     "shell.execute_reply": "2020-11-10T19:12:34.665868Z"
    },
    "slideshow": {
     "slide_type": "subslide"
    }
   },
   "outputs": [
    {
     "name": "stdout",
     "output_type": "stream",
     "text": [
      "Incident ID: 20160073\n",
      "Operator ID: 39191\n",
      "\n",
      "February 16, 2016-fuel oil pipeline (fopl)id#39191 was in normal operation, transferring 109 gpm #6 fuel oil (product) from 74th street station (manhattan) to ravenswood station (queens) at 23.3 psig at ravenswood station and 25.5 psig at 74th street at the time of product release discovery. Discovery of product was from an electrical facility underground vault structure id mh-16261, located 28 feet east of pipeline. Pipeline was immediately shutdown and notifications made. Site area cleanup commenced immediately with the onsite ravenswood environmental response contractor. Pipeline was excavated following utility mark out . Leak location was discovered on february 27, 2016. Leak was characterized as 2- 1/8\" diameter pinholes in the extrados of a buried 90 degree pipeline elbow. The foam glass insulation and corrosion prevention external coating were observed as displaced and disbonded.   April 19- new elbow section was bench pressure tested and passed the 4 hour offline witnessed by nys-dps arpit mehta test at 160 psig. Fopl id#39191 maop pressure is 80 psig. Psc file #l16.01 was issued for this test. The contractor removed the leaking elbow section and the new pressure tested elbow section was installed by the vendor. Radiographic examination of pipeline elbow tie in welds complete, and successful.  May 2-1103 hrs-fopl id#39191 was placed in service for 24 hour surveillance at an established 50 gpm flowrate.  Fdny representative was on site to witness the beginning of in-service testing.   May 3-1106 hrs-fopl id#39191 completed the 24 hour in-service fdny test and the fuel oil pipeline remained in service to 74th street station. No visual observed or cpm leaks have been detected.     May 5 & 15- two separate pressure decay tests were performed. The 2nd test was enhanced by running it for 60 minutes, instead of the normal 20 minutes, to further understand the pressure decay behavior and if the decay plateaued. This test passed the pressure decay test criteria.   May 19-site environmental contractor begins further excavation clean up to perform an inspection of the exposed main gas and fuel oil lines. In the course of this work, an increase in the ingress of oil into the excavations is observed.  May 16-17-after analyzing pressure 5/15 decay testing, further testing was conducted of fopl id #39191  by increasing the pumping pressure and observing mass flow meter differentials on the leak detection system. Data was inconclusive to confirm or deny presence of an active leak.  A decision was made to remove the line from service, and lay it up with low pour oil.   May 18-four separate one hour line pressure decay tests were performed. The first with the full line. The last 3 with the line segregated as described above. With the line segregated the 791 ft. Ravenswood section decayed 46 psi, and con edison section decayed 5.7 psi over the hour. This test was essentially repeated 2 more times. The fuel oil pipeline remains out of service and an investigation plan is being set.   June 17-transcanada is still investigating the fuel oil pipeline second leak location on their site by excavating the surface and exposing the pipeline west of the original leak location. The fuel oil pipeline remains shutdown during this leak identification process.   July 15-the oil recovery estimate has increased to 244 barrels of oil from 231 barrels on the transcanada property.  July 24-a witnessed hydrostatic testing of fopl id #39191 was successfully completed at 150% (125psig) of maop for 12 hour period. Con edison engineering department reviewed and accepted the testing results on august 15.   August 10-the oil recovery estimate increased to 249 barrels of oil.  Transcanada will continue to monitor remediation control in this area and will update state/federal agencies on oil recovery developments. Nysdec#1510992 case.  September 12-transcanada excavation areas are being backfilled.  November 3- fopl id#39191 was returned to service as of 1600 hrs.\n"
     ]
    }
   ],
   "source": [
    "print(get_narrative(10))"
   ]
  },
  {
   "cell_type": "markdown",
   "metadata": {
    "slideshow": {
     "slide_type": "subslide"
    }
   },
   "source": [
    "**This topic is related to testing and monitoring**"
   ]
  },
  {
   "cell_type": "code",
   "execution_count": 35,
   "metadata": {
    "execution": {
     "iopub.execute_input": "2020-11-10T19:12:34.671983Z",
     "iopub.status.busy": "2020-11-10T19:12:34.670579Z",
     "iopub.status.idle": "2020-11-10T19:12:34.692099Z",
     "shell.execute_reply": "2020-11-10T19:12:34.690957Z"
    }
   },
   "outputs": [],
   "source": [
    "gammas[gammas$topic == 10, ]$label <- \"monitoring\"\n",
    "gammas[gammas$topic == 10, ]$cause_topic <- T"
   ]
  },
  {
   "cell_type": "markdown",
   "metadata": {},
   "source": [
    "## Topics 11-15"
   ]
  },
  {
   "cell_type": "markdown",
   "metadata": {
    "slideshow": {
     "slide_type": "subslide"
    }
   },
   "source": [
    "### Topic 11"
   ]
  },
  {
   "cell_type": "code",
   "execution_count": 36,
   "metadata": {
    "execution": {
     "iopub.execute_input": "2020-11-10T19:12:34.696670Z",
     "iopub.status.busy": "2020-11-10T19:12:34.695336Z",
     "iopub.status.idle": "2020-11-10T19:12:34.713354Z",
     "shell.execute_reply": "2020-11-10T19:12:34.712500Z"
    }
   },
   "outputs": [
    {
     "data": {
      "text/html": [
       "<table>\n",
       "<caption>A tibble: 8 × 3</caption>\n",
       "<thead>\n",
       "\t<tr><th scope=col>topic</th><th scope=col>term</th><th scope=col>beta</th></tr>\n",
       "\t<tr><th scope=col>&lt;int&gt;</th><th scope=col>&lt;chr&gt;</th><th scope=col>&lt;dbl&gt;</th></tr>\n",
       "</thead>\n",
       "<tbody>\n",
       "\t<tr><td>11</td><td>sump   </td><td>0.08913927</td></tr>\n",
       "\t<tr><td>11</td><td>pressur</td><td>0.07114799</td></tr>\n",
       "\t<tr><td>11</td><td>relief </td><td>0.04678481</td></tr>\n",
       "\t<tr><td>11</td><td>flow   </td><td>0.03808903</td></tr>\n",
       "\t<tr><td>11</td><td>meter  </td><td>0.03104244</td></tr>\n",
       "\t<tr><td>11</td><td>system </td><td>0.02871857</td></tr>\n",
       "\t<tr><td>11</td><td>caus   </td><td>0.02362104</td></tr>\n",
       "\t<tr><td>11</td><td>thermal</td><td>0.02159703</td></tr>\n",
       "</tbody>\n",
       "</table>\n"
      ],
      "text/latex": [
       "A tibble: 8 × 3\n",
       "\\begin{tabular}{lll}\n",
       " topic & term & beta\\\\\n",
       " <int> & <chr> & <dbl>\\\\\n",
       "\\hline\n",
       "\t 11 & sump    & 0.08913927\\\\\n",
       "\t 11 & pressur & 0.07114799\\\\\n",
       "\t 11 & relief  & 0.04678481\\\\\n",
       "\t 11 & flow    & 0.03808903\\\\\n",
       "\t 11 & meter   & 0.03104244\\\\\n",
       "\t 11 & system  & 0.02871857\\\\\n",
       "\t 11 & caus    & 0.02362104\\\\\n",
       "\t 11 & thermal & 0.02159703\\\\\n",
       "\\end{tabular}\n"
      ],
      "text/markdown": [
       "\n",
       "A tibble: 8 × 3\n",
       "\n",
       "| topic &lt;int&gt; | term &lt;chr&gt; | beta &lt;dbl&gt; |\n",
       "|---|---|---|\n",
       "| 11 | sump    | 0.08913927 |\n",
       "| 11 | pressur | 0.07114799 |\n",
       "| 11 | relief  | 0.04678481 |\n",
       "| 11 | flow    | 0.03808903 |\n",
       "| 11 | meter   | 0.03104244 |\n",
       "| 11 | system  | 0.02871857 |\n",
       "| 11 | caus    | 0.02362104 |\n",
       "| 11 | thermal | 0.02159703 |\n",
       "\n"
      ],
      "text/plain": [
       "  topic term    beta      \n",
       "1 11    sump    0.08913927\n",
       "2 11    pressur 0.07114799\n",
       "3 11    relief  0.04678481\n",
       "4 11    flow    0.03808903\n",
       "5 11    meter   0.03104244\n",
       "6 11    system  0.02871857\n",
       "7 11    caus    0.02362104\n",
       "8 11    thermal 0.02159703"
      ]
     },
     "metadata": {},
     "output_type": "display_data"
    }
   ],
   "source": [
    "get_terms(topic = 11)"
   ]
  },
  {
   "cell_type": "code",
   "execution_count": 37,
   "metadata": {
    "execution": {
     "iopub.execute_input": "2020-11-10T19:12:34.717572Z",
     "iopub.status.busy": "2020-11-10T19:12:34.716289Z",
     "iopub.status.idle": "2020-11-10T19:12:34.736317Z",
     "shell.execute_reply": "2020-11-10T19:12:34.735259Z"
    },
    "slideshow": {
     "slide_type": "subslide"
    }
   },
   "outputs": [
    {
     "name": "stdout",
     "output_type": "stream",
     "text": [
      "Incident ID: 20190288\n",
      "Operator ID: 39785\n",
      "\n",
      "On 8/18/2019, the customer delivery point downstream of the robstown to ingleside 20\" valve/meter site located inside the robstown terminal unexpectedly shut in with no notice given to epic operations prior to the shut in. When the delivery point shut in it caused a back-pressure on the pipeline system that pressured the pipeline system above 1000 psig (but did not exceed the mop of 1440) and a thermal relief on the system set at 1000 psig  actuated and vented into a sump at the site, and the sump reached capacity and overflowed into a construction ditch surrounding the sump. The thermal relief failed to close after the pressure fell below the 1000 psig set-point. The accident took place in the early morning hours on a sunday and no operations personnel were on site at the time. One of the project managers was performing a station check on his unrelated project, and found the sump overflowing and notified operations and the thermal relief was shut-in to stop the flow into the sump. No further investigation can be performed as the customer delivery point shut-in occurred on another operator's facility.     To mitigate similar re-occurrences the thermal relief was locked out as it is not a required component and will be replaced with a thermal relief set closer to the 1440 psig mop or deleted from the configuration. In addition the sump was piped to return to the suction side of the mainline pumps to prevent an overflow event from re-occurring. And all other similar configurations will be evaluated.\n"
     ]
    }
   ],
   "source": [
    "print(get_narrative(11))"
   ]
  },
  {
   "cell_type": "markdown",
   "metadata": {
    "slideshow": {
     "slide_type": "subslide"
    }
   },
   "source": [
    "**This topic is related flow, pressure and relief**"
   ]
  },
  {
   "cell_type": "code",
   "execution_count": 38,
   "metadata": {
    "execution": {
     "iopub.execute_input": "2020-11-10T19:12:34.740960Z",
     "iopub.status.busy": "2020-11-10T19:12:34.739630Z",
     "iopub.status.idle": "2020-11-10T19:12:34.885332Z",
     "shell.execute_reply": "2020-11-10T19:12:34.883862Z"
    }
   },
   "outputs": [],
   "source": [
    "gammas[gammas$topic == 11, ]$label <- \"pressure\"\n",
    "gammas[gammas$topic == 11, ]$cause_topic <- T"
   ]
  },
  {
   "cell_type": "markdown",
   "metadata": {
    "slideshow": {
     "slide_type": "subslide"
    }
   },
   "source": [
    "### Topic 12"
   ]
  },
  {
   "cell_type": "code",
   "execution_count": 39,
   "metadata": {
    "execution": {
     "iopub.execute_input": "2020-11-10T19:12:34.889540Z",
     "iopub.status.busy": "2020-11-10T19:12:34.888367Z",
     "iopub.status.idle": "2020-11-10T19:12:34.910090Z",
     "shell.execute_reply": "2020-11-10T19:12:34.908819Z"
    }
   },
   "outputs": [
    {
     "data": {
      "text/html": [
       "<table>\n",
       "<caption>A tibble: 8 × 3</caption>\n",
       "<thead>\n",
       "\t<tr><th scope=col>topic</th><th scope=col>term</th><th scope=col>beta</th></tr>\n",
       "\t<tr><th scope=col>&lt;int&gt;</th><th scope=col>&lt;chr&gt;</th><th scope=col>&lt;dbl&gt;</th></tr>\n",
       "</thead>\n",
       "<tbody>\n",
       "\t<tr><td>12</td><td>pipe   </td><td>0.22118051</td></tr>\n",
       "\t<tr><td>12</td><td>corros </td><td>0.08081936</td></tr>\n",
       "\t<tr><td>12</td><td>section</td><td>0.05401054</td></tr>\n",
       "\t<tr><td>12</td><td>intern </td><td>0.04622982</td></tr>\n",
       "\t<tr><td>12</td><td>pinhol </td><td>0.02581505</td></tr>\n",
       "\t<tr><td>12</td><td>extern </td><td>0.02350394</td></tr>\n",
       "\t<tr><td>12</td><td>remov  </td><td>0.02057654</td></tr>\n",
       "\t<tr><td>12</td><td>replac </td><td>0.02011432</td></tr>\n",
       "</tbody>\n",
       "</table>\n"
      ],
      "text/latex": [
       "A tibble: 8 × 3\n",
       "\\begin{tabular}{lll}\n",
       " topic & term & beta\\\\\n",
       " <int> & <chr> & <dbl>\\\\\n",
       "\\hline\n",
       "\t 12 & pipe    & 0.22118051\\\\\n",
       "\t 12 & corros  & 0.08081936\\\\\n",
       "\t 12 & section & 0.05401054\\\\\n",
       "\t 12 & intern  & 0.04622982\\\\\n",
       "\t 12 & pinhol  & 0.02581505\\\\\n",
       "\t 12 & extern  & 0.02350394\\\\\n",
       "\t 12 & remov   & 0.02057654\\\\\n",
       "\t 12 & replac  & 0.02011432\\\\\n",
       "\\end{tabular}\n"
      ],
      "text/markdown": [
       "\n",
       "A tibble: 8 × 3\n",
       "\n",
       "| topic &lt;int&gt; | term &lt;chr&gt; | beta &lt;dbl&gt; |\n",
       "|---|---|---|\n",
       "| 12 | pipe    | 0.22118051 |\n",
       "| 12 | corros  | 0.08081936 |\n",
       "| 12 | section | 0.05401054 |\n",
       "| 12 | intern  | 0.04622982 |\n",
       "| 12 | pinhol  | 0.02581505 |\n",
       "| 12 | extern  | 0.02350394 |\n",
       "| 12 | remov   | 0.02057654 |\n",
       "| 12 | replac  | 0.02011432 |\n",
       "\n"
      ],
      "text/plain": [
       "  topic term    beta      \n",
       "1 12    pipe    0.22118051\n",
       "2 12    corros  0.08081936\n",
       "3 12    section 0.05401054\n",
       "4 12    intern  0.04622982\n",
       "5 12    pinhol  0.02581505\n",
       "6 12    extern  0.02350394\n",
       "7 12    remov   0.02057654\n",
       "8 12    replac  0.02011432"
      ]
     },
     "metadata": {},
     "output_type": "display_data"
    }
   ],
   "source": [
    "get_terms(topic = 12)"
   ]
  },
  {
   "cell_type": "code",
   "execution_count": 40,
   "metadata": {
    "execution": {
     "iopub.execute_input": "2020-11-10T19:12:34.915691Z",
     "iopub.status.busy": "2020-11-10T19:12:34.913786Z",
     "iopub.status.idle": "2020-11-10T19:12:34.937162Z",
     "shell.execute_reply": "2020-11-10T19:12:34.936157Z"
    },
    "slideshow": {
     "slide_type": "subslide"
    }
   },
   "outputs": [
    {
     "name": "stdout",
     "output_type": "stream",
     "text": [
      "Incident ID: 20150393\n",
      "Operator ID: 300\n",
      "\n",
      "Approximately 4 bbls of crude oil were released from dead leg piping on the suction piping from tank 1204 as a result of internal corrosion. There is a station 'dead leg' pipe removal project budgeted for cy-2016, which included this 'dead leg' end of the pipe. As a result of the internal corrosion this 'dead leg' end of the pipe has been removed.\n"
     ]
    }
   ],
   "source": [
    "print(get_narrative(12))"
   ]
  },
  {
   "cell_type": "markdown",
   "metadata": {
    "slideshow": {
     "slide_type": "subslide"
    }
   },
   "source": [
    "**This topic is related to corrosion of pipes**"
   ]
  },
  {
   "cell_type": "code",
   "execution_count": 41,
   "metadata": {
    "execution": {
     "iopub.execute_input": "2020-11-10T19:12:34.940669Z",
     "iopub.status.busy": "2020-11-10T19:12:34.939868Z",
     "iopub.status.idle": "2020-11-10T19:12:34.954669Z",
     "shell.execute_reply": "2020-11-10T19:12:34.954006Z"
    }
   },
   "outputs": [],
   "source": [
    "gammas[gammas$topic == 12, ]$label <- \"corrosion\"\n",
    "gammas[gammas$topic == 12, ]$cause_topic <- T"
   ]
  },
  {
   "cell_type": "markdown",
   "metadata": {
    "slideshow": {
     "slide_type": "subslide"
    }
   },
   "source": [
    "### Topic 13"
   ]
  },
  {
   "cell_type": "code",
   "execution_count": 42,
   "metadata": {
    "execution": {
     "iopub.execute_input": "2020-11-10T19:12:34.958705Z",
     "iopub.status.busy": "2020-11-10T19:12:34.957502Z",
     "iopub.status.idle": "2020-11-10T19:12:34.975191Z",
     "shell.execute_reply": "2020-11-10T19:12:34.974191Z"
    }
   },
   "outputs": [
    {
     "data": {
      "text/html": [
       "<table>\n",
       "<caption>A tibble: 8 × 3</caption>\n",
       "<thead>\n",
       "\t<tr><th scope=col>topic</th><th scope=col>term</th><th scope=col>beta</th></tr>\n",
       "\t<tr><th scope=col>&lt;int&gt;</th><th scope=col>&lt;chr&gt;</th><th scope=col>&lt;dbl&gt;</th></tr>\n",
       "</thead>\n",
       "<tbody>\n",
       "\t<tr><td>13</td><td>flang  </td><td>0.06248347</td></tr>\n",
       "\t<tr><td>13</td><td>instal </td><td>0.04835218</td></tr>\n",
       "\t<tr><td>13</td><td>connect</td><td>0.04446813</td></tr>\n",
       "\t<tr><td>13</td><td>gasket </td><td>0.04182368</td></tr>\n",
       "\t<tr><td>13</td><td>fit    </td><td>0.04041882</td></tr>\n",
       "\t<tr><td>13</td><td>tube   </td><td>0.03661741</td></tr>\n",
       "\t<tr><td>13</td><td>plug   </td><td>0.03232018</td></tr>\n",
       "\t<tr><td>13</td><td>nippl  </td><td>0.02934517</td></tr>\n",
       "</tbody>\n",
       "</table>\n"
      ],
      "text/latex": [
       "A tibble: 8 × 3\n",
       "\\begin{tabular}{lll}\n",
       " topic & term & beta\\\\\n",
       " <int> & <chr> & <dbl>\\\\\n",
       "\\hline\n",
       "\t 13 & flang   & 0.06248347\\\\\n",
       "\t 13 & instal  & 0.04835218\\\\\n",
       "\t 13 & connect & 0.04446813\\\\\n",
       "\t 13 & gasket  & 0.04182368\\\\\n",
       "\t 13 & fit     & 0.04041882\\\\\n",
       "\t 13 & tube    & 0.03661741\\\\\n",
       "\t 13 & plug    & 0.03232018\\\\\n",
       "\t 13 & nippl   & 0.02934517\\\\\n",
       "\\end{tabular}\n"
      ],
      "text/markdown": [
       "\n",
       "A tibble: 8 × 3\n",
       "\n",
       "| topic &lt;int&gt; | term &lt;chr&gt; | beta &lt;dbl&gt; |\n",
       "|---|---|---|\n",
       "| 13 | flang   | 0.06248347 |\n",
       "| 13 | instal  | 0.04835218 |\n",
       "| 13 | connect | 0.04446813 |\n",
       "| 13 | gasket  | 0.04182368 |\n",
       "| 13 | fit     | 0.04041882 |\n",
       "| 13 | tube    | 0.03661741 |\n",
       "| 13 | plug    | 0.03232018 |\n",
       "| 13 | nippl   | 0.02934517 |\n",
       "\n"
      ],
      "text/plain": [
       "  topic term    beta      \n",
       "1 13    flang   0.06248347\n",
       "2 13    instal  0.04835218\n",
       "3 13    connect 0.04446813\n",
       "4 13    gasket  0.04182368\n",
       "5 13    fit     0.04041882\n",
       "6 13    tube    0.03661741\n",
       "7 13    plug    0.03232018\n",
       "8 13    nippl   0.02934517"
      ]
     },
     "metadata": {},
     "output_type": "display_data"
    }
   ],
   "source": [
    "get_terms(topic = 13)"
   ]
  },
  {
   "cell_type": "code",
   "execution_count": 43,
   "metadata": {
    "execution": {
     "iopub.execute_input": "2020-11-10T19:12:34.979428Z",
     "iopub.status.busy": "2020-11-10T19:12:34.978161Z",
     "iopub.status.idle": "2020-11-10T19:12:35.002015Z",
     "shell.execute_reply": "2020-11-10T19:12:35.000889Z"
    },
    "slideshow": {
     "slide_type": "subslide"
    }
   },
   "outputs": [
    {
     "name": "stdout",
     "output_type": "stream",
     "text": [
      "Incident ID: 20130289\n",
      "Operator ID: 31189\n",
      "\n",
      "On july 26, 2013 a bp pipeline technician upon exiting the pipeline office identified a loss of primary containment of crude oil in the blake pump station of the bp #1 crude system. The technician contacted the control center which immediately shut down the pipeline.  Analysis has determined that a partially buried valve experienced a mechanical failure of a threaded connection in its cast body.  It is believed that a pre-existing flaw in the 1950¿s vintage valve body casting reduced the threaded engagement length, diminishing the frictional forces retaining the ½¿ plug allowing it to back out. The impacted area was remediated and the valve was replaced.    The metallurgical cause of the leak could not be conclusively determined primarily because the plug was not recovered from the leak site. Five possible failure scenarios were considered and are discussed below. Failure scenarios 1, 4, and 5 can be ruled out.     Failure scenario 1 ¿ the plug was never inserted following maintenance in 2002. This scenario was ruled out based on background information from bp. The valve would have leaked if the plug was not in the drain port, and the leak would have been discovered.     Failure scenario 4 ¿ the plug blew out during operation. This scenario was ruled out since the threads of port 1 were not sheared off. There was no evidence of mechanical damage to the threads to support this scenario.     Failure scenario 5 ¿ complete corrosion of the internal threads occurred and the plug fell out. This scenario was ruled out since only a portion of the threads of port 1 was corroded, and a majority or all of the threads that would have been in contact with the plug were not significantly corroded.     Failure scenario 3 ¿ the plug blew out during operation because the threads were corroded. This scenario has a low likelihood. Since rolled material, which could be similar to the material of a carbon steel plug, was selectively attacked, it is possible that a carbon steel plug could have been attacked. Also, it is possible that a non-carbon steel plug, that is anodic to steel, was inserted during the maintenance in 2002. Since the other two drain plugs were determined to composed of carbon steel, this is not likely.     Therefore, this scenario is possible, but is not considered likely.     Failure scenario 2 ¿ the plug backed out during operation. This scenario is the most likely of the five scenarios. Supporting evidence for this scenario includes the fact that, according to bp, the valve was subjected to vibrations and 2) the threads of the port that leaked are not completely corroded away or sheared off. As described above, there was no mechanical damage of the threads to support shearing off and a majority or all of the threads that would have been in contact with the plug were not significantly corroded.    This scenario is the most possible, it¿s believed to be vibration and could not be definitively confirmed.\n"
     ]
    }
   ],
   "source": [
    "print(get_narrative(13))"
   ]
  },
  {
   "cell_type": "markdown",
   "metadata": {
    "slideshow": {
     "slide_type": "subslide"
    }
   },
   "source": [
    "**This topic is related to gaskets and related components**"
   ]
  },
  {
   "cell_type": "code",
   "execution_count": 44,
   "metadata": {
    "execution": {
     "iopub.execute_input": "2020-11-10T19:12:35.005623Z",
     "iopub.status.busy": "2020-11-10T19:12:35.004777Z",
     "iopub.status.idle": "2020-11-10T19:12:35.026322Z",
     "shell.execute_reply": "2020-11-10T19:12:35.025629Z"
    }
   },
   "outputs": [],
   "source": [
    "gammas[gammas$topic == 13, ]$label <- \"gaskets\"\n",
    "gammas[gammas$topic == 13, ]$cause_topic <- T"
   ]
  },
  {
   "cell_type": "markdown",
   "metadata": {
    "slideshow": {
     "slide_type": "subslide"
    }
   },
   "source": [
    "### Topic 14"
   ]
  },
  {
   "cell_type": "code",
   "execution_count": 45,
   "metadata": {
    "execution": {
     "iopub.execute_input": "2020-11-10T19:12:35.030593Z",
     "iopub.status.busy": "2020-11-10T19:12:35.029397Z",
     "iopub.status.idle": "2020-11-10T19:12:35.047283Z",
     "shell.execute_reply": "2020-11-10T19:12:35.046318Z"
    }
   },
   "outputs": [
    {
     "data": {
      "text/html": [
       "<table>\n",
       "<caption>A tibble: 8 × 3</caption>\n",
       "<thead>\n",
       "\t<tr><th scope=col>topic</th><th scope=col>term</th><th scope=col>beta</th></tr>\n",
       "\t<tr><th scope=col>&lt;int&gt;</th><th scope=col>&lt;chr&gt;</th><th scope=col>&lt;dbl&gt;</th></tr>\n",
       "</thead>\n",
       "<tbody>\n",
       "\t<tr><td>14</td><td>report    </td><td>0.10358096</td></tr>\n",
       "\t<tr><td>14</td><td>updat     </td><td>0.08974287</td></tr>\n",
       "\t<tr><td>14</td><td>supplement</td><td>0.04801678</td></tr>\n",
       "\t<tr><td>14</td><td>final     </td><td>0.04032110</td></tr>\n",
       "\t<tr><td>14</td><td>phmsa     </td><td>0.03248422</td></tr>\n",
       "\t<tr><td>14</td><td>time      </td><td>0.02796566</td></tr>\n",
       "\t<tr><td>14</td><td>submit    </td><td>0.02457674</td></tr>\n",
       "\t<tr><td>14</td><td>accid     </td><td>0.02168203</td></tr>\n",
       "</tbody>\n",
       "</table>\n"
      ],
      "text/latex": [
       "A tibble: 8 × 3\n",
       "\\begin{tabular}{lll}\n",
       " topic & term & beta\\\\\n",
       " <int> & <chr> & <dbl>\\\\\n",
       "\\hline\n",
       "\t 14 & report     & 0.10358096\\\\\n",
       "\t 14 & updat      & 0.08974287\\\\\n",
       "\t 14 & supplement & 0.04801678\\\\\n",
       "\t 14 & final      & 0.04032110\\\\\n",
       "\t 14 & phmsa      & 0.03248422\\\\\n",
       "\t 14 & time       & 0.02796566\\\\\n",
       "\t 14 & submit     & 0.02457674\\\\\n",
       "\t 14 & accid      & 0.02168203\\\\\n",
       "\\end{tabular}\n"
      ],
      "text/markdown": [
       "\n",
       "A tibble: 8 × 3\n",
       "\n",
       "| topic &lt;int&gt; | term &lt;chr&gt; | beta &lt;dbl&gt; |\n",
       "|---|---|---|\n",
       "| 14 | report     | 0.10358096 |\n",
       "| 14 | updat      | 0.08974287 |\n",
       "| 14 | supplement | 0.04801678 |\n",
       "| 14 | final      | 0.04032110 |\n",
       "| 14 | phmsa      | 0.03248422 |\n",
       "| 14 | time       | 0.02796566 |\n",
       "| 14 | submit     | 0.02457674 |\n",
       "| 14 | accid      | 0.02168203 |\n",
       "\n"
      ],
      "text/plain": [
       "  topic term       beta      \n",
       "1 14    report     0.10358096\n",
       "2 14    updat      0.08974287\n",
       "3 14    supplement 0.04801678\n",
       "4 14    final      0.04032110\n",
       "5 14    phmsa      0.03248422\n",
       "6 14    time       0.02796566\n",
       "7 14    submit     0.02457674\n",
       "8 14    accid      0.02168203"
      ]
     },
     "metadata": {},
     "output_type": "display_data"
    }
   ],
   "source": [
    "get_terms(topic = 14)"
   ]
  },
  {
   "cell_type": "code",
   "execution_count": 46,
   "metadata": {
    "execution": {
     "iopub.execute_input": "2020-11-10T19:12:35.051635Z",
     "iopub.status.busy": "2020-11-10T19:12:35.050235Z",
     "iopub.status.idle": "2020-11-10T19:12:35.074263Z",
     "shell.execute_reply": "2020-11-10T19:12:35.073012Z"
    },
    "slideshow": {
     "slide_type": "subslide"
    }
   },
   "outputs": [
    {
     "name": "stdout",
     "output_type": "stream",
     "text": [
      "Incident ID: 20180202\n",
      "Operator ID: 31888\n",
      "\n",
      "On november 21, 2017, at 5:15pm, a contract inspector performing an in-service tank inspection at midland station near midland, texas, while working for centurion pipeline, l.p.(Cpl), discovered a pinhole leak on the 12'' isolation valve to tank 1966's suction/fill line. The contract employee reported the leak to cpl's station operator, who initiated a prompt and effective response. However, approximately 40 barrels of crude oil leaked into the tank containment berm with all 40 barrels of crude oil later being recovered by vacuum truck and soil remediation.    Upon investigation, cpl determined the cause of the leak, located in the 6 o'clock position of the valve body, to be internal corrosion due to the presence of water and microbiologically induced corrosion (mic). Both a visual inspection of the corroded area and lab analysis of the solids removed from the corrosion pits provided the information necessary to determine the cause of the leak. As a result of this leak, cpl identified all other tanks at midland station with similar suction/fill valve configurations, ultrasonically scanned the valves for metal loss, and determined whether valve repairs would be necessary. Further, all similar valve configurations will receive additional biocide treatment no later than february 1, 2018. Additionally, cpl is conducting a study to determine the existence of this incident cause elsewhere in the pipeline system. The result of this study will be communicated in a supplemental report.    Supplemental report filed on january 04, 2017:  this supplemental report is being filed to make two(2) corrections: 1) on page 2, question 7, the response has been updated to reflect zero members of the general public were evacuated, and 2) on page 7, question 8.A, the response has been updated to reflect that contract personnel working for the operator initially recognized the accident. As noted in the original report, another supplemental report will be filed communicating the results of the accident study.    Supplemental final report filed on january 18, 2018:  consistent with the narrative above, cpl expanded the study of tanks with similar suction/fill valve configuration to include the remainder of the system. As a result of the study, cpl identified additional tanks with a similar suction/fill configuration. The additional tanks identified will receive the same precautionary measures are the tanks identified at midland station, which includes ultrasonically scanning the valves for metal loss, performing any necessary repairs, and administering additional biocide treatments no later than march 1, 2018.    Original final report filed on july 13, 2018:  cpl is filing this new original final report at the request of the texas railroad commission (trrc). The initial original report and supplemental reports discussed above were all filed by email with the trrc on an outdated form. This filing is made within the phmsa website at trrc's request and uses the current form.    Since the original report filings were not within the phmsa system, no report number was generated. Cpl is filing this report as an original report since a supplemental report cannot be filed for this accident in phmsa's system without a report number.    No other changes have been made between the january 18, 2018, supplemental report filing and this filing.    Supplemental final report filed on july 27, 2018:  this supplemental final report is being filed to correct a6 from 119788 to 1197885.\n"
     ]
    }
   ],
   "source": [
    "print(get_narrative(14))"
   ]
  },
  {
   "cell_type": "markdown",
   "metadata": {
    "slideshow": {
     "slide_type": "subslide"
    }
   },
   "source": [
    "**This topic is related to reporting of the spill**"
   ]
  },
  {
   "cell_type": "code",
   "execution_count": 47,
   "metadata": {
    "execution": {
     "iopub.execute_input": "2020-11-10T19:12:35.077898Z",
     "iopub.status.busy": "2020-11-10T19:12:35.077083Z",
     "iopub.status.idle": "2020-11-10T19:12:35.092865Z",
     "shell.execute_reply": "2020-11-10T19:12:35.092227Z"
    }
   },
   "outputs": [],
   "source": [
    "gammas[gammas$topic == 14, ]$label <- \"report\"\n",
    "gammas[gammas$topic == 14, ]$cause_topic <- F"
   ]
  },
  {
   "cell_type": "markdown",
   "metadata": {
    "slideshow": {
     "slide_type": "subslide"
    }
   },
   "source": [
    "### Topic 15"
   ]
  },
  {
   "cell_type": "code",
   "execution_count": 48,
   "metadata": {
    "execution": {
     "iopub.execute_input": "2020-11-10T19:12:35.097082Z",
     "iopub.status.busy": "2020-11-10T19:12:35.095874Z",
     "iopub.status.idle": "2020-11-10T19:12:35.113311Z",
     "shell.execute_reply": "2020-11-10T19:12:35.112341Z"
    }
   },
   "outputs": [
    {
     "data": {
      "text/html": [
       "<table>\n",
       "<caption>A tibble: 8 × 3</caption>\n",
       "<thead>\n",
       "\t<tr><th scope=col>topic</th><th scope=col>term</th><th scope=col>beta</th></tr>\n",
       "\t<tr><th scope=col>&lt;int&gt;</th><th scope=col>&lt;chr&gt;</th><th scope=col>&lt;dbl&gt;</th></tr>\n",
       "</thead>\n",
       "<tbody>\n",
       "\t<tr><td>15</td><td>pipelin  </td><td>0.15527622</td></tr>\n",
       "\t<tr><td>15</td><td>personnel</td><td>0.03103073</td></tr>\n",
       "\t<tr><td>15</td><td>site     </td><td>0.02980513</td></tr>\n",
       "\t<tr><td>15</td><td>leak     </td><td>0.02773692</td></tr>\n",
       "\t<tr><td>15</td><td>locat    </td><td>0.02344731</td></tr>\n",
       "\t<tr><td>15</td><td>creek    </td><td>0.01387229</td></tr>\n",
       "\t<tr><td>15</td><td>shutdown </td><td>0.01387229</td></tr>\n",
       "\t<tr><td>15</td><td>shut     </td><td>0.01356589</td></tr>\n",
       "</tbody>\n",
       "</table>\n"
      ],
      "text/latex": [
       "A tibble: 8 × 3\n",
       "\\begin{tabular}{lll}\n",
       " topic & term & beta\\\\\n",
       " <int> & <chr> & <dbl>\\\\\n",
       "\\hline\n",
       "\t 15 & pipelin   & 0.15527622\\\\\n",
       "\t 15 & personnel & 0.03103073\\\\\n",
       "\t 15 & site      & 0.02980513\\\\\n",
       "\t 15 & leak      & 0.02773692\\\\\n",
       "\t 15 & locat     & 0.02344731\\\\\n",
       "\t 15 & creek     & 0.01387229\\\\\n",
       "\t 15 & shutdown  & 0.01387229\\\\\n",
       "\t 15 & shut      & 0.01356589\\\\\n",
       "\\end{tabular}\n"
      ],
      "text/markdown": [
       "\n",
       "A tibble: 8 × 3\n",
       "\n",
       "| topic &lt;int&gt; | term &lt;chr&gt; | beta &lt;dbl&gt; |\n",
       "|---|---|---|\n",
       "| 15 | pipelin   | 0.15527622 |\n",
       "| 15 | personnel | 0.03103073 |\n",
       "| 15 | site      | 0.02980513 |\n",
       "| 15 | leak      | 0.02773692 |\n",
       "| 15 | locat     | 0.02344731 |\n",
       "| 15 | creek     | 0.01387229 |\n",
       "| 15 | shutdown  | 0.01387229 |\n",
       "| 15 | shut      | 0.01356589 |\n",
       "\n"
      ],
      "text/plain": [
       "  topic term      beta      \n",
       "1 15    pipelin   0.15527622\n",
       "2 15    personnel 0.03103073\n",
       "3 15    site      0.02980513\n",
       "4 15    leak      0.02773692\n",
       "5 15    locat     0.02344731\n",
       "6 15    creek     0.01387229\n",
       "7 15    shutdown  0.01387229\n",
       "8 15    shut      0.01356589"
      ]
     },
     "metadata": {},
     "output_type": "display_data"
    }
   ],
   "source": [
    "get_terms(topic = 15)"
   ]
  },
  {
   "cell_type": "code",
   "execution_count": 49,
   "metadata": {
    "execution": {
     "iopub.execute_input": "2020-11-10T19:12:35.117485Z",
     "iopub.status.busy": "2020-11-10T19:12:35.116271Z",
     "iopub.status.idle": "2020-11-10T19:12:35.139220Z",
     "shell.execute_reply": "2020-11-10T19:12:35.138089Z"
    },
    "slideshow": {
     "slide_type": "subslide"
    }
   },
   "outputs": [
    {
     "name": "stdout",
     "output_type": "stream",
     "text": [
      "Incident ID: 20140177\n",
      "Operator ID: 30782\n",
      "\n",
      "The black bay oil pipeline is an unregulated gathering line. This accident is being reported because the pipeline is located in an inlet to the gulf of mexico.3/16/14 - t. Baker smith(tbs) was mobilized to venice, la by eh&s consulting services inc. To provide survey services to assist uscg in identifying existing pipelines in the area of the leak.    3/17/14 - tbs crew met with es&h in the morning and traveled to the work site but wind and sea conditions prevented any survey work.  3/18/14 - the crew returned to the site with eh&s, uscg and j&j diving and performed the field work.  3/19/14 - tbs provided gis information for the pipeline located in the area. Identifying there was only one pipeline existing near the structure that ran north-south direction.  Leak was located just north of the structure.  Harvest pipeline company (hpc) was contacted by uscg about a small discharge in black bay located at 29 28¿ 00.97 n -89 30¿ 53.43¿ w.    3/20/14 - uscg boomed off around a structure nicknamed ¿the birdcage¿.  Uscg discussed with hpc their intentions regarding the situation and hpc representatives stated they didn¿t believe it was their pipeline but would perform any repairs necessary to stop the leak until they could prove the ownership of the pipeline.  Hpc sent documentation and gis files to show the location of their pipeline.  3/21/14 - hpc sent divers out to the leak location.  Divers repaired the leak with a clamp but they were not able to locate hpc¿s pipeline that day due to delays from bad weather. Hpc had divers on standby to locate hpc¿s line when weather permitted.    3/25/14 - uscg informed hpc of a new sheen on the water.  Hpc contracted the dive crew that was on standby for locating hpc¿s pipeline to investigate the suspected leak source and perform any necessary repairs as soon as weather permitted.   3/27/14 - divers replaced a previously installed clamp, cycled the helis facility pumps and observed no further sheens.  Hpc operator¿s were on-site and reported there was no visible sheen or signs of a leak in the area afterwards.  Hpc contracted t. Baker to perform a magnetometer/jet probe survey of the line as soon as possible.  Hpc deployed hard and soft boom around the leak site and had personnel on-site every day until the issue was resolved.  All sheens associated with this incident have dissipated.     3/28/14 - hpc was served with an administrative order from the uscg.  Hpc¿s eh&s manger responded to the administrative order sending a letter via email to the uscg.  Hpc stated they have been working closely with the uscg since late 2013 to investigate and repair an intermittent leak in black bay, louisiana.  While the line¿s ownership was still not clear, hpc has and would continue to take appropriate action to protect the area¿s sensitive environmental resources.  Hpc deployed hard and soft boom around the leak site and would have personnel on-site until this issue was resolved.  3/31/14 - ldnr went out to the site with hpc field personnel and reviewed line survey along with jet probing.  Some pictures were taken of the birdcage and helis platform.  Ldnr headed back in to shore because weather was getting rough.  Pipeline survey work would continue with tbs as weather permits. 4/5/2014 - hpc operations engineer reported to the uscg at approx. 10 am that the leak was believed to be hpc¿s black bay 8¿ pipeline but was waiting for final verification from the survey crew that was out there jetting and surveying hpc¿s pipeline.  4/7/2014 - uscg requested hpc hold a repair plan meeting with them sometime during the week of the 3/7/14.  A repair plan was created just in case the tbs did confirm that this was a hpc pipeline.   4/8/14 - a repair plan was submitted to the uscg by the operations engineer.  A conference call meeting was held with ldnr, uscg, hpc's eh&s manager, area operations manager, pipeline compliance manager and operations engineer to discuss the repair plan.  Ldnr requested to provide\n"
     ]
    }
   ],
   "source": [
    "print(get_narrative(15))"
   ]
  },
  {
   "cell_type": "markdown",
   "metadata": {
    "slideshow": {
     "slide_type": "subslide"
    }
   },
   "source": [
    "**This topic is related to the personnels response on site**"
   ]
  },
  {
   "cell_type": "code",
   "execution_count": 50,
   "metadata": {
    "execution": {
     "iopub.execute_input": "2020-11-10T19:12:35.143579Z",
     "iopub.status.busy": "2020-11-10T19:12:35.142322Z",
     "iopub.status.idle": "2020-11-10T19:12:35.162090Z",
     "shell.execute_reply": "2020-11-10T19:12:35.161067Z"
    }
   },
   "outputs": [],
   "source": [
    "gammas[gammas$topic == 15, ]$label <- \"response\"\n",
    "gammas[gammas$topic == 15, ]$cause_topic <- F"
   ]
  },
  {
   "cell_type": "markdown",
   "metadata": {
    "slideshow": {
     "slide_type": "slide"
    }
   },
   "source": [
    "## Topics 16-20"
   ]
  },
  {
   "cell_type": "markdown",
   "metadata": {
    "slideshow": {
     "slide_type": "subslide"
    }
   },
   "source": [
    "### Topic 16"
   ]
  },
  {
   "cell_type": "code",
   "execution_count": 51,
   "metadata": {
    "execution": {
     "iopub.execute_input": "2020-11-10T19:12:35.166294Z",
     "iopub.status.busy": "2020-11-10T19:12:35.165440Z",
     "iopub.status.idle": "2020-11-10T19:12:35.182254Z",
     "shell.execute_reply": "2020-11-10T19:12:35.181391Z"
    }
   },
   "outputs": [
    {
     "data": {
      "text/html": [
       "<table>\n",
       "<caption>A tibble: 8 × 3</caption>\n",
       "<thead>\n",
       "\t<tr><th scope=col>topic</th><th scope=col>term</th><th scope=col>beta</th></tr>\n",
       "\t<tr><th scope=col>&lt;int&gt;</th><th scope=col>&lt;chr&gt;</th><th scope=col>&lt;dbl&gt;</th></tr>\n",
       "</thead>\n",
       "<tbody>\n",
       "\t<tr><td>16</td><td>valv  </td><td>0.36457309</td></tr>\n",
       "\t<tr><td>16</td><td>close </td><td>0.05783387</td></tr>\n",
       "\t<tr><td>16</td><td>check </td><td>0.04355586</td></tr>\n",
       "\t<tr><td>16</td><td>block </td><td>0.02499445</td></tr>\n",
       "\t<tr><td>16</td><td>oper  </td><td>0.02285275</td></tr>\n",
       "\t<tr><td>16</td><td>replac</td><td>0.02229749</td></tr>\n",
       "\t<tr><td>16</td><td>bodi  </td><td>0.02102833</td></tr>\n",
       "\t<tr><td>16</td><td>pack  </td><td>0.02031443</td></tr>\n",
       "</tbody>\n",
       "</table>\n"
      ],
      "text/latex": [
       "A tibble: 8 × 3\n",
       "\\begin{tabular}{lll}\n",
       " topic & term & beta\\\\\n",
       " <int> & <chr> & <dbl>\\\\\n",
       "\\hline\n",
       "\t 16 & valv   & 0.36457309\\\\\n",
       "\t 16 & close  & 0.05783387\\\\\n",
       "\t 16 & check  & 0.04355586\\\\\n",
       "\t 16 & block  & 0.02499445\\\\\n",
       "\t 16 & oper   & 0.02285275\\\\\n",
       "\t 16 & replac & 0.02229749\\\\\n",
       "\t 16 & bodi   & 0.02102833\\\\\n",
       "\t 16 & pack   & 0.02031443\\\\\n",
       "\\end{tabular}\n"
      ],
      "text/markdown": [
       "\n",
       "A tibble: 8 × 3\n",
       "\n",
       "| topic &lt;int&gt; | term &lt;chr&gt; | beta &lt;dbl&gt; |\n",
       "|---|---|---|\n",
       "| 16 | valv   | 0.36457309 |\n",
       "| 16 | close  | 0.05783387 |\n",
       "| 16 | check  | 0.04355586 |\n",
       "| 16 | block  | 0.02499445 |\n",
       "| 16 | oper   | 0.02285275 |\n",
       "| 16 | replac | 0.02229749 |\n",
       "| 16 | bodi   | 0.02102833 |\n",
       "| 16 | pack   | 0.02031443 |\n",
       "\n"
      ],
      "text/plain": [
       "  topic term   beta      \n",
       "1 16    valv   0.36457309\n",
       "2 16    close  0.05783387\n",
       "3 16    check  0.04355586\n",
       "4 16    block  0.02499445\n",
       "5 16    oper   0.02285275\n",
       "6 16    replac 0.02229749\n",
       "7 16    bodi   0.02102833\n",
       "8 16    pack   0.02031443"
      ]
     },
     "metadata": {},
     "output_type": "display_data"
    }
   ],
   "source": [
    "get_terms(topic = 16)"
   ]
  },
  {
   "cell_type": "code",
   "execution_count": 52,
   "metadata": {
    "execution": {
     "iopub.execute_input": "2020-11-10T19:12:35.186395Z",
     "iopub.status.busy": "2020-11-10T19:12:35.185467Z",
     "iopub.status.idle": "2020-11-10T19:12:35.209004Z",
     "shell.execute_reply": "2020-11-10T19:12:35.208152Z"
    },
    "slideshow": {
     "slide_type": "subslide"
    }
   },
   "outputs": [
    {
     "name": "stdout",
     "output_type": "stream",
     "text": [
      "Incident ID: 20100248\n",
      "Operator ID: 30829\n",
      "\n",
      "Valve would not operate several months ago and operations left the valve partially opened while after attempting to operate it, they did not realize they left it partially opened.  Two months later, a lighter crude was put through the valve, this product ate away at the plug of heavier crude that had clogged up the valve causing the lighter product to flow through the valve that was partially left opened due to the clog and to subsequently leak; then to overfill the sump.  Operated the valve to fully closed.    Valve appeared to be closed because when operations tried to open the valve which was underground, no product went through it and continued to hold product back for several months.  Operations concluded that the valve was closed and did not realize it was very minutely open until the lighter crude washed out the heavier crude plug.      This was the ball valve drains the terminal piping into the sump.    8-22-2011 - the drain ball valve is working properly - new handle was built and installed on valve.\n"
     ]
    }
   ],
   "source": [
    "print(get_narrative(16))"
   ]
  },
  {
   "cell_type": "markdown",
   "metadata": {
    "slideshow": {
     "slide_type": "subslide"
    }
   },
   "source": [
    "**This topic is related to valves and related equipment**"
   ]
  },
  {
   "cell_type": "code",
   "execution_count": 53,
   "metadata": {
    "execution": {
     "iopub.execute_input": "2020-11-10T19:12:35.213040Z",
     "iopub.status.busy": "2020-11-10T19:12:35.211843Z",
     "iopub.status.idle": "2020-11-10T19:12:35.227720Z",
     "shell.execute_reply": "2020-11-10T19:12:35.226830Z"
    }
   },
   "outputs": [],
   "source": [
    "gammas[gammas$topic == 16, ]$label <- \"valve\"\n",
    "gammas[gammas$topic == 16, ]$cause_topic <- T"
   ]
  },
  {
   "cell_type": "markdown",
   "metadata": {
    "slideshow": {
     "slide_type": "subslide"
    }
   },
   "source": [
    "### Topic 17"
   ]
  },
  {
   "cell_type": "code",
   "execution_count": 54,
   "metadata": {
    "execution": {
     "iopub.execute_input": "2020-11-10T19:12:35.233101Z",
     "iopub.status.busy": "2020-11-10T19:12:35.232567Z",
     "iopub.status.idle": "2020-11-10T19:12:35.254473Z",
     "shell.execute_reply": "2020-11-10T19:12:35.253343Z"
    }
   },
   "outputs": [
    {
     "data": {
      "text/html": [
       "<table>\n",
       "<caption>A tibble: 8 × 3</caption>\n",
       "<thead>\n",
       "\t<tr><th scope=col>topic</th><th scope=col>term</th><th scope=col>beta</th></tr>\n",
       "\t<tr><th scope=col>&lt;int&gt;</th><th scope=col>&lt;chr&gt;</th><th scope=col>&lt;dbl&gt;</th></tr>\n",
       "</thead>\n",
       "<tbody>\n",
       "\t<tr><td>17</td><td>leak  </td><td>0.24252745</td></tr>\n",
       "\t<tr><td>17</td><td>found </td><td>0.05218967</td></tr>\n",
       "\t<tr><td>17</td><td>trap  </td><td>0.03494195</td></tr>\n",
       "\t<tr><td>17</td><td>clean </td><td>0.03187764</td></tr>\n",
       "\t<tr><td>17</td><td>ring  </td><td>0.03038926</td></tr>\n",
       "\t<tr><td>17</td><td>pig   </td><td>0.02802536</td></tr>\n",
       "\t<tr><td>17</td><td>discov</td><td>0.02636187</td></tr>\n",
       "\t<tr><td>17</td><td>replac</td><td>0.02557390</td></tr>\n",
       "</tbody>\n",
       "</table>\n"
      ],
      "text/latex": [
       "A tibble: 8 × 3\n",
       "\\begin{tabular}{lll}\n",
       " topic & term & beta\\\\\n",
       " <int> & <chr> & <dbl>\\\\\n",
       "\\hline\n",
       "\t 17 & leak   & 0.24252745\\\\\n",
       "\t 17 & found  & 0.05218967\\\\\n",
       "\t 17 & trap   & 0.03494195\\\\\n",
       "\t 17 & clean  & 0.03187764\\\\\n",
       "\t 17 & ring   & 0.03038926\\\\\n",
       "\t 17 & pig    & 0.02802536\\\\\n",
       "\t 17 & discov & 0.02636187\\\\\n",
       "\t 17 & replac & 0.02557390\\\\\n",
       "\\end{tabular}\n"
      ],
      "text/markdown": [
       "\n",
       "A tibble: 8 × 3\n",
       "\n",
       "| topic &lt;int&gt; | term &lt;chr&gt; | beta &lt;dbl&gt; |\n",
       "|---|---|---|\n",
       "| 17 | leak   | 0.24252745 |\n",
       "| 17 | found  | 0.05218967 |\n",
       "| 17 | trap   | 0.03494195 |\n",
       "| 17 | clean  | 0.03187764 |\n",
       "| 17 | ring   | 0.03038926 |\n",
       "| 17 | pig    | 0.02802536 |\n",
       "| 17 | discov | 0.02636187 |\n",
       "| 17 | replac | 0.02557390 |\n",
       "\n"
      ],
      "text/plain": [
       "  topic term   beta      \n",
       "1 17    leak   0.24252745\n",
       "2 17    found  0.05218967\n",
       "3 17    trap   0.03494195\n",
       "4 17    clean  0.03187764\n",
       "5 17    ring   0.03038926\n",
       "6 17    pig    0.02802536\n",
       "7 17    discov 0.02636187\n",
       "8 17    replac 0.02557390"
      ]
     },
     "metadata": {},
     "output_type": "display_data"
    }
   ],
   "source": [
    "get_terms(topic = 17)"
   ]
  },
  {
   "cell_type": "code",
   "execution_count": 55,
   "metadata": {
    "execution": {
     "iopub.execute_input": "2020-11-10T19:12:35.258033Z",
     "iopub.status.busy": "2020-11-10T19:12:35.257141Z",
     "iopub.status.idle": "2020-11-10T19:12:35.276162Z",
     "shell.execute_reply": "2020-11-10T19:12:35.275053Z"
    },
    "slideshow": {
     "slide_type": "subslide"
    }
   },
   "outputs": [
    {
     "name": "stdout",
     "output_type": "stream",
     "text": [
      "Incident ID: 20150038\n",
      "Operator ID: 32147\n",
      "\n",
      "A technician found oil had leaked out the enclosure door of a strainer during a routine facility inspection.  Three strainers at st. James capline went through annual preventative maintenance on thursday january 16, 2015. While cleaning the strainers, a technician found the o-rings protruded over the lip of the groove and was crushed flat. The o-ring size could not be confirmed due to damage and age. Manufacturer specifications were unknown at the time. Based on field measurements it was determined that the o-rings needed to be 1/4 inch and a 1/4 inch o-ring was installed on each strainer. On january 19 a technician found oil had leaked out of the enclosure door of strainer 212. Thirty-one gallons were found below the strainer on the ground. The manufacturer was contacted and confirmed that the specification was for a 1/4 inch o-ring. It was determined from in-depth measurements that the groove had irregularities, which would not allow the correct 1/4 inch o-ring to seal properly. A stakeholder call was performed to determine a path forward to place a 5/16 o-ring to fill the irregularities.\n"
     ]
    }
   ],
   "source": [
    "print(get_narrative(17))"
   ]
  },
  {
   "cell_type": "markdown",
   "metadata": {
    "slideshow": {
     "slide_type": "subslide"
    }
   },
   "source": [
    "**This topic is related to the leak and clean up**"
   ]
  },
  {
   "cell_type": "code",
   "execution_count": 56,
   "metadata": {
    "execution": {
     "iopub.execute_input": "2020-11-10T19:12:35.280308Z",
     "iopub.status.busy": "2020-11-10T19:12:35.279076Z",
     "iopub.status.idle": "2020-11-10T19:12:35.302153Z",
     "shell.execute_reply": "2020-11-10T19:12:35.301228Z"
    }
   },
   "outputs": [],
   "source": [
    "gammas[gammas$topic == 17, ]$label <- \"leak\"\n",
    "gammas[gammas$topic == 17, ]$cause_topic <- F"
   ]
  },
  {
   "cell_type": "markdown",
   "metadata": {
    "slideshow": {
     "slide_type": "subslide"
    }
   },
   "source": [
    "### Topic 18"
   ]
  },
  {
   "cell_type": "code",
   "execution_count": 57,
   "metadata": {
    "execution": {
     "iopub.execute_input": "2020-11-10T19:12:35.306432Z",
     "iopub.status.busy": "2020-11-10T19:12:35.305190Z",
     "iopub.status.idle": "2020-11-10T19:12:35.327018Z",
     "shell.execute_reply": "2020-11-10T19:12:35.325786Z"
    }
   },
   "outputs": [
    {
     "data": {
      "text/html": [
       "<table>\n",
       "<caption>A tibble: 8 × 3</caption>\n",
       "<thead>\n",
       "\t<tr><th scope=col>topic</th><th scope=col>term</th><th scope=col>beta</th></tr>\n",
       "\t<tr><th scope=col>&lt;int&gt;</th><th scope=col>&lt;chr&gt;</th><th scope=col>&lt;dbl&gt;</th></tr>\n",
       "</thead>\n",
       "<tbody>\n",
       "\t<tr><td>18</td><td>soil    </td><td>0.15333931</td></tr>\n",
       "\t<tr><td>18</td><td>remov   </td><td>0.08312348</td></tr>\n",
       "\t<tr><td>18</td><td>contamin</td><td>0.05840504</td></tr>\n",
       "\t<tr><td>18</td><td>remedi  </td><td>0.05817331</td></tr>\n",
       "\t<tr><td>18</td><td>site    </td><td>0.05137574</td></tr>\n",
       "\t<tr><td>18</td><td>impact  </td><td>0.05091226</td></tr>\n",
       "\t<tr><td>18</td><td>dispos  </td><td>0.03368660</td></tr>\n",
       "\t<tr><td>18</td><td>sampl   </td><td>0.02936087</td></tr>\n",
       "</tbody>\n",
       "</table>\n"
      ],
      "text/latex": [
       "A tibble: 8 × 3\n",
       "\\begin{tabular}{lll}\n",
       " topic & term & beta\\\\\n",
       " <int> & <chr> & <dbl>\\\\\n",
       "\\hline\n",
       "\t 18 & soil     & 0.15333931\\\\\n",
       "\t 18 & remov    & 0.08312348\\\\\n",
       "\t 18 & contamin & 0.05840504\\\\\n",
       "\t 18 & remedi   & 0.05817331\\\\\n",
       "\t 18 & site     & 0.05137574\\\\\n",
       "\t 18 & impact   & 0.05091226\\\\\n",
       "\t 18 & dispos   & 0.03368660\\\\\n",
       "\t 18 & sampl    & 0.02936087\\\\\n",
       "\\end{tabular}\n"
      ],
      "text/markdown": [
       "\n",
       "A tibble: 8 × 3\n",
       "\n",
       "| topic &lt;int&gt; | term &lt;chr&gt; | beta &lt;dbl&gt; |\n",
       "|---|---|---|\n",
       "| 18 | soil     | 0.15333931 |\n",
       "| 18 | remov    | 0.08312348 |\n",
       "| 18 | contamin | 0.05840504 |\n",
       "| 18 | remedi   | 0.05817331 |\n",
       "| 18 | site     | 0.05137574 |\n",
       "| 18 | impact   | 0.05091226 |\n",
       "| 18 | dispos   | 0.03368660 |\n",
       "| 18 | sampl    | 0.02936087 |\n",
       "\n"
      ],
      "text/plain": [
       "  topic term     beta      \n",
       "1 18    soil     0.15333931\n",
       "2 18    remov    0.08312348\n",
       "3 18    contamin 0.05840504\n",
       "4 18    remedi   0.05817331\n",
       "5 18    site     0.05137574\n",
       "6 18    impact   0.05091226\n",
       "7 18    dispos   0.03368660\n",
       "8 18    sampl    0.02936087"
      ]
     },
     "metadata": {},
     "output_type": "display_data"
    }
   ],
   "source": [
    "get_terms(topic = 18)"
   ]
  },
  {
   "cell_type": "code",
   "execution_count": 58,
   "metadata": {
    "execution": {
     "iopub.execute_input": "2020-11-10T19:12:35.331644Z",
     "iopub.status.busy": "2020-11-10T19:12:35.330432Z",
     "iopub.status.idle": "2020-11-10T19:12:35.354184Z",
     "shell.execute_reply": "2020-11-10T19:12:35.353069Z"
    },
    "slideshow": {
     "slide_type": "subslide"
    }
   },
   "outputs": [
    {
     "name": "stdout",
     "output_type": "stream",
     "text": [
      "Incident ID: 20180375\n",
      "Operator ID: 39410\n",
      "\n",
      "Valve manually operated by livestock. The livestock entered through an open gate.   We determined the cause based on cattle footprints observed around the valve. All other logical explanations were eliminated. Completing excavation and blending remediation currently. Re-seed after completion per university lands requirements.     Stingray environmental and construction began excavation on september 21,  2018, to bring all soi.ls above one percent total petroleum hydrocarbons (tph) to the  surface as per swr rule 91(c) 3. The spill was excavated to below rrc regulations,  which yielded approximately 5,861 cubic yards of spill-impacted soil over 1 % tph.  Confirmation soil samples of the excavation bottom were collected for laboratory  analysis oftph using method tx1005 in accordance with rrc guidelines.    Approximately 5,861 cubic yards of spoil material was blended with  approximately 2,500 cubic yards of clean soil from the surrounding area to achieve tph  levels below one percent as per swr 3.9l(d) (1). Confirmation soil samples of the  blended materials were collected for laboratory analysis of tph using method txl 005 in  accordance with rrc guidelines.    Subsequent to the analytical testing confirming the tph levels of below 10,000 ppm for  the excavation and blended soil, the blended soil was utilized as backfill material and site  restoration was completed approximately october 21, 2018.    Confirmation soil samples were collected from the excavated areas bottom for  analysis using method txl 005 for tph by an independent laboratory. Soil samples  collected for confirmation were placed in laboratory prepared glassware, sealed with  custody tape and placed on ice in a secured cooler. The samples and completed chain of  custody were relinquished to pbelab, inc. In midland, texas for analysis. The executed  chain-of-custody forms, laboratory results summary, data sheets and laboratory results  are provided in the appendix 1 of the report.  Based on the analytical results pursuant to swr 3.91, the impacted soil above  10,000 ppm tph was excavated and brought to the surface.  Based on results of our field activities and laboratory analyses, the swr 3.91  standard for tph in soil has been obtained.\n"
     ]
    }
   ],
   "source": [
    "print(get_narrative(18))"
   ]
  },
  {
   "cell_type": "markdown",
   "metadata": {
    "slideshow": {
     "slide_type": "subslide"
    }
   },
   "source": [
    "**This topic is related to soil, contamination and cleanup**"
   ]
  },
  {
   "cell_type": "code",
   "execution_count": 59,
   "metadata": {
    "execution": {
     "iopub.execute_input": "2020-11-10T19:12:35.357947Z",
     "iopub.status.busy": "2020-11-10T19:12:35.357026Z",
     "iopub.status.idle": "2020-11-10T19:12:35.372315Z",
     "shell.execute_reply": "2020-11-10T19:12:35.371669Z"
    }
   },
   "outputs": [],
   "source": [
    "gammas[gammas$topic == 18, ]$label <- \"contamination\"\n",
    "gammas[gammas$topic == 18, ]$cause_topic <- F"
   ]
  },
  {
   "cell_type": "markdown",
   "metadata": {
    "slideshow": {
     "slide_type": "subslide"
    }
   },
   "source": [
    "### Topic 19"
   ]
  },
  {
   "cell_type": "code",
   "execution_count": 60,
   "metadata": {
    "execution": {
     "iopub.execute_input": "2020-11-10T19:12:35.376385Z",
     "iopub.status.busy": "2020-11-10T19:12:35.375217Z",
     "iopub.status.idle": "2020-11-10T19:12:35.394855Z",
     "shell.execute_reply": "2020-11-10T19:12:35.393797Z"
    }
   },
   "outputs": [
    {
     "data": {
      "text/html": [
       "<table>\n",
       "<caption>A tibble: 8 × 3</caption>\n",
       "<thead>\n",
       "\t<tr><th scope=col>topic</th><th scope=col>term</th><th scope=col>beta</th></tr>\n",
       "\t<tr><th scope=col>&lt;int&gt;</th><th scope=col>&lt;chr&gt;</th><th scope=col>&lt;dbl&gt;</th></tr>\n",
       "</thead>\n",
       "<tbody>\n",
       "\t<tr><td>19</td><td>releas  </td><td>0.32112348</td></tr>\n",
       "\t<tr><td>19</td><td>approxim</td><td>0.11096079</td></tr>\n",
       "\t<tr><td>19</td><td>barrel  </td><td>0.04765673</td></tr>\n",
       "\t<tr><td>19</td><td>contain </td><td>0.04187087</td></tr>\n",
       "\t<tr><td>19</td><td>result  </td><td>0.02732115</td></tr>\n",
       "\t<tr><td>19</td><td>properti</td><td>0.02638520</td></tr>\n",
       "\t<tr><td>19</td><td>station </td><td>0.02612994</td></tr>\n",
       "\t<tr><td>19</td><td>immedi  </td><td>0.02366245</td></tr>\n",
       "</tbody>\n",
       "</table>\n"
      ],
      "text/latex": [
       "A tibble: 8 × 3\n",
       "\\begin{tabular}{lll}\n",
       " topic & term & beta\\\\\n",
       " <int> & <chr> & <dbl>\\\\\n",
       "\\hline\n",
       "\t 19 & releas   & 0.32112348\\\\\n",
       "\t 19 & approxim & 0.11096079\\\\\n",
       "\t 19 & barrel   & 0.04765673\\\\\n",
       "\t 19 & contain  & 0.04187087\\\\\n",
       "\t 19 & result   & 0.02732115\\\\\n",
       "\t 19 & properti & 0.02638520\\\\\n",
       "\t 19 & station  & 0.02612994\\\\\n",
       "\t 19 & immedi   & 0.02366245\\\\\n",
       "\\end{tabular}\n"
      ],
      "text/markdown": [
       "\n",
       "A tibble: 8 × 3\n",
       "\n",
       "| topic &lt;int&gt; | term &lt;chr&gt; | beta &lt;dbl&gt; |\n",
       "|---|---|---|\n",
       "| 19 | releas   | 0.32112348 |\n",
       "| 19 | approxim | 0.11096079 |\n",
       "| 19 | barrel   | 0.04765673 |\n",
       "| 19 | contain  | 0.04187087 |\n",
       "| 19 | result   | 0.02732115 |\n",
       "| 19 | properti | 0.02638520 |\n",
       "| 19 | station  | 0.02612994 |\n",
       "| 19 | immedi   | 0.02366245 |\n",
       "\n"
      ],
      "text/plain": [
       "  topic term     beta      \n",
       "1 19    releas   0.32112348\n",
       "2 19    approxim 0.11096079\n",
       "3 19    barrel   0.04765673\n",
       "4 19    contain  0.04187087\n",
       "5 19    result   0.02732115\n",
       "6 19    properti 0.02638520\n",
       "7 19    station  0.02612994\n",
       "8 19    immedi   0.02366245"
      ]
     },
     "metadata": {},
     "output_type": "display_data"
    }
   ],
   "source": [
    "get_terms(topic = 19)"
   ]
  },
  {
   "cell_type": "code",
   "execution_count": 61,
   "metadata": {
    "execution": {
     "iopub.execute_input": "2020-11-10T19:12:35.399078Z",
     "iopub.status.busy": "2020-11-10T19:12:35.397849Z",
     "iopub.status.idle": "2020-11-10T19:12:35.421058Z",
     "shell.execute_reply": "2020-11-10T19:12:35.419962Z"
    },
    "slideshow": {
     "slide_type": "subslide"
    }
   },
   "outputs": [
    {
     "name": "stdout",
     "output_type": "stream",
     "text": [
      "Incident ID: 20190084\n",
      "Operator ID: 300\n",
      "\n",
      "Release occurred due to an insulating flange gasket failure on the fill line of tank 1704, resulting in a release of crude oil.  Oil released was confined within secondary containment on paa property.  The date and time (02/14/19, 18:00) provided for the release is reflective of the last time the area of the incident had been visited, and is therefore the earliest possible time that the release could have started.\n"
     ]
    }
   ],
   "source": [
    "print(get_narrative(19))"
   ]
  },
  {
   "cell_type": "markdown",
   "metadata": {
    "slideshow": {
     "slide_type": "subslide"
    }
   },
   "source": [
    "**This topic is related to the release of oil**"
   ]
  },
  {
   "cell_type": "code",
   "execution_count": 62,
   "metadata": {
    "execution": {
     "iopub.execute_input": "2020-11-10T19:12:35.425233Z",
     "iopub.status.busy": "2020-11-10T19:12:35.423981Z",
     "iopub.status.idle": "2020-11-10T19:12:35.439733Z",
     "shell.execute_reply": "2020-11-10T19:12:35.439077Z"
    }
   },
   "outputs": [],
   "source": [
    "gammas[gammas$topic == 19, ]$label <- \"release\"\n",
    "gammas[gammas$topic == 19, ]$cause_topic <- F"
   ]
  },
  {
   "cell_type": "markdown",
   "metadata": {
    "slideshow": {
     "slide_type": "subslide"
    }
   },
   "source": [
    "### Topic 20"
   ]
  },
  {
   "cell_type": "code",
   "execution_count": 63,
   "metadata": {
    "execution": {
     "iopub.execute_input": "2020-11-10T19:12:35.445009Z",
     "iopub.status.busy": "2020-11-10T19:12:35.443046Z",
     "iopub.status.idle": "2020-11-10T19:12:35.462671Z",
     "shell.execute_reply": "2020-11-10T19:12:35.461597Z"
    }
   },
   "outputs": [
    {
     "data": {
      "text/html": [
       "<table>\n",
       "<caption>A tibble: 8 × 3</caption>\n",
       "<thead>\n",
       "\t<tr><th scope=col>topic</th><th scope=col>term</th><th scope=col>beta</th></tr>\n",
       "\t<tr><th scope=col>&lt;int&gt;</th><th scope=col>&lt;chr&gt;</th><th scope=col>&lt;dbl&gt;</th></tr>\n",
       "</thead>\n",
       "<tbody>\n",
       "\t<tr><td>20</td><td>oil     </td><td>0.24599413</td></tr>\n",
       "\t<tr><td>20</td><td>crude   </td><td>0.15974581</td></tr>\n",
       "\t<tr><td>20</td><td>spill   </td><td>0.04922203</td></tr>\n",
       "\t<tr><td>20</td><td>approxim</td><td>0.04408524</td></tr>\n",
       "\t<tr><td>20</td><td>bbl     </td><td>0.04002552</td></tr>\n",
       "\t<tr><td>20</td><td>truck   </td><td>0.03944556</td></tr>\n",
       "\t<tr><td>20</td><td>barrel  </td><td>0.03182323</td></tr>\n",
       "\t<tr><td>20</td><td>ground  </td><td>0.02262672</td></tr>\n",
       "</tbody>\n",
       "</table>\n"
      ],
      "text/latex": [
       "A tibble: 8 × 3\n",
       "\\begin{tabular}{lll}\n",
       " topic & term & beta\\\\\n",
       " <int> & <chr> & <dbl>\\\\\n",
       "\\hline\n",
       "\t 20 & oil      & 0.24599413\\\\\n",
       "\t 20 & crude    & 0.15974581\\\\\n",
       "\t 20 & spill    & 0.04922203\\\\\n",
       "\t 20 & approxim & 0.04408524\\\\\n",
       "\t 20 & bbl      & 0.04002552\\\\\n",
       "\t 20 & truck    & 0.03944556\\\\\n",
       "\t 20 & barrel   & 0.03182323\\\\\n",
       "\t 20 & ground   & 0.02262672\\\\\n",
       "\\end{tabular}\n"
      ],
      "text/markdown": [
       "\n",
       "A tibble: 8 × 3\n",
       "\n",
       "| topic &lt;int&gt; | term &lt;chr&gt; | beta &lt;dbl&gt; |\n",
       "|---|---|---|\n",
       "| 20 | oil      | 0.24599413 |\n",
       "| 20 | crude    | 0.15974581 |\n",
       "| 20 | spill    | 0.04922203 |\n",
       "| 20 | approxim | 0.04408524 |\n",
       "| 20 | bbl      | 0.04002552 |\n",
       "| 20 | truck    | 0.03944556 |\n",
       "| 20 | barrel   | 0.03182323 |\n",
       "| 20 | ground   | 0.02262672 |\n",
       "\n"
      ],
      "text/plain": [
       "  topic term     beta      \n",
       "1 20    oil      0.24599413\n",
       "2 20    crude    0.15974581\n",
       "3 20    spill    0.04922203\n",
       "4 20    approxim 0.04408524\n",
       "5 20    bbl      0.04002552\n",
       "6 20    truck    0.03944556\n",
       "7 20    barrel   0.03182323\n",
       "8 20    ground   0.02262672"
      ]
     },
     "metadata": {},
     "output_type": "display_data"
    }
   ],
   "source": [
    "get_terms(topic = 20)"
   ]
  },
  {
   "cell_type": "code",
   "execution_count": 64,
   "metadata": {
    "execution": {
     "iopub.execute_input": "2020-11-10T19:12:35.467026Z",
     "iopub.status.busy": "2020-11-10T19:12:35.465727Z",
     "iopub.status.idle": "2020-11-10T19:12:35.497359Z",
     "shell.execute_reply": "2020-11-10T19:12:35.496329Z"
    },
    "slideshow": {
     "slide_type": "subslide"
    }
   },
   "outputs": [
    {
     "name": "stdout",
     "output_type": "stream",
     "text": [
      "Incident ID: 20180323\n",
      "Operator ID: 31871\n",
      "\n",
      "Markwest operation's personnel had loaded a pig into the launcher barrel to be pushed with nitrogen to displace the crude oil in the pipeline for abandonment.  A 2\" drain valve on the launcher barrel was accidentally left partially open allowing crude oil to fill the sump.  Eight (8) barrels of crude oil spilled out onto the ground, but was contained on our launcher property.  A vacuum truck was on-site for the operation and it was used to sucked up the spilled crude oil that was returned the pipeline system.  The contaminated soil was sucked up separately and placed in a contained vessel for testing and non-hazardous disposal.\n"
     ]
    }
   ],
   "source": [
    "print(get_narrative(20))"
   ]
  },
  {
   "cell_type": "markdown",
   "metadata": {
    "slideshow": {
     "slide_type": "subslide"
    }
   },
   "source": [
    "**This topic contains words to describe a spill**"
   ]
  },
  {
   "cell_type": "code",
   "execution_count": 65,
   "metadata": {
    "execution": {
     "iopub.execute_input": "2020-11-10T19:12:35.501724Z",
     "iopub.status.busy": "2020-11-10T19:12:35.500284Z",
     "iopub.status.idle": "2020-11-10T19:12:35.515837Z",
     "shell.execute_reply": "2020-11-10T19:12:35.515189Z"
    }
   },
   "outputs": [],
   "source": [
    "gammas[gammas$topic == 20, ]$label <- \"spill\"\n",
    "gammas[gammas$topic == 20, ]$cause_topic <- F"
   ]
  },
  {
   "cell_type": "markdown",
   "metadata": {
    "slideshow": {
     "slide_type": "slide"
    }
   },
   "source": [
    "## Topics 21-23"
   ]
  },
  {
   "cell_type": "markdown",
   "metadata": {
    "slideshow": {
     "slide_type": "subslide"
    }
   },
   "source": [
    "### Topic 21"
   ]
  },
  {
   "cell_type": "code",
   "execution_count": 66,
   "metadata": {
    "execution": {
     "iopub.execute_input": "2020-11-10T19:12:35.520148Z",
     "iopub.status.busy": "2020-11-10T19:12:35.518938Z",
     "iopub.status.idle": "2020-11-10T19:12:35.536323Z",
     "shell.execute_reply": "2020-11-10T19:12:35.535337Z"
    }
   },
   "outputs": [
    {
     "data": {
      "text/html": [
       "<table>\n",
       "<caption>A tibble: 8 × 3</caption>\n",
       "<thead>\n",
       "\t<tr><th scope=col>topic</th><th scope=col>term</th><th scope=col>beta</th></tr>\n",
       "\t<tr><th scope=col>&lt;int&gt;</th><th scope=col>&lt;chr&gt;</th><th scope=col>&lt;dbl&gt;</th></tr>\n",
       "</thead>\n",
       "<tbody>\n",
       "\t<tr><td>21</td><td>fire   </td><td>0.03924397</td></tr>\n",
       "\t<tr><td>21</td><td>respons</td><td>0.03652385</td></tr>\n",
       "\t<tr><td>21</td><td>emerg  </td><td>0.03479286</td></tr>\n",
       "\t<tr><td>21</td><td>gasolin</td><td>0.02918775</td></tr>\n",
       "\t<tr><td>21</td><td>hour   </td><td>0.02440693</td></tr>\n",
       "\t<tr><td>21</td><td>fuel   </td><td>0.02119224</td></tr>\n",
       "\t<tr><td>21</td><td>depart </td><td>0.02045039</td></tr>\n",
       "\t<tr><td>21</td><td>employe</td><td>0.02028553</td></tr>\n",
       "</tbody>\n",
       "</table>\n"
      ],
      "text/latex": [
       "A tibble: 8 × 3\n",
       "\\begin{tabular}{lll}\n",
       " topic & term & beta\\\\\n",
       " <int> & <chr> & <dbl>\\\\\n",
       "\\hline\n",
       "\t 21 & fire    & 0.03924397\\\\\n",
       "\t 21 & respons & 0.03652385\\\\\n",
       "\t 21 & emerg   & 0.03479286\\\\\n",
       "\t 21 & gasolin & 0.02918775\\\\\n",
       "\t 21 & hour    & 0.02440693\\\\\n",
       "\t 21 & fuel    & 0.02119224\\\\\n",
       "\t 21 & depart  & 0.02045039\\\\\n",
       "\t 21 & employe & 0.02028553\\\\\n",
       "\\end{tabular}\n"
      ],
      "text/markdown": [
       "\n",
       "A tibble: 8 × 3\n",
       "\n",
       "| topic &lt;int&gt; | term &lt;chr&gt; | beta &lt;dbl&gt; |\n",
       "|---|---|---|\n",
       "| 21 | fire    | 0.03924397 |\n",
       "| 21 | respons | 0.03652385 |\n",
       "| 21 | emerg   | 0.03479286 |\n",
       "| 21 | gasolin | 0.02918775 |\n",
       "| 21 | hour    | 0.02440693 |\n",
       "| 21 | fuel    | 0.02119224 |\n",
       "| 21 | depart  | 0.02045039 |\n",
       "| 21 | employe | 0.02028553 |\n",
       "\n"
      ],
      "text/plain": [
       "  topic term    beta      \n",
       "1 21    fire    0.03924397\n",
       "2 21    respons 0.03652385\n",
       "3 21    emerg   0.03479286\n",
       "4 21    gasolin 0.02918775\n",
       "5 21    hour    0.02440693\n",
       "6 21    fuel    0.02119224\n",
       "7 21    depart  0.02045039\n",
       "8 21    employe 0.02028553"
      ]
     },
     "metadata": {},
     "output_type": "display_data"
    }
   ],
   "source": [
    "get_terms(topic = 21)"
   ]
  },
  {
   "cell_type": "code",
   "execution_count": 67,
   "metadata": {
    "execution": {
     "iopub.execute_input": "2020-11-10T19:12:35.540721Z",
     "iopub.status.busy": "2020-11-10T19:12:35.539437Z",
     "iopub.status.idle": "2020-11-10T19:12:35.563570Z",
     "shell.execute_reply": "2020-11-10T19:12:35.562395Z"
    },
    "slideshow": {
     "slide_type": "subslide"
    }
   },
   "outputs": [
    {
     "name": "stdout",
     "output_type": "stream",
     "text": [
      "Incident ID: 20090367\n",
      "Operator ID: 1845\n",
      "\n",
      "On december 29, 2009 at 10:00 p.m., buckeye partners’ (buckeye) control center in breinigsville, pa received a call from the aston, pa fire marshall reporting gasoline odors in the area of clearview lane in aston, pa. Buckeye’s 8” pipeline in the area (ct553jp) had been shut down earlier in the day as part of a normal, scheduled shut down and the pipeline pressure was being monitored. After notification from buckeye‘s control center, field personnel arrived at the site and confirmed the presence of gasoline odors.     At 12:45 a.m. On december 30, 2009, a representative of the pennsylvania department of environmental protection (padep) measured gas odors in several adjacent sanitary sewer manholes  as well as a few nearby residences. The fire department requested the evacuation of four residences as a precaution until the vapor levels subsided.  At 1:40 a.m. On december 30, 2009 a unified command was established by buckeye’s local operations manager. Buckeye personnel proceeded to walk the pipeline right of way and although no visible product was seen, they did detect an odor in some areas.  Buckeye decided to walk the pipeline right of way again during daylight hours and to dig test holes in the areas of high vapor levels. By noon on december 30, 2009, buckeye had a total of ten locations probed between cherry tree street and overlook street with no product found. The test holes dug on arbor lane were also found to be clean of product.     At 12:28 p.m. On december 30, 2009, the padep representative indicated that it appeared that the problem was in the vicinity of scott lane because the sewer manholes on cherry tree street and frazer street had high vapor levels. Buckeye decided to excavate the gasoline tank lines inside the adjacent chelsea station since these pipelines were closer to scott street. At 10:00 p.m. On december 30, 2009 buckeye personnel identified high vapor levels and visible product in the excavation at the tank junction valves in chelsea station. The release was determined to be on the tank 701 line. At 1:30 a.m. On december 31, 2009, buckeye installed a plidco sleeve, which stopped the release.  At noon on december 31, 2009, all residents were cleared to safely return to their homes.  On january 1, 2010, the local sewer authority confirmed at least three breaches in the sanitary sewer line located under cherry tree street.  These breaches allowed gasoline from the release to get into the sanitary sewer system.  The local sewer authority is presently in the process of repairing the sewer system in this area.    Buckeye continues to monitor the plidco sleeve twice daily until permanent repairs can be completed, which is scheduled for the week of february 8, 2010.  Buckeye has dug numerous test wells and continues to work on both the remediation of the release and determining the estimated volume. Buckeye notified all appropriate outside agencies of this incident.     Permanent repairs were completed on february 12, 2010 by cutting out the damaged pipe and replacing it with certified pipe. The damaged pipe has been sent to a laboratory for metallurgical analysis.     Metallurgical analysis revealed the cause of the external corrosion to be microbiologically induced corrosion. Remediation is still on-going. Operation of the facility was turned over to conocophillips on 3-1-11.      ----------------  update 12/11/12  costs have been updated to reflect acutal amounts after turning operation over to the owner, conoco phillips. This release report is being finalized by buckeye. No further updates will be submitted.\n"
     ]
    }
   ],
   "source": [
    "print(get_narrative(21))"
   ]
  },
  {
   "cell_type": "markdown",
   "metadata": {
    "slideshow": {
     "slide_type": "subslide"
    }
   },
   "source": [
    "**This topic is related to fire and emergencies**"
   ]
  },
  {
   "cell_type": "code",
   "execution_count": 68,
   "metadata": {
    "execution": {
     "iopub.execute_input": "2020-11-10T19:12:35.568738Z",
     "iopub.status.busy": "2020-11-10T19:12:35.567225Z",
     "iopub.status.idle": "2020-11-10T19:12:35.598384Z",
     "shell.execute_reply": "2020-11-10T19:12:35.597624Z"
    }
   },
   "outputs": [],
   "source": [
    "gammas[gammas$topic == 21, ]$label <- \"fire\"\n",
    "gammas[gammas$topic == 21, ]$cause_topic <- T"
   ]
  },
  {
   "cell_type": "markdown",
   "metadata": {
    "slideshow": {
     "slide_type": "subslide"
    }
   },
   "source": [
    "### Topic 22"
   ]
  },
  {
   "cell_type": "code",
   "execution_count": 69,
   "metadata": {
    "execution": {
     "iopub.execute_input": "2020-11-10T19:12:35.603152Z",
     "iopub.status.busy": "2020-11-10T19:12:35.602219Z",
     "iopub.status.idle": "2020-11-10T19:12:35.626093Z",
     "shell.execute_reply": "2020-11-10T19:12:35.625013Z"
    }
   },
   "outputs": [
    {
     "data": {
      "text/html": [
       "<table>\n",
       "<caption>A tibble: 8 × 3</caption>\n",
       "<thead>\n",
       "\t<tr><th scope=col>topic</th><th scope=col>term</th><th scope=col>beta</th></tr>\n",
       "\t<tr><th scope=col>&lt;int&gt;</th><th scope=col>&lt;chr&gt;</th><th scope=col>&lt;dbl&gt;</th></tr>\n",
       "</thead>\n",
       "<tbody>\n",
       "\t<tr><td>22</td><td>tank   </td><td>0.30374284</td></tr>\n",
       "\t<tr><td>22</td><td>inspect</td><td>0.04784685</td></tr>\n",
       "\t<tr><td>22</td><td>product</td><td>0.04527150</td></tr>\n",
       "\t<tr><td>22</td><td>servic </td><td>0.03863803</td></tr>\n",
       "\t<tr><td>22</td><td>dike   </td><td>0.02162512</td></tr>\n",
       "\t<tr><td>22</td><td>floor  </td><td>0.02045451</td></tr>\n",
       "\t<tr><td>22</td><td>fill   </td><td>0.01943998</td></tr>\n",
       "\t<tr><td>22</td><td>farm   </td><td>0.01780112</td></tr>\n",
       "</tbody>\n",
       "</table>\n"
      ],
      "text/latex": [
       "A tibble: 8 × 3\n",
       "\\begin{tabular}{lll}\n",
       " topic & term & beta\\\\\n",
       " <int> & <chr> & <dbl>\\\\\n",
       "\\hline\n",
       "\t 22 & tank    & 0.30374284\\\\\n",
       "\t 22 & inspect & 0.04784685\\\\\n",
       "\t 22 & product & 0.04527150\\\\\n",
       "\t 22 & servic  & 0.03863803\\\\\n",
       "\t 22 & dike    & 0.02162512\\\\\n",
       "\t 22 & floor   & 0.02045451\\\\\n",
       "\t 22 & fill    & 0.01943998\\\\\n",
       "\t 22 & farm    & 0.01780112\\\\\n",
       "\\end{tabular}\n"
      ],
      "text/markdown": [
       "\n",
       "A tibble: 8 × 3\n",
       "\n",
       "| topic &lt;int&gt; | term &lt;chr&gt; | beta &lt;dbl&gt; |\n",
       "|---|---|---|\n",
       "| 22 | tank    | 0.30374284 |\n",
       "| 22 | inspect | 0.04784685 |\n",
       "| 22 | product | 0.04527150 |\n",
       "| 22 | servic  | 0.03863803 |\n",
       "| 22 | dike    | 0.02162512 |\n",
       "| 22 | floor   | 0.02045451 |\n",
       "| 22 | fill    | 0.01943998 |\n",
       "| 22 | farm    | 0.01780112 |\n",
       "\n"
      ],
      "text/plain": [
       "  topic term    beta      \n",
       "1 22    tank    0.30374284\n",
       "2 22    inspect 0.04784685\n",
       "3 22    product 0.04527150\n",
       "4 22    servic  0.03863803\n",
       "5 22    dike    0.02162512\n",
       "6 22    floor   0.02045451\n",
       "7 22    fill    0.01943998\n",
       "8 22    farm    0.01780112"
      ]
     },
     "metadata": {},
     "output_type": "display_data"
    }
   ],
   "source": [
    "get_terms(topic = 22)"
   ]
  },
  {
   "cell_type": "code",
   "execution_count": 70,
   "metadata": {
    "execution": {
     "iopub.execute_input": "2020-11-10T19:12:35.629577Z",
     "iopub.status.busy": "2020-11-10T19:12:35.628746Z",
     "iopub.status.idle": "2020-11-10T19:12:35.646290Z",
     "shell.execute_reply": "2020-11-10T19:12:35.645518Z"
    },
    "slideshow": {
     "slide_type": "subslide"
    }
   },
   "outputs": [
    {
     "name": "stdout",
     "output_type": "stream",
     "text": [
      "Incident ID: 20110009\n",
      "Operator ID: 4805\n",
      "\n",
      "Seventy-five gallons of free-phase jet fuel was identified next to a storage tank at explorer pipelines port arthur, texas tank farm. The release was completely contained inside the tank dike. The contents of the tank were transferred to another tank to allow the tank to be cleaned and inspected.    Following cleaning the tank, the tank valve was removed and inspected, a visual inspection of the tank floor was completed, a vacuum box test was completed, a helium test that included probing under the tank through the helium test ports was completed, as well as a magnetic particle testing of the corner welds and the dollar plate was completed. In addition, a guided wave test of the entire suction and fill line as well as a hydrostatic test of the suction and fill line under the tank and to the manifold was completed. However, none of the tests have identified the source of the product that was located by the tank.       A may 30, 2012 metallurgical report from anderson and associates concluded corrosion fatigue on the underside of the tank floor surface of the tank just inside the heat affected zone of the corner weld was the source.  The costs for the tank cleaning, all the testing of the tank and lines and the costs to replace the sketch plate on the entire circumference of the tank are listed in the part d of the report.     The mop at the point and time of the accident is assumed to be associated with a ansi class 150 system inside the terminal and is listed as 275 psi.     The estimated pressure at the point and time is assuming 12 psi of head pressure from a tank.    Form supplemented to account for question e.f.5.\n"
     ]
    }
   ],
   "source": [
    "print(get_narrative(22))"
   ]
  },
  {
   "cell_type": "markdown",
   "metadata": {
    "slideshow": {
     "slide_type": "subslide"
    }
   },
   "source": [
    "**This topic is related to tanks and related facilities and equipment**"
   ]
  },
  {
   "cell_type": "code",
   "execution_count": 71,
   "metadata": {
    "execution": {
     "iopub.execute_input": "2020-11-10T19:12:35.650464Z",
     "iopub.status.busy": "2020-11-10T19:12:35.649190Z",
     "iopub.status.idle": "2020-11-10T19:12:35.665063Z",
     "shell.execute_reply": "2020-11-10T19:12:35.664220Z"
    }
   },
   "outputs": [],
   "source": [
    "gammas[gammas$topic == 22, ]$label <- \"tanks\"\n",
    "gammas[gammas$topic == 22, ]$cause_topic <- T"
   ]
  },
  {
   "cell_type": "markdown",
   "metadata": {
    "slideshow": {
     "slide_type": "subslide"
    }
   },
   "source": [
    "### Topic 23"
   ]
  },
  {
   "cell_type": "code",
   "execution_count": 72,
   "metadata": {
    "execution": {
     "iopub.execute_input": "2020-11-10T19:12:35.669353Z",
     "iopub.status.busy": "2020-11-10T19:12:35.668221Z",
     "iopub.status.idle": "2020-11-10T19:12:35.690170Z",
     "shell.execute_reply": "2020-11-10T19:12:35.689119Z"
    }
   },
   "outputs": [
    {
     "data": {
      "text/html": [
       "<table>\n",
       "<caption>A tibble: 8 × 3</caption>\n",
       "<thead>\n",
       "\t<tr><th scope=col>topic</th><th scope=col>term</th><th scope=col>beta</th></tr>\n",
       "\t<tr><th scope=col>&lt;int&gt;</th><th scope=col>&lt;chr&gt;</th><th scope=col>&lt;dbl&gt;</th></tr>\n",
       "</thead>\n",
       "<tbody>\n",
       "\t<tr><td>23</td><td>analysi  </td><td>0.06005783</td></tr>\n",
       "\t<tr><td>23</td><td>weld     </td><td>0.05331600</td></tr>\n",
       "\t<tr><td>23</td><td>failur   </td><td>0.05192594</td></tr>\n",
       "\t<tr><td>23</td><td>crack    </td><td>0.05067488</td></tr>\n",
       "\t<tr><td>23</td><td>metallurg</td><td>0.02377709</td></tr>\n",
       "\t<tr><td>23</td><td>result   </td><td>0.01627073</td></tr>\n",
       "\t<tr><td>23</td><td>inch     </td><td>0.01606222</td></tr>\n",
       "\t<tr><td>23</td><td>sleev    </td><td>0.01481116</td></tr>\n",
       "</tbody>\n",
       "</table>\n"
      ],
      "text/latex": [
       "A tibble: 8 × 3\n",
       "\\begin{tabular}{lll}\n",
       " topic & term & beta\\\\\n",
       " <int> & <chr> & <dbl>\\\\\n",
       "\\hline\n",
       "\t 23 & analysi   & 0.06005783\\\\\n",
       "\t 23 & weld      & 0.05331600\\\\\n",
       "\t 23 & failur    & 0.05192594\\\\\n",
       "\t 23 & crack     & 0.05067488\\\\\n",
       "\t 23 & metallurg & 0.02377709\\\\\n",
       "\t 23 & result    & 0.01627073\\\\\n",
       "\t 23 & inch      & 0.01606222\\\\\n",
       "\t 23 & sleev     & 0.01481116\\\\\n",
       "\\end{tabular}\n"
      ],
      "text/markdown": [
       "\n",
       "A tibble: 8 × 3\n",
       "\n",
       "| topic &lt;int&gt; | term &lt;chr&gt; | beta &lt;dbl&gt; |\n",
       "|---|---|---|\n",
       "| 23 | analysi   | 0.06005783 |\n",
       "| 23 | weld      | 0.05331600 |\n",
       "| 23 | failur    | 0.05192594 |\n",
       "| 23 | crack     | 0.05067488 |\n",
       "| 23 | metallurg | 0.02377709 |\n",
       "| 23 | result    | 0.01627073 |\n",
       "| 23 | inch      | 0.01606222 |\n",
       "| 23 | sleev     | 0.01481116 |\n",
       "\n"
      ],
      "text/plain": [
       "  topic term      beta      \n",
       "1 23    analysi   0.06005783\n",
       "2 23    weld      0.05331600\n",
       "3 23    failur    0.05192594\n",
       "4 23    crack     0.05067488\n",
       "5 23    metallurg 0.02377709\n",
       "6 23    result    0.01627073\n",
       "7 23    inch      0.01606222\n",
       "8 23    sleev     0.01481116"
      ]
     },
     "metadata": {},
     "output_type": "display_data"
    }
   ],
   "source": [
    "get_terms(topic = 23)"
   ]
  },
  {
   "cell_type": "code",
   "execution_count": 73,
   "metadata": {
    "execution": {
     "iopub.execute_input": "2020-11-10T19:12:35.694587Z",
     "iopub.status.busy": "2020-11-10T19:12:35.693428Z",
     "iopub.status.idle": "2020-11-10T19:12:35.718266Z",
     "shell.execute_reply": "2020-11-10T19:12:35.717068Z"
    },
    "slideshow": {
     "slide_type": "subslide"
    }
   },
   "outputs": [
    {
     "name": "stdout",
     "output_type": "stream",
     "text": [
      "Incident ID: 20050073\n",
      "Operator ID: 12470\n",
      "\n",
      "Failure occurred in weld located 50 ft from the bank of the kentucky river.  The failure is believed to have been caused by soil subsidence which was caused by high water.  The soil subsidence exerted force on the weld, causing it to crack.  Failed section of pipe has been sent to cc technologies for failure analysis.  The ops failure analysis protocol is being used by cc technologies.  Leak volumes are still estimates subject to upward revision.   5-11-05 the failed section of pipe was taken by cc technologies (cct) to their facility for a failure analysis.  The result of the failure analysis confirmed the presence of a through-wall crack in the 22\" girth weld.  The crack extended for 2:30 to the 8:00 orientation, looking downstream, on the bottom of the pipe.  Cct concluded that there were three contributing factors to the pipeline failure as follows: \"in conclusion, the three contributing factors in the pipeline failure were a bending stress on the pipe caused by severe flooding of the nearby kentucky river, a poor quality girth weld exhibited by porosity and or inclusions in the weld as well as secondary cracks at the weld base, and an offset between the two sections joined by the failed girth weld.\" Cct also points out that \"the weld quality is typical for this pipe vintage and would not have posed a problem in the absence of outside bending forces.\"\n"
     ]
    }
   ],
   "source": [
    "print(get_narrative(23))"
   ]
  },
  {
   "cell_type": "markdown",
   "metadata": {
    "slideshow": {
     "slide_type": "subslide"
    }
   },
   "source": [
    "**This topic is related to cracks and other kinds of failures**"
   ]
  },
  {
   "cell_type": "code",
   "execution_count": 74,
   "metadata": {
    "execution": {
     "iopub.execute_input": "2020-11-10T19:12:35.723364Z",
     "iopub.status.busy": "2020-11-10T19:12:35.721879Z",
     "iopub.status.idle": "2020-11-10T19:12:35.742070Z",
     "shell.execute_reply": "2020-11-10T19:12:35.741116Z"
    }
   },
   "outputs": [],
   "source": [
    "gammas[gammas$topic == 23, ]$label <- \"crack\"\n",
    "gammas[gammas$topic == 23, ]$cause_topic <- T"
   ]
  },
  {
   "cell_type": "markdown",
   "metadata": {
    "slideshow": {
     "slide_type": "slide"
    }
   },
   "source": [
    "## Save results"
   ]
  },
  {
   "cell_type": "code",
   "execution_count": 75,
   "metadata": {
    "execution": {
     "iopub.execute_input": "2020-11-10T19:12:35.746790Z",
     "iopub.status.busy": "2020-11-10T19:12:35.745456Z",
     "iopub.status.idle": "2020-11-10T19:12:35.770473Z",
     "shell.execute_reply": "2020-11-10T19:12:35.769019Z"
    }
   },
   "outputs": [
    {
     "data": {
      "text/html": [
       "<table>\n",
       "<caption>A tibble: 6 × 9</caption>\n",
       "<thead>\n",
       "\t<tr><th scope=col>incident_ID</th><th scope=col>ID</th><th scope=col>year</th><th scope=col>commodity</th><th scope=col>on_offshore</th><th scope=col>topic</th><th scope=col>gamma</th><th scope=col>label</th><th scope=col>cause_topic</th></tr>\n",
       "\t<tr><th scope=col>&lt;chr&gt;</th><th scope=col>&lt;chr&gt;</th><th scope=col>&lt;dbl&gt;</th><th scope=col>&lt;chr&gt;</th><th scope=col>&lt;chr&gt;</th><th scope=col>&lt;int&gt;</th><th scope=col>&lt;dbl&gt;</th><th scope=col>&lt;chr&gt;</th><th scope=col>&lt;lgl&gt;</th></tr>\n",
       "</thead>\n",
       "<tbody>\n",
       "\t<tr><td>20040015</td><td>19237</td><td>2004</td><td>rpp</td><td>onshore</td><td>1</td><td>0.03150599</td><td>report_mngt   </td><td>FALSE</td></tr>\n",
       "\t<tr><td>20040015</td><td>19237</td><td>2004</td><td>rpp</td><td>onshore</td><td>2</td><td>0.03150599</td><td>spill_mngt    </td><td>FALSE</td></tr>\n",
       "\t<tr><td>20040015</td><td>19237</td><td>2004</td><td>rpp</td><td>onshore</td><td>3</td><td>0.04599874</td><td>excavation    </td><td> TRUE</td></tr>\n",
       "\t<tr><td>20040015</td><td>19237</td><td>2004</td><td>rpp</td><td>onshore</td><td>4</td><td>0.17643352</td><td>water         </td><td> TRUE</td></tr>\n",
       "\t<tr><td>20040015</td><td>19237</td><td>2004</td><td>rpp</td><td>onshore</td><td>5</td><td>0.03150599</td><td>control_center</td><td>FALSE</td></tr>\n",
       "\t<tr><td>20040015</td><td>19237</td><td>2004</td><td>rpp</td><td>onshore</td><td>6</td><td>0.03150599</td><td>service       </td><td>FALSE</td></tr>\n",
       "</tbody>\n",
       "</table>\n"
      ],
      "text/latex": [
       "A tibble: 6 × 9\n",
       "\\begin{tabular}{lllllllll}\n",
       " incident\\_ID & ID & year & commodity & on\\_offshore & topic & gamma & label & cause\\_topic\\\\\n",
       " <chr> & <chr> & <dbl> & <chr> & <chr> & <int> & <dbl> & <chr> & <lgl>\\\\\n",
       "\\hline\n",
       "\t 20040015 & 19237 & 2004 & rpp & onshore & 1 & 0.03150599 & report\\_mngt    & FALSE\\\\\n",
       "\t 20040015 & 19237 & 2004 & rpp & onshore & 2 & 0.03150599 & spill\\_mngt     & FALSE\\\\\n",
       "\t 20040015 & 19237 & 2004 & rpp & onshore & 3 & 0.04599874 & excavation     &  TRUE\\\\\n",
       "\t 20040015 & 19237 & 2004 & rpp & onshore & 4 & 0.17643352 & water          &  TRUE\\\\\n",
       "\t 20040015 & 19237 & 2004 & rpp & onshore & 5 & 0.03150599 & control\\_center & FALSE\\\\\n",
       "\t 20040015 & 19237 & 2004 & rpp & onshore & 6 & 0.03150599 & service        & FALSE\\\\\n",
       "\\end{tabular}\n"
      ],
      "text/markdown": [
       "\n",
       "A tibble: 6 × 9\n",
       "\n",
       "| incident_ID &lt;chr&gt; | ID &lt;chr&gt; | year &lt;dbl&gt; | commodity &lt;chr&gt; | on_offshore &lt;chr&gt; | topic &lt;int&gt; | gamma &lt;dbl&gt; | label &lt;chr&gt; | cause_topic &lt;lgl&gt; |\n",
       "|---|---|---|---|---|---|---|---|---|\n",
       "| 20040015 | 19237 | 2004 | rpp | onshore | 1 | 0.03150599 | report_mngt    | FALSE |\n",
       "| 20040015 | 19237 | 2004 | rpp | onshore | 2 | 0.03150599 | spill_mngt     | FALSE |\n",
       "| 20040015 | 19237 | 2004 | rpp | onshore | 3 | 0.04599874 | excavation     |  TRUE |\n",
       "| 20040015 | 19237 | 2004 | rpp | onshore | 4 | 0.17643352 | water          |  TRUE |\n",
       "| 20040015 | 19237 | 2004 | rpp | onshore | 5 | 0.03150599 | control_center | FALSE |\n",
       "| 20040015 | 19237 | 2004 | rpp | onshore | 6 | 0.03150599 | service        | FALSE |\n",
       "\n"
      ],
      "text/plain": [
       "  incident_ID ID    year commodity on_offshore topic gamma      label         \n",
       "1 20040015    19237 2004 rpp       onshore     1     0.03150599 report_mngt   \n",
       "2 20040015    19237 2004 rpp       onshore     2     0.03150599 spill_mngt    \n",
       "3 20040015    19237 2004 rpp       onshore     3     0.04599874 excavation    \n",
       "4 20040015    19237 2004 rpp       onshore     4     0.17643352 water         \n",
       "5 20040015    19237 2004 rpp       onshore     5     0.03150599 control_center\n",
       "6 20040015    19237 2004 rpp       onshore     6     0.03150599 service       \n",
       "  cause_topic\n",
       "1 FALSE      \n",
       "2 FALSE      \n",
       "3  TRUE      \n",
       "4  TRUE      \n",
       "5 FALSE      \n",
       "6 FALSE      "
      ]
     },
     "metadata": {},
     "output_type": "display_data"
    }
   ],
   "source": [
    "head(gammas)"
   ]
  },
  {
   "cell_type": "code",
   "execution_count": 76,
   "metadata": {
    "execution": {
     "iopub.execute_input": "2020-11-10T19:12:35.775166Z",
     "iopub.status.busy": "2020-11-10T19:12:35.773839Z",
     "iopub.status.idle": "2020-11-10T19:12:35.834715Z",
     "shell.execute_reply": "2020-11-10T19:12:35.833531Z"
    },
    "slideshow": {
     "slide_type": "subslide"
    }
   },
   "outputs": [
    {
     "data": {
      "text/plain": [
       "\n",
       "   1 report_mngt    10 monitoring      11 pressure     12 corrosion \n",
       "               1                1                1                1 \n",
       "      13 gaskets        14 report      15 response         16 valve \n",
       "               1                1                1                1 \n",
       "         17 leak 18 contamination       19 release     2 spill_mngt \n",
       "               1                1                1                1 \n",
       "        20 spill          21 fire         22 tanks         23 crack \n",
       "               1                1                1                1 \n",
       "    3 excavation          4 water 5 control_center        6 service \n",
       "               1                1                1                1 \n",
       "         7 pumps     8 procedures      9 commodity \n",
       "               1                1                1 "
      ]
     },
     "metadata": {},
     "output_type": "display_data"
    }
   ],
   "source": [
    "table(unique(paste(gammas$topic, gammas$label)))"
   ]
  },
  {
   "cell_type": "code",
   "execution_count": 77,
   "metadata": {
    "execution": {
     "iopub.execute_input": "2020-11-10T19:12:35.839468Z",
     "iopub.status.busy": "2020-11-10T19:12:35.838181Z",
     "iopub.status.idle": "2020-11-10T19:12:35.873301Z",
     "shell.execute_reply": "2020-11-10T19:12:35.872058Z"
    },
    "slideshow": {
     "slide_type": "subslide"
    }
   },
   "outputs": [
    {
     "data": {
      "text/html": [
       "<table>\n",
       "<caption>A tibble: 6 × 3</caption>\n",
       "<thead>\n",
       "\t<tr><th scope=col>topic</th><th scope=col>label</th><th scope=col>cause_topic</th></tr>\n",
       "\t<tr><th scope=col>&lt;chr&gt;</th><th scope=col>&lt;chr&gt;</th><th scope=col>&lt;lgl&gt;</th></tr>\n",
       "</thead>\n",
       "<tbody>\n",
       "\t<tr><td>1</td><td>report_mngt   </td><td>FALSE</td></tr>\n",
       "\t<tr><td>2</td><td>spill_mngt    </td><td>FALSE</td></tr>\n",
       "\t<tr><td>3</td><td>excavation    </td><td> TRUE</td></tr>\n",
       "\t<tr><td>4</td><td>water         </td><td> TRUE</td></tr>\n",
       "\t<tr><td>5</td><td>control_center</td><td>FALSE</td></tr>\n",
       "\t<tr><td>6</td><td>service       </td><td>FALSE</td></tr>\n",
       "</tbody>\n",
       "</table>\n"
      ],
      "text/latex": [
       "A tibble: 6 × 3\n",
       "\\begin{tabular}{lll}\n",
       " topic & label & cause\\_topic\\\\\n",
       " <chr> & <chr> & <lgl>\\\\\n",
       "\\hline\n",
       "\t 1 & report\\_mngt    & FALSE\\\\\n",
       "\t 2 & spill\\_mngt     & FALSE\\\\\n",
       "\t 3 & excavation     &  TRUE\\\\\n",
       "\t 4 & water          &  TRUE\\\\\n",
       "\t 5 & control\\_center & FALSE\\\\\n",
       "\t 6 & service        & FALSE\\\\\n",
       "\\end{tabular}\n"
      ],
      "text/markdown": [
       "\n",
       "A tibble: 6 × 3\n",
       "\n",
       "| topic &lt;chr&gt; | label &lt;chr&gt; | cause_topic &lt;lgl&gt; |\n",
       "|---|---|---|\n",
       "| 1 | report_mngt    | FALSE |\n",
       "| 2 | spill_mngt     | FALSE |\n",
       "| 3 | excavation     |  TRUE |\n",
       "| 4 | water          |  TRUE |\n",
       "| 5 | control_center | FALSE |\n",
       "| 6 | service        | FALSE |\n",
       "\n"
      ],
      "text/plain": [
       "  topic label          cause_topic\n",
       "1 1     report_mngt    FALSE      \n",
       "2 2     spill_mngt     FALSE      \n",
       "3 3     excavation      TRUE      \n",
       "4 4     water           TRUE      \n",
       "5 5     control_center FALSE      \n",
       "6 6     service        FALSE      "
      ]
     },
     "metadata": {},
     "output_type": "display_data"
    }
   ],
   "source": [
    "labels <- distinct(select(gammas, topic, label, cause_topic))\n",
    "labels$topic <- as.character(labels$topic)\n",
    "head(labels)"
   ]
  },
  {
   "cell_type": "code",
   "execution_count": 78,
   "metadata": {
    "execution": {
     "iopub.execute_input": "2020-11-10T19:12:35.878216Z",
     "iopub.status.busy": "2020-11-10T19:12:35.876997Z",
     "iopub.status.idle": "2020-11-10T19:12:35.904129Z",
     "shell.execute_reply": "2020-11-10T19:12:35.902705Z"
    }
   },
   "outputs": [
    {
     "data": {
      "text/html": [
       "<table>\n",
       "<caption>A tibble: 6 × 9</caption>\n",
       "<thead>\n",
       "\t<tr><th scope=col>incident_ID</th><th scope=col>ID</th><th scope=col>year</th><th scope=col>commodity</th><th scope=col>on_offshore</th><th scope=col>topic</th><th scope=col>gamma</th><th scope=col>label</th><th scope=col>cause_topic</th></tr>\n",
       "\t<tr><th scope=col>&lt;chr&gt;</th><th scope=col>&lt;chr&gt;</th><th scope=col>&lt;dbl&gt;</th><th scope=col>&lt;chr&gt;</th><th scope=col>&lt;chr&gt;</th><th scope=col>&lt;int&gt;</th><th scope=col>&lt;dbl&gt;</th><th scope=col>&lt;chr&gt;</th><th scope=col>&lt;lgl&gt;</th></tr>\n",
       "</thead>\n",
       "<tbody>\n",
       "\t<tr><td>20040015</td><td>19237</td><td>2004</td><td>rpp</td><td>onshore</td><td>1</td><td>0.03150599</td><td>report_mngt   </td><td>FALSE</td></tr>\n",
       "\t<tr><td>20040015</td><td>19237</td><td>2004</td><td>rpp</td><td>onshore</td><td>2</td><td>0.03150599</td><td>spill_mngt    </td><td>FALSE</td></tr>\n",
       "\t<tr><td>20040015</td><td>19237</td><td>2004</td><td>rpp</td><td>onshore</td><td>3</td><td>0.04599874</td><td>excavation    </td><td> TRUE</td></tr>\n",
       "\t<tr><td>20040015</td><td>19237</td><td>2004</td><td>rpp</td><td>onshore</td><td>4</td><td>0.17643352</td><td>water         </td><td> TRUE</td></tr>\n",
       "\t<tr><td>20040015</td><td>19237</td><td>2004</td><td>rpp</td><td>onshore</td><td>5</td><td>0.03150599</td><td>control_center</td><td>FALSE</td></tr>\n",
       "\t<tr><td>20040015</td><td>19237</td><td>2004</td><td>rpp</td><td>onshore</td><td>6</td><td>0.03150599</td><td>service       </td><td>FALSE</td></tr>\n",
       "</tbody>\n",
       "</table>\n"
      ],
      "text/latex": [
       "A tibble: 6 × 9\n",
       "\\begin{tabular}{lllllllll}\n",
       " incident\\_ID & ID & year & commodity & on\\_offshore & topic & gamma & label & cause\\_topic\\\\\n",
       " <chr> & <chr> & <dbl> & <chr> & <chr> & <int> & <dbl> & <chr> & <lgl>\\\\\n",
       "\\hline\n",
       "\t 20040015 & 19237 & 2004 & rpp & onshore & 1 & 0.03150599 & report\\_mngt    & FALSE\\\\\n",
       "\t 20040015 & 19237 & 2004 & rpp & onshore & 2 & 0.03150599 & spill\\_mngt     & FALSE\\\\\n",
       "\t 20040015 & 19237 & 2004 & rpp & onshore & 3 & 0.04599874 & excavation     &  TRUE\\\\\n",
       "\t 20040015 & 19237 & 2004 & rpp & onshore & 4 & 0.17643352 & water          &  TRUE\\\\\n",
       "\t 20040015 & 19237 & 2004 & rpp & onshore & 5 & 0.03150599 & control\\_center & FALSE\\\\\n",
       "\t 20040015 & 19237 & 2004 & rpp & onshore & 6 & 0.03150599 & service        & FALSE\\\\\n",
       "\\end{tabular}\n"
      ],
      "text/markdown": [
       "\n",
       "A tibble: 6 × 9\n",
       "\n",
       "| incident_ID &lt;chr&gt; | ID &lt;chr&gt; | year &lt;dbl&gt; | commodity &lt;chr&gt; | on_offshore &lt;chr&gt; | topic &lt;int&gt; | gamma &lt;dbl&gt; | label &lt;chr&gt; | cause_topic &lt;lgl&gt; |\n",
       "|---|---|---|---|---|---|---|---|---|\n",
       "| 20040015 | 19237 | 2004 | rpp | onshore | 1 | 0.03150599 | report_mngt    | FALSE |\n",
       "| 20040015 | 19237 | 2004 | rpp | onshore | 2 | 0.03150599 | spill_mngt     | FALSE |\n",
       "| 20040015 | 19237 | 2004 | rpp | onshore | 3 | 0.04599874 | excavation     |  TRUE |\n",
       "| 20040015 | 19237 | 2004 | rpp | onshore | 4 | 0.17643352 | water          |  TRUE |\n",
       "| 20040015 | 19237 | 2004 | rpp | onshore | 5 | 0.03150599 | control_center | FALSE |\n",
       "| 20040015 | 19237 | 2004 | rpp | onshore | 6 | 0.03150599 | service        | FALSE |\n",
       "\n"
      ],
      "text/plain": [
       "  incident_ID ID    year commodity on_offshore topic gamma      label         \n",
       "1 20040015    19237 2004 rpp       onshore     1     0.03150599 report_mngt   \n",
       "2 20040015    19237 2004 rpp       onshore     2     0.03150599 spill_mngt    \n",
       "3 20040015    19237 2004 rpp       onshore     3     0.04599874 excavation    \n",
       "4 20040015    19237 2004 rpp       onshore     4     0.17643352 water         \n",
       "5 20040015    19237 2004 rpp       onshore     5     0.03150599 control_center\n",
       "6 20040015    19237 2004 rpp       onshore     6     0.03150599 service       \n",
       "  cause_topic\n",
       "1 FALSE      \n",
       "2 FALSE      \n",
       "3  TRUE      \n",
       "4  TRUE      \n",
       "5 FALSE      \n",
       "6 FALSE      "
      ]
     },
     "metadata": {},
     "output_type": "display_data"
    }
   ],
   "source": [
    "head(gammas)"
   ]
  },
  {
   "cell_type": "code",
   "execution_count": 79,
   "metadata": {
    "execution": {
     "iopub.execute_input": "2020-11-10T19:12:35.909639Z",
     "iopub.status.busy": "2020-11-10T19:12:35.908379Z",
     "iopub.status.idle": "2020-11-10T19:12:35.921624Z",
     "shell.execute_reply": "2020-11-10T19:12:35.920577Z"
    }
   },
   "outputs": [],
   "source": [
    "write_rds(labels, data_folder(\"labels.rds\"))"
   ]
  },
  {
   "cell_type": "code",
   "execution_count": 80,
   "metadata": {
    "execution": {
     "iopub.execute_input": "2020-11-10T19:12:35.926794Z",
     "iopub.status.busy": "2020-11-10T19:12:35.925337Z",
     "iopub.status.idle": "2020-11-10T19:12:36.091948Z",
     "shell.execute_reply": "2020-11-10T19:12:36.091096Z"
    }
   },
   "outputs": [
    {
     "name": "stderr",
     "output_type": "stream",
     "text": [
      "Joining, by = \"incident_ID\"\n",
      "\n"
     ]
    },
    {
     "data": {
      "text/html": [
       "<table>\n",
       "<caption>A tibble: 6 × 60</caption>\n",
       "<thead>\n",
       "\t<tr><th scope=col>incident_ID</th><th scope=col>DATAFILE_AS_OF</th><th scope=col>significant</th><th scope=col>serious</th><th scope=col>ID</th><th scope=col>name</th><th scope=col>state</th><th scope=col>on_offshore</th><th scope=col>system</th><th scope=col>item</th><th scope=col>⋯</th><th scope=col>topic_14</th><th scope=col>topic_15</th><th scope=col>topic_16</th><th scope=col>topic_17</th><th scope=col>topic_18</th><th scope=col>topic_19</th><th scope=col>topic_20</th><th scope=col>topic_21</th><th scope=col>topic_22</th><th scope=col>topic_23</th></tr>\n",
       "\t<tr><th scope=col>&lt;chr&gt;</th><th scope=col>&lt;dttm&gt;</th><th scope=col>&lt;lgl&gt;</th><th scope=col>&lt;lgl&gt;</th><th scope=col>&lt;chr&gt;</th><th scope=col>&lt;chr&gt;</th><th scope=col>&lt;chr&gt;</th><th scope=col>&lt;chr&gt;</th><th scope=col>&lt;chr&gt;</th><th scope=col>&lt;chr&gt;</th><th scope=col>⋯</th><th scope=col>&lt;dbl&gt;</th><th scope=col>&lt;dbl&gt;</th><th scope=col>&lt;dbl&gt;</th><th scope=col>&lt;dbl&gt;</th><th scope=col>&lt;dbl&gt;</th><th scope=col>&lt;dbl&gt;</th><th scope=col>&lt;dbl&gt;</th><th scope=col>&lt;dbl&gt;</th><th scope=col>&lt;dbl&gt;</th><th scope=col>&lt;dbl&gt;</th></tr>\n",
       "</thead>\n",
       "<tbody>\n",
       "\t<tr><td>20040015</td><td>2020-09-30 05:25:45</td><td>FALSE</td><td>FALSE</td><td>19237</td><td>Te Products Pipeline </td><td>AR</td><td>onshore</td><td>Above Ground Storage Tank                                                   </td><td>Other       </td><td>⋯</td><td>0.03150599</td><td>0.03150599</td><td>0.04599874</td><td>0.03150599</td><td>0.03150599</td><td>0.03150599</td><td>0.03150599</td><td>0.03150599</td><td>0.06049149</td><td>0.03150599</td></tr>\n",
       "\t<tr><td>20040018</td><td>2020-09-30 05:25:45</td><td> TRUE</td><td>FALSE</td><td>300  </td><td>All American Pipeline</td><td>TX</td><td>onshore</td><td>Pump/Meter Station; Terminal/Tank Farm Piping And Equipment, Including Sumps</td><td>Pump        </td><td>⋯</td><td>0.02587992</td><td>0.02587992</td><td>0.04968944</td><td>0.03778468</td><td>0.02587992</td><td>0.03778468</td><td>0.02587992</td><td>0.02587992</td><td>0.02587992</td><td>0.10921325</td></tr>\n",
       "\t<tr><td>20040025</td><td>2020-09-30 05:25:45</td><td> TRUE</td><td>FALSE</td><td>2371 </td><td>Ciniza Pipeline      </td><td>NM</td><td>onshore</td><td>Onshore Pipeline, Including Valve Sites                                     </td><td>Body Of Pipe</td><td>⋯</td><td>0.03952569</td><td>0.05770751</td><td>0.03952569</td><td>0.03952569</td><td>0.03952569</td><td>0.03952569</td><td>0.03952569</td><td>0.03952569</td><td>0.03952569</td><td>0.03952569</td></tr>\n",
       "\t<tr><td>20040026</td><td>2020-09-30 05:25:45</td><td>FALSE</td><td>FALSE</td><td>9175 </td><td>Jayhawk Pipeline     </td><td>KS</td><td>onshore</td><td>Pump/Meter Station; Terminal/Tank Farm Piping And Equipment, Including Sumps</td><td>Pump        </td><td>⋯</td><td>0.03396739</td><td>0.03396739</td><td>0.03396739</td><td>0.03396739</td><td>0.03396739</td><td>0.03396739</td><td>0.04959239</td><td>0.03396739</td><td>0.04959239</td><td>0.03396739</td></tr>\n",
       "\t<tr><td>20040027</td><td>2020-09-30 05:25:45</td><td>FALSE</td><td>FALSE</td><td>2552 </td><td>Colonial Pipeline    </td><td>NJ</td><td>onshore</td><td>Pump/Meter Station; Terminal/Tank Farm Piping And Equipment, Including Sumps</td><td>Valve       </td><td>⋯</td><td>0.02885375</td><td>0.03794466</td><td>0.09249012</td><td>0.02885375</td><td>0.04703557</td><td>0.01976285</td><td>0.01976285</td><td>0.02885375</td><td>0.02885375</td><td>0.01976285</td></tr>\n",
       "\t<tr><td>20040028</td><td>2020-09-30 05:25:45</td><td>FALSE</td><td>FALSE</td><td>31174</td><td>Shell Pipeline       </td><td>CA</td><td>onshore</td><td>Pump/Meter Station; Terminal/Tank Farm Piping And Equipment, Including Sumps</td><td>Pump        </td><td>⋯</td><td>0.03606719</td><td>0.04743083</td><td>0.03606719</td><td>0.03606719</td><td>0.05879447</td><td>0.03606719</td><td>0.03606719</td><td>0.11561265</td><td>0.03606719</td><td>0.02470356</td></tr>\n",
       "</tbody>\n",
       "</table>\n"
      ],
      "text/latex": [
       "A tibble: 6 × 60\n",
       "\\begin{tabular}{lllllllllllllllllllll}\n",
       " incident\\_ID & DATAFILE\\_AS\\_OF & significant & serious & ID & name & state & on\\_offshore & system & item & ⋯ & topic\\_14 & topic\\_15 & topic\\_16 & topic\\_17 & topic\\_18 & topic\\_19 & topic\\_20 & topic\\_21 & topic\\_22 & topic\\_23\\\\\n",
       " <chr> & <dttm> & <lgl> & <lgl> & <chr> & <chr> & <chr> & <chr> & <chr> & <chr> & ⋯ & <dbl> & <dbl> & <dbl> & <dbl> & <dbl> & <dbl> & <dbl> & <dbl> & <dbl> & <dbl>\\\\\n",
       "\\hline\n",
       "\t 20040015 & 2020-09-30 05:25:45 & FALSE & FALSE & 19237 & Te Products Pipeline  & AR & onshore & Above Ground Storage Tank                                                    & Other        & ⋯ & 0.03150599 & 0.03150599 & 0.04599874 & 0.03150599 & 0.03150599 & 0.03150599 & 0.03150599 & 0.03150599 & 0.06049149 & 0.03150599\\\\\n",
       "\t 20040018 & 2020-09-30 05:25:45 &  TRUE & FALSE & 300   & All American Pipeline & TX & onshore & Pump/Meter Station; Terminal/Tank Farm Piping And Equipment, Including Sumps & Pump         & ⋯ & 0.02587992 & 0.02587992 & 0.04968944 & 0.03778468 & 0.02587992 & 0.03778468 & 0.02587992 & 0.02587992 & 0.02587992 & 0.10921325\\\\\n",
       "\t 20040025 & 2020-09-30 05:25:45 &  TRUE & FALSE & 2371  & Ciniza Pipeline       & NM & onshore & Onshore Pipeline, Including Valve Sites                                      & Body Of Pipe & ⋯ & 0.03952569 & 0.05770751 & 0.03952569 & 0.03952569 & 0.03952569 & 0.03952569 & 0.03952569 & 0.03952569 & 0.03952569 & 0.03952569\\\\\n",
       "\t 20040026 & 2020-09-30 05:25:45 & FALSE & FALSE & 9175  & Jayhawk Pipeline      & KS & onshore & Pump/Meter Station; Terminal/Tank Farm Piping And Equipment, Including Sumps & Pump         & ⋯ & 0.03396739 & 0.03396739 & 0.03396739 & 0.03396739 & 0.03396739 & 0.03396739 & 0.04959239 & 0.03396739 & 0.04959239 & 0.03396739\\\\\n",
       "\t 20040027 & 2020-09-30 05:25:45 & FALSE & FALSE & 2552  & Colonial Pipeline     & NJ & onshore & Pump/Meter Station; Terminal/Tank Farm Piping And Equipment, Including Sumps & Valve        & ⋯ & 0.02885375 & 0.03794466 & 0.09249012 & 0.02885375 & 0.04703557 & 0.01976285 & 0.01976285 & 0.02885375 & 0.02885375 & 0.01976285\\\\\n",
       "\t 20040028 & 2020-09-30 05:25:45 & FALSE & FALSE & 31174 & Shell Pipeline        & CA & onshore & Pump/Meter Station; Terminal/Tank Farm Piping And Equipment, Including Sumps & Pump         & ⋯ & 0.03606719 & 0.04743083 & 0.03606719 & 0.03606719 & 0.05879447 & 0.03606719 & 0.03606719 & 0.11561265 & 0.03606719 & 0.02470356\\\\\n",
       "\\end{tabular}\n"
      ],
      "text/markdown": [
       "\n",
       "A tibble: 6 × 60\n",
       "\n",
       "| incident_ID &lt;chr&gt; | DATAFILE_AS_OF &lt;dttm&gt; | significant &lt;lgl&gt; | serious &lt;lgl&gt; | ID &lt;chr&gt; | name &lt;chr&gt; | state &lt;chr&gt; | on_offshore &lt;chr&gt; | system &lt;chr&gt; | item &lt;chr&gt; | ⋯ ⋯ | topic_14 &lt;dbl&gt; | topic_15 &lt;dbl&gt; | topic_16 &lt;dbl&gt; | topic_17 &lt;dbl&gt; | topic_18 &lt;dbl&gt; | topic_19 &lt;dbl&gt; | topic_20 &lt;dbl&gt; | topic_21 &lt;dbl&gt; | topic_22 &lt;dbl&gt; | topic_23 &lt;dbl&gt; |\n",
       "|---|---|---|---|---|---|---|---|---|---|---|---|---|---|---|---|---|---|---|---|---|\n",
       "| 20040015 | 2020-09-30 05:25:45 | FALSE | FALSE | 19237 | Te Products Pipeline  | AR | onshore | Above Ground Storage Tank                                                    | Other        | ⋯ | 0.03150599 | 0.03150599 | 0.04599874 | 0.03150599 | 0.03150599 | 0.03150599 | 0.03150599 | 0.03150599 | 0.06049149 | 0.03150599 |\n",
       "| 20040018 | 2020-09-30 05:25:45 |  TRUE | FALSE | 300   | All American Pipeline | TX | onshore | Pump/Meter Station; Terminal/Tank Farm Piping And Equipment, Including Sumps | Pump         | ⋯ | 0.02587992 | 0.02587992 | 0.04968944 | 0.03778468 | 0.02587992 | 0.03778468 | 0.02587992 | 0.02587992 | 0.02587992 | 0.10921325 |\n",
       "| 20040025 | 2020-09-30 05:25:45 |  TRUE | FALSE | 2371  | Ciniza Pipeline       | NM | onshore | Onshore Pipeline, Including Valve Sites                                      | Body Of Pipe | ⋯ | 0.03952569 | 0.05770751 | 0.03952569 | 0.03952569 | 0.03952569 | 0.03952569 | 0.03952569 | 0.03952569 | 0.03952569 | 0.03952569 |\n",
       "| 20040026 | 2020-09-30 05:25:45 | FALSE | FALSE | 9175  | Jayhawk Pipeline      | KS | onshore | Pump/Meter Station; Terminal/Tank Farm Piping And Equipment, Including Sumps | Pump         | ⋯ | 0.03396739 | 0.03396739 | 0.03396739 | 0.03396739 | 0.03396739 | 0.03396739 | 0.04959239 | 0.03396739 | 0.04959239 | 0.03396739 |\n",
       "| 20040027 | 2020-09-30 05:25:45 | FALSE | FALSE | 2552  | Colonial Pipeline     | NJ | onshore | Pump/Meter Station; Terminal/Tank Farm Piping And Equipment, Including Sumps | Valve        | ⋯ | 0.02885375 | 0.03794466 | 0.09249012 | 0.02885375 | 0.04703557 | 0.01976285 | 0.01976285 | 0.02885375 | 0.02885375 | 0.01976285 |\n",
       "| 20040028 | 2020-09-30 05:25:45 | FALSE | FALSE | 31174 | Shell Pipeline        | CA | onshore | Pump/Meter Station; Terminal/Tank Farm Piping And Equipment, Including Sumps | Pump         | ⋯ | 0.03606719 | 0.04743083 | 0.03606719 | 0.03606719 | 0.05879447 | 0.03606719 | 0.03606719 | 0.11561265 | 0.03606719 | 0.02470356 |\n",
       "\n"
      ],
      "text/plain": [
       "  incident_ID DATAFILE_AS_OF      significant serious ID   \n",
       "1 20040015    2020-09-30 05:25:45 FALSE       FALSE   19237\n",
       "2 20040018    2020-09-30 05:25:45  TRUE       FALSE   300  \n",
       "3 20040025    2020-09-30 05:25:45  TRUE       FALSE   2371 \n",
       "4 20040026    2020-09-30 05:25:45 FALSE       FALSE   9175 \n",
       "5 20040027    2020-09-30 05:25:45 FALSE       FALSE   2552 \n",
       "6 20040028    2020-09-30 05:25:45 FALSE       FALSE   31174\n",
       "  name                  state on_offshore\n",
       "1 Te Products Pipeline  AR    onshore    \n",
       "2 All American Pipeline TX    onshore    \n",
       "3 Ciniza Pipeline       NM    onshore    \n",
       "4 Jayhawk Pipeline      KS    onshore    \n",
       "5 Colonial Pipeline     NJ    onshore    \n",
       "6 Shell Pipeline        CA    onshore    \n",
       "  system                                                                      \n",
       "1 Above Ground Storage Tank                                                   \n",
       "2 Pump/Meter Station; Terminal/Tank Farm Piping And Equipment, Including Sumps\n",
       "3 Onshore Pipeline, Including Valve Sites                                     \n",
       "4 Pump/Meter Station; Terminal/Tank Farm Piping And Equipment, Including Sumps\n",
       "5 Pump/Meter Station; Terminal/Tank Farm Piping And Equipment, Including Sumps\n",
       "6 Pump/Meter Station; Terminal/Tank Farm Piping And Equipment, Including Sumps\n",
       "  item         ⋯ topic_14   topic_15   topic_16   topic_17   topic_18  \n",
       "1 Other        ⋯ 0.03150599 0.03150599 0.04599874 0.03150599 0.03150599\n",
       "2 Pump         ⋯ 0.02587992 0.02587992 0.04968944 0.03778468 0.02587992\n",
       "3 Body Of Pipe ⋯ 0.03952569 0.05770751 0.03952569 0.03952569 0.03952569\n",
       "4 Pump         ⋯ 0.03396739 0.03396739 0.03396739 0.03396739 0.03396739\n",
       "5 Valve        ⋯ 0.02885375 0.03794466 0.09249012 0.02885375 0.04703557\n",
       "6 Pump         ⋯ 0.03606719 0.04743083 0.03606719 0.03606719 0.05879447\n",
       "  topic_19   topic_20   topic_21   topic_22   topic_23  \n",
       "1 0.03150599 0.03150599 0.03150599 0.06049149 0.03150599\n",
       "2 0.03778468 0.02587992 0.02587992 0.02587992 0.10921325\n",
       "3 0.03952569 0.03952569 0.03952569 0.03952569 0.03952569\n",
       "4 0.03396739 0.04959239 0.03396739 0.04959239 0.03396739\n",
       "5 0.01976285 0.01976285 0.02885375 0.02885375 0.01976285\n",
       "6 0.03606719 0.03606719 0.11561265 0.03606719 0.02470356"
      ]
     },
     "metadata": {},
     "output_type": "display_data"
    }
   ],
   "source": [
    "incidents <- readRDS(data_folder(\"incidents_merged.rds\"))\n",
    "incidents_gammas <- gammas %>%\n",
    "    select(incident_ID, topic, gamma) %>%\n",
    "    pivot_wider(incident_ID, names_from = topic, values_from = gamma, names_prefix = \"topic_\") %>%\n",
    "    right_join(incidents) %>%\n",
    "    select(-starts_with(\"topic_\"), starts_with(\"topic_\")) # Move topic columns to back\n",
    "head(incidents_gammas)"
   ]
  },
  {
   "cell_type": "code",
   "execution_count": 81,
   "metadata": {
    "execution": {
     "iopub.execute_input": "2020-11-10T19:12:36.096761Z",
     "iopub.status.busy": "2020-11-10T19:12:36.095452Z",
     "iopub.status.idle": "2020-11-10T19:12:36.146308Z",
     "shell.execute_reply": "2020-11-10T19:12:36.145085Z"
    },
    "slideshow": {
     "slide_type": "subslide"
    }
   },
   "outputs": [],
   "source": [
    "write_rds(incidents_gammas, data_folder(\"incidents_topics.rds\"))"
   ]
  }
 ],
 "metadata": {
  "jupytext": {
   "formats": "ipynb,Rmd"
  },
  "kernelspec": {
   "display_name": "R",
   "language": "R",
   "name": "ir"
  },
  "language_info": {
   "codemirror_mode": "r",
   "file_extension": ".r",
   "mimetype": "text/x-r-source",
   "name": "R",
   "pygments_lexer": "r",
   "version": "3.6.3"
  }
 },
 "nbformat": 4,
 "nbformat_minor": 4
}
